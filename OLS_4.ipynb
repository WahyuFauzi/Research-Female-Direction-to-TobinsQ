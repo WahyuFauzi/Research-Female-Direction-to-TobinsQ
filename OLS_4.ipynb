{
 "cells": [
  {
   "cell_type": "code",
   "execution_count": 1,
   "id": "046c1a20-b1cd-4845-9595-fa120f32f51f",
   "metadata": {
    "tags": []
   },
   "outputs": [],
   "source": [
    "import scipy\n",
    "import pandas as pd\n",
    "import numpy as np\n",
    "import statsmodels.api as sm"
   ]
  },
  {
   "cell_type": "raw",
   "id": "15740c56-0b5b-42f1-a666-6342123bfad3",
   "metadata": {},
   "source": [
    "Pada bagian ini data akan dibersihkan dahulu\n",
    "Data kemudian akan diuji dengan teknik OLS untuk melihat pengaruh dan signifikansi data\n",
    "\n",
    "\n",
    "* nampaknya variabel jumlah direksi perempuan membuat data mengalami gejala heterokedastisitas"
   ]
  },
  {
   "cell_type": "code",
   "execution_count": 2,
   "id": "cd5adea4-5b9a-4567-b551-8438d2634ef9",
   "metadata": {},
   "outputs": [
    {
     "data": {
      "text/plain": [
       "Direksi Perempuan    int64\n",
       "Direksi Laki-Laki    int64\n",
       "Harga penutupan      int64\n",
       "Total Shares         int64\n",
       "Total Utang          int64\n",
       "Total Asset          int64\n",
       "dtype: object"
      ]
     },
     "execution_count": 2,
     "metadata": {},
     "output_type": "execute_result"
    }
   ],
   "source": [
    "df = pd.read_csv(\"Data.csv\", sep=\";\")\n",
    "df.dtypes"
   ]
  },
  {
   "cell_type": "code",
   "execution_count": 3,
   "id": "254b0387-cde9-410d-be05-cd31d572d27b",
   "metadata": {},
   "outputs": [],
   "source": [
    "#X = (df['Direksi Perempuan'])/(df['Direksi Perempuan'] + df['Direksi Laki-Laki'])\n",
    "X = df[\"Direksi Perempuan\"]\n",
    "nilai_pasar = df[\"Total Shares\"] * df[\"Harga penutupan\"]\n",
    "np_plus_liability = nilai_pasar + df[\"Total Utang\"]\n",
    "#Y = np_plus_liability / df[\"Total Asset\"]\n",
    "Y = nilai_pasar / df[\"Total Asset\"]\n",
    "\n",
    "data = pd.DataFrame({\"X\":X, \"Y\":Y})\n",
    "X_mean = np.mean(data[\"X\"])\n",
    "X_std = np.std(data[\"X\"])\n",
    "Y_mean = np.mean(data[\"Y\"])\n",
    "Y_std = np.std(data[\"Y\"])"
   ]
  },
  {
   "cell_type": "code",
   "execution_count": 4,
   "id": "eaa6172f-c313-40fa-850c-4ef2f7cce5a4",
   "metadata": {
    "tags": []
   },
   "outputs": [
    {
     "data": {
      "text/html": [
       "<div>\n",
       "<style scoped>\n",
       "    .dataframe tbody tr th:only-of-type {\n",
       "        vertical-align: middle;\n",
       "    }\n",
       "\n",
       "    .dataframe tbody tr th {\n",
       "        vertical-align: top;\n",
       "    }\n",
       "\n",
       "    .dataframe thead th {\n",
       "        text-align: right;\n",
       "    }\n",
       "</style>\n",
       "<table border=\"1\" class=\"dataframe\">\n",
       "  <thead>\n",
       "    <tr style=\"text-align: right;\">\n",
       "      <th></th>\n",
       "      <th>X</th>\n",
       "      <th>Y</th>\n",
       "    </tr>\n",
       "  </thead>\n",
       "  <tbody>\n",
       "    <tr>\n",
       "      <th>count</th>\n",
       "      <td>150.000000</td>\n",
       "      <td>150.000000</td>\n",
       "    </tr>\n",
       "    <tr>\n",
       "      <th>mean</th>\n",
       "      <td>1.326667</td>\n",
       "      <td>0.523041</td>\n",
       "    </tr>\n",
       "    <tr>\n",
       "      <th>std</th>\n",
       "      <td>1.217857</td>\n",
       "      <td>2.069191</td>\n",
       "    </tr>\n",
       "    <tr>\n",
       "      <th>min</th>\n",
       "      <td>0.000000</td>\n",
       "      <td>0.007332</td>\n",
       "    </tr>\n",
       "    <tr>\n",
       "      <th>25%</th>\n",
       "      <td>0.000000</td>\n",
       "      <td>0.100060</td>\n",
       "    </tr>\n",
       "    <tr>\n",
       "      <th>50%</th>\n",
       "      <td>1.000000</td>\n",
       "      <td>0.146972</td>\n",
       "    </tr>\n",
       "    <tr>\n",
       "      <th>75%</th>\n",
       "      <td>2.000000</td>\n",
       "      <td>0.284729</td>\n",
       "    </tr>\n",
       "    <tr>\n",
       "      <th>max</th>\n",
       "      <td>6.000000</td>\n",
       "      <td>18.006205</td>\n",
       "    </tr>\n",
       "  </tbody>\n",
       "</table>\n",
       "</div>"
      ],
      "text/plain": [
       "                X           Y\n",
       "count  150.000000  150.000000\n",
       "mean     1.326667    0.523041\n",
       "std      1.217857    2.069191\n",
       "min      0.000000    0.007332\n",
       "25%      0.000000    0.100060\n",
       "50%      1.000000    0.146972\n",
       "75%      2.000000    0.284729\n",
       "max      6.000000   18.006205"
      ]
     },
     "execution_count": 4,
     "metadata": {},
     "output_type": "execute_result"
    }
   ],
   "source": [
    "data_sample = pd.DataFrame({\"X\": X, \"Y\": Y})\n",
    "data_sample.describe()"
   ]
  },
  {
   "cell_type": "code",
   "execution_count": 5,
   "id": "1a4ecbd8-f223-4dd8-9b09-2d8ebbaad7f4",
   "metadata": {
    "tags": []
   },
   "outputs": [],
   "source": [
    "# data_sample.drop(data_sample[data_sample[\"X\"] == 0].index, inplace=True)\n",
    "# np.size(np.where(data_sample[\"X\"] == 0))"
   ]
  },
  {
   "cell_type": "code",
   "execution_count": 6,
   "id": "64bfb377-f5eb-4e76-917c-a09f1683ffa0",
   "metadata": {
    "tags": []
   },
   "outputs": [
    {
     "data": {
      "text/html": [
       "<table class=\"simpletable\">\n",
       "<caption>OLS Regression Results</caption>\n",
       "<tr>\n",
       "  <th>Dep. Variable:</th>            <td>Y</td>        <th>  R-squared:         </th> <td>   0.005</td>\n",
       "</tr>\n",
       "<tr>\n",
       "  <th>Model:</th>                   <td>OLS</td>       <th>  Adj. R-squared:    </th> <td>  -0.002</td>\n",
       "</tr>\n",
       "<tr>\n",
       "  <th>Method:</th>             <td>Least Squares</td>  <th>  F-statistic:       </th> <td>  0.7489</td>\n",
       "</tr>\n",
       "<tr>\n",
       "  <th>Date:</th>             <td>Thu, 11 May 2023</td> <th>  Prob (F-statistic):</th>  <td> 0.388</td> \n",
       "</tr>\n",
       "<tr>\n",
       "  <th>Time:</th>                 <td>20:04:11</td>     <th>  Log-Likelihood:    </th> <td> -321.03</td>\n",
       "</tr>\n",
       "<tr>\n",
       "  <th>No. Observations:</th>      <td>   150</td>      <th>  AIC:               </th> <td>   646.1</td>\n",
       "</tr>\n",
       "<tr>\n",
       "  <th>Df Residuals:</th>          <td>   148</td>      <th>  BIC:               </th> <td>   652.1</td>\n",
       "</tr>\n",
       "<tr>\n",
       "  <th>Df Model:</th>              <td>     1</td>      <th>                     </th>     <td> </td>   \n",
       "</tr>\n",
       "<tr>\n",
       "  <th>Covariance Type:</th>      <td>nonrobust</td>    <th>                     </th>     <td> </td>   \n",
       "</tr>\n",
       "</table>\n",
       "<table class=\"simpletable\">\n",
       "<tr>\n",
       "    <td></td>       <th>coef</th>     <th>std err</th>      <th>t</th>      <th>P>|t|</th>  <th>[0.025</th>    <th>0.975]</th>  \n",
       "</tr>\n",
       "<tr>\n",
       "  <th>const</th> <td>    0.6830</td> <td>    0.250</td> <td>    2.726</td> <td> 0.007</td> <td>    0.188</td> <td>    1.178</td>\n",
       "</tr>\n",
       "<tr>\n",
       "  <th>X</th>     <td>   -0.1206</td> <td>    0.139</td> <td>   -0.865</td> <td> 0.388</td> <td>   -0.396</td> <td>    0.155</td>\n",
       "</tr>\n",
       "</table>\n",
       "<table class=\"simpletable\">\n",
       "<tr>\n",
       "  <th>Omnibus:</th>       <td>256.997</td> <th>  Durbin-Watson:     </th> <td>   0.879</td> \n",
       "</tr>\n",
       "<tr>\n",
       "  <th>Prob(Omnibus):</th> <td> 0.000</td>  <th>  Jarque-Bera (JB):  </th> <td>27230.546</td>\n",
       "</tr>\n",
       "<tr>\n",
       "  <th>Skew:</th>          <td> 7.971</td>  <th>  Prob(JB):          </th> <td>    0.00</td> \n",
       "</tr>\n",
       "<tr>\n",
       "  <th>Kurtosis:</th>      <td>67.053</td>  <th>  Cond. No.          </th> <td>    3.17</td> \n",
       "</tr>\n",
       "</table><br/><br/>Notes:<br/>[1] Standard Errors assume that the covariance matrix of the errors is correctly specified."
      ],
      "text/latex": [
       "\\begin{center}\n",
       "\\begin{tabular}{lclc}\n",
       "\\toprule\n",
       "\\textbf{Dep. Variable:}    &        Y         & \\textbf{  R-squared:         } &     0.005   \\\\\n",
       "\\textbf{Model:}            &       OLS        & \\textbf{  Adj. R-squared:    } &    -0.002   \\\\\n",
       "\\textbf{Method:}           &  Least Squares   & \\textbf{  F-statistic:       } &    0.7489   \\\\\n",
       "\\textbf{Date:}             & Thu, 11 May 2023 & \\textbf{  Prob (F-statistic):} &    0.388    \\\\\n",
       "\\textbf{Time:}             &     20:04:11     & \\textbf{  Log-Likelihood:    } &   -321.03   \\\\\n",
       "\\textbf{No. Observations:} &         150      & \\textbf{  AIC:               } &     646.1   \\\\\n",
       "\\textbf{Df Residuals:}     &         148      & \\textbf{  BIC:               } &     652.1   \\\\\n",
       "\\textbf{Df Model:}         &           1      & \\textbf{                     } &             \\\\\n",
       "\\textbf{Covariance Type:}  &    nonrobust     & \\textbf{                     } &             \\\\\n",
       "\\bottomrule\n",
       "\\end{tabular}\n",
       "\\begin{tabular}{lcccccc}\n",
       "               & \\textbf{coef} & \\textbf{std err} & \\textbf{t} & \\textbf{P$> |$t$|$} & \\textbf{[0.025} & \\textbf{0.975]}  \\\\\n",
       "\\midrule\n",
       "\\textbf{const} &       0.6830  &        0.250     &     2.726  &         0.007        &        0.188    &        1.178     \\\\\n",
       "\\textbf{X}     &      -0.1206  &        0.139     &    -0.865  &         0.388        &       -0.396    &        0.155     \\\\\n",
       "\\bottomrule\n",
       "\\end{tabular}\n",
       "\\begin{tabular}{lclc}\n",
       "\\textbf{Omnibus:}       & 256.997 & \\textbf{  Durbin-Watson:     } &     0.879  \\\\\n",
       "\\textbf{Prob(Omnibus):} &   0.000 & \\textbf{  Jarque-Bera (JB):  } & 27230.546  \\\\\n",
       "\\textbf{Skew:}          &   7.971 & \\textbf{  Prob(JB):          } &      0.00  \\\\\n",
       "\\textbf{Kurtosis:}      &  67.053 & \\textbf{  Cond. No.          } &      3.17  \\\\\n",
       "\\bottomrule\n",
       "\\end{tabular}\n",
       "%\\caption{OLS Regression Results}\n",
       "\\end{center}\n",
       "\n",
       "Notes: \\newline\n",
       " [1] Standard Errors assume that the covariance matrix of the errors is correctly specified."
      ],
      "text/plain": [
       "<class 'statsmodels.iolib.summary.Summary'>\n",
       "\"\"\"\n",
       "                            OLS Regression Results                            \n",
       "==============================================================================\n",
       "Dep. Variable:                      Y   R-squared:                       0.005\n",
       "Model:                            OLS   Adj. R-squared:                 -0.002\n",
       "Method:                 Least Squares   F-statistic:                    0.7489\n",
       "Date:                Thu, 11 May 2023   Prob (F-statistic):              0.388\n",
       "Time:                        20:04:11   Log-Likelihood:                -321.03\n",
       "No. Observations:                 150   AIC:                             646.1\n",
       "Df Residuals:                     148   BIC:                             652.1\n",
       "Df Model:                           1                                         \n",
       "Covariance Type:            nonrobust                                         \n",
       "==============================================================================\n",
       "                 coef    std err          t      P>|t|      [0.025      0.975]\n",
       "------------------------------------------------------------------------------\n",
       "const          0.6830      0.250      2.726      0.007       0.188       1.178\n",
       "X             -0.1206      0.139     -0.865      0.388      -0.396       0.155\n",
       "==============================================================================\n",
       "Omnibus:                      256.997   Durbin-Watson:                   0.879\n",
       "Prob(Omnibus):                  0.000   Jarque-Bera (JB):            27230.546\n",
       "Skew:                           7.971   Prob(JB):                         0.00\n",
       "Kurtosis:                      67.053   Cond. No.                         3.17\n",
       "==============================================================================\n",
       "\n",
       "Notes:\n",
       "[1] Standard Errors assume that the covariance matrix of the errors is correctly specified.\n",
       "\"\"\""
      ]
     },
     "execution_count": 6,
     "metadata": {},
     "output_type": "execute_result"
    }
   ],
   "source": [
    "X_with_constant = sm.add_constant(data_sample[\"X\"])\n",
    "result = sm.OLS(data_sample[\"Y\"], X_with_constant).fit()\n",
    "result.summary()"
   ]
  },
  {
   "cell_type": "code",
   "execution_count": 7,
   "id": "eb56aa9d-0fba-42ae-b67e-62015f1e2a7c",
   "metadata": {
    "tags": []
   },
   "outputs": [],
   "source": [
    "bX = data_sample[\"X\"] * result.params[0]\n",
    "abs_residual = np.abs(data_sample[\"Y\"] - result.params[\"const\"] - bX)"
   ]
  },
  {
   "cell_type": "code",
   "execution_count": 8,
   "id": "fd559962-86d3-4a0e-8b42-33c4bda316fc",
   "metadata": {},
   "outputs": [
    {
     "data": {
      "text/html": [
       "<table class=\"simpletable\">\n",
       "<caption>OLS Regression Results</caption>\n",
       "<tr>\n",
       "  <th>Dep. Variable:</th>            <td>y</td>        <th>  R-squared:         </th> <td>   0.156</td>\n",
       "</tr>\n",
       "<tr>\n",
       "  <th>Model:</th>                   <td>OLS</td>       <th>  Adj. R-squared:    </th> <td>   0.150</td>\n",
       "</tr>\n",
       "<tr>\n",
       "  <th>Method:</th>             <td>Least Squares</td>  <th>  F-statistic:       </th> <td>   27.27</td>\n",
       "</tr>\n",
       "<tr>\n",
       "  <th>Date:</th>             <td>Thu, 11 May 2023</td> <th>  Prob (F-statistic):</th> <td>5.89e-07</td>\n",
       "</tr>\n",
       "<tr>\n",
       "  <th>Time:</th>                 <td>20:04:11</td>     <th>  Log-Likelihood:    </th> <td> -298.27</td>\n",
       "</tr>\n",
       "<tr>\n",
       "  <th>No. Observations:</th>      <td>   150</td>      <th>  AIC:               </th> <td>   600.5</td>\n",
       "</tr>\n",
       "<tr>\n",
       "  <th>Df Residuals:</th>          <td>   148</td>      <th>  BIC:               </th> <td>   606.6</td>\n",
       "</tr>\n",
       "<tr>\n",
       "  <th>Df Model:</th>              <td>     1</td>      <th>                     </th>     <td> </td>   \n",
       "</tr>\n",
       "<tr>\n",
       "  <th>Covariance Type:</th>      <td>nonrobust</td>    <th>                     </th>     <td> </td>   \n",
       "</tr>\n",
       "</table>\n",
       "<table class=\"simpletable\">\n",
       "<tr>\n",
       "    <td></td>       <th>coef</th>     <th>std err</th>      <th>t</th>      <th>P>|t|</th>  <th>[0.025</th>    <th>0.975]</th>  \n",
       "</tr>\n",
       "<tr>\n",
       "  <th>const</th> <td>    0.7893</td> <td>    0.215</td> <td>    3.667</td> <td> 0.000</td> <td>    0.364</td> <td>    1.215</td>\n",
       "</tr>\n",
       "<tr>\n",
       "  <th>X</th>     <td>    0.6251</td> <td>    0.120</td> <td>    5.222</td> <td> 0.000</td> <td>    0.389</td> <td>    0.862</td>\n",
       "</tr>\n",
       "</table>\n",
       "<table class=\"simpletable\">\n",
       "<tr>\n",
       "  <th>Omnibus:</th>       <td>263.387</td> <th>  Durbin-Watson:     </th> <td>   1.001</td> \n",
       "</tr>\n",
       "<tr>\n",
       "  <th>Prob(Omnibus):</th> <td> 0.000</td>  <th>  Jarque-Bera (JB):  </th> <td>30726.503</td>\n",
       "</tr>\n",
       "<tr>\n",
       "  <th>Skew:</th>          <td> 8.315</td>  <th>  Prob(JB):          </th> <td>    0.00</td> \n",
       "</tr>\n",
       "<tr>\n",
       "  <th>Kurtosis:</th>      <td>71.115</td>  <th>  Cond. No.          </th> <td>    3.17</td> \n",
       "</tr>\n",
       "</table><br/><br/>Notes:<br/>[1] Standard Errors assume that the covariance matrix of the errors is correctly specified."
      ],
      "text/latex": [
       "\\begin{center}\n",
       "\\begin{tabular}{lclc}\n",
       "\\toprule\n",
       "\\textbf{Dep. Variable:}    &        y         & \\textbf{  R-squared:         } &     0.156   \\\\\n",
       "\\textbf{Model:}            &       OLS        & \\textbf{  Adj. R-squared:    } &     0.150   \\\\\n",
       "\\textbf{Method:}           &  Least Squares   & \\textbf{  F-statistic:       } &     27.27   \\\\\n",
       "\\textbf{Date:}             & Thu, 11 May 2023 & \\textbf{  Prob (F-statistic):} &  5.89e-07   \\\\\n",
       "\\textbf{Time:}             &     20:04:11     & \\textbf{  Log-Likelihood:    } &   -298.27   \\\\\n",
       "\\textbf{No. Observations:} &         150      & \\textbf{  AIC:               } &     600.5   \\\\\n",
       "\\textbf{Df Residuals:}     &         148      & \\textbf{  BIC:               } &     606.6   \\\\\n",
       "\\textbf{Df Model:}         &           1      & \\textbf{                     } &             \\\\\n",
       "\\textbf{Covariance Type:}  &    nonrobust     & \\textbf{                     } &             \\\\\n",
       "\\bottomrule\n",
       "\\end{tabular}\n",
       "\\begin{tabular}{lcccccc}\n",
       "               & \\textbf{coef} & \\textbf{std err} & \\textbf{t} & \\textbf{P$> |$t$|$} & \\textbf{[0.025} & \\textbf{0.975]}  \\\\\n",
       "\\midrule\n",
       "\\textbf{const} &       0.7893  &        0.215     &     3.667  &         0.000        &        0.364    &        1.215     \\\\\n",
       "\\textbf{X}     &       0.6251  &        0.120     &     5.222  &         0.000        &        0.389    &        0.862     \\\\\n",
       "\\bottomrule\n",
       "\\end{tabular}\n",
       "\\begin{tabular}{lclc}\n",
       "\\textbf{Omnibus:}       & 263.387 & \\textbf{  Durbin-Watson:     } &     1.001  \\\\\n",
       "\\textbf{Prob(Omnibus):} &   0.000 & \\textbf{  Jarque-Bera (JB):  } & 30726.503  \\\\\n",
       "\\textbf{Skew:}          &   8.315 & \\textbf{  Prob(JB):          } &      0.00  \\\\\n",
       "\\textbf{Kurtosis:}      &  71.115 & \\textbf{  Cond. No.          } &      3.17  \\\\\n",
       "\\bottomrule\n",
       "\\end{tabular}\n",
       "%\\caption{OLS Regression Results}\n",
       "\\end{center}\n",
       "\n",
       "Notes: \\newline\n",
       " [1] Standard Errors assume that the covariance matrix of the errors is correctly specified."
      ],
      "text/plain": [
       "<class 'statsmodels.iolib.summary.Summary'>\n",
       "\"\"\"\n",
       "                            OLS Regression Results                            \n",
       "==============================================================================\n",
       "Dep. Variable:                      y   R-squared:                       0.156\n",
       "Model:                            OLS   Adj. R-squared:                  0.150\n",
       "Method:                 Least Squares   F-statistic:                     27.27\n",
       "Date:                Thu, 11 May 2023   Prob (F-statistic):           5.89e-07\n",
       "Time:                        20:04:11   Log-Likelihood:                -298.27\n",
       "No. Observations:                 150   AIC:                             600.5\n",
       "Df Residuals:                     148   BIC:                             606.6\n",
       "Df Model:                           1                                         \n",
       "Covariance Type:            nonrobust                                         \n",
       "==============================================================================\n",
       "                 coef    std err          t      P>|t|      [0.025      0.975]\n",
       "------------------------------------------------------------------------------\n",
       "const          0.7893      0.215      3.667      0.000       0.364       1.215\n",
       "X              0.6251      0.120      5.222      0.000       0.389       0.862\n",
       "==============================================================================\n",
       "Omnibus:                      263.387   Durbin-Watson:                   1.001\n",
       "Prob(Omnibus):                  0.000   Jarque-Bera (JB):            30726.503\n",
       "Skew:                           8.315   Prob(JB):                         0.00\n",
       "Kurtosis:                      71.115   Cond. No.                         3.17\n",
       "==============================================================================\n",
       "\n",
       "Notes:\n",
       "[1] Standard Errors assume that the covariance matrix of the errors is correctly specified.\n",
       "\"\"\""
      ]
     },
     "execution_count": 8,
     "metadata": {},
     "output_type": "execute_result"
    }
   ],
   "source": [
    "hetero_result = sm.OLS(abs_residual, X_with_constant).fit()\n",
    "hetero_result.summary()"
   ]
  },
  {
   "cell_type": "code",
   "execution_count": 9,
   "id": "0b3aa3c9-21ff-4dbf-8662-2180b56c7cc0",
   "metadata": {
    "tags": []
   },
   "outputs": [],
   "source": [
    "XQ3,XQ1 = np.percentile(data_sample[\"X\"], [75 ,25])\n",
    "XIQR = XQ3 - XQ1 "
   ]
  },
  {
   "cell_type": "code",
   "execution_count": 10,
   "id": "df3a9035-4d1f-405e-8749-a91450c7052b",
   "metadata": {
    "tags": []
   },
   "outputs": [],
   "source": [
    "lower_X = XQ1 - (1.5 * XIQR)\n",
    "upper_X = XQ3 + (1.5 * XIQR)"
   ]
  },
  {
   "cell_type": "code",
   "execution_count": 11,
   "id": "170f2087-a9a6-4a2c-9ce9-2a6d5a326947",
   "metadata": {
    "tags": []
   },
   "outputs": [
    {
     "data": {
      "text/plain": [
       "70    6\n",
       "71    6\n",
       "72    6\n",
       "Name: X, dtype: int64"
      ]
     },
     "execution_count": 11,
     "metadata": {},
     "output_type": "execute_result"
    }
   ],
   "source": [
    "data_sample[\"X\"][(data_sample[\"X\"] < lower_X) | (data_sample[\"X\"] > upper_X)]"
   ]
  },
  {
   "cell_type": "code",
   "execution_count": 12,
   "id": "ced5a8b0-c902-4a69-91b4-cb66e803f5e2",
   "metadata": {
    "tags": []
   },
   "outputs": [],
   "source": [
    "data_sample.drop(data_sample[\"X\"][(data_sample[\"X\"] < lower_X) | (data_sample[\"X\"] > upper_X)].index, inplace=True)"
   ]
  },
  {
   "cell_type": "code",
   "execution_count": 13,
   "id": "9df5e80a-f224-472e-afce-3618c7a5f3ef",
   "metadata": {
    "tags": []
   },
   "outputs": [],
   "source": [
    "YQ3,YQ1 = np.percentile(data_sample['Y'], [75 ,25])\n",
    "YIQR = YQ3 - YQ1 "
   ]
  },
  {
   "cell_type": "code",
   "execution_count": 14,
   "id": "2de41fda-cd44-4955-ad46-93dd6a4652d7",
   "metadata": {
    "tags": []
   },
   "outputs": [],
   "source": [
    "lower_Y = YQ1 - (1.5 * YIQR)\n",
    "upper_Y = YQ3 + (1.5 * YIQR)"
   ]
  },
  {
   "cell_type": "code",
   "execution_count": 15,
   "id": "df12475e-fa7c-43e8-9cc9-92952b7560a3",
   "metadata": {
    "tags": []
   },
   "outputs": [],
   "source": [
    "data_sample.drop(data_sample[\"Y\"][(data_sample[\"Y\"] < lower_Y) | (data_sample[\"Y\"] > upper_Y)].index, inplace=True)"
   ]
  },
  {
   "cell_type": "code",
   "execution_count": 16,
   "id": "2bace5d1-4bd8-4a9d-93fd-ac7637c69b52",
   "metadata": {
    "tags": []
   },
   "outputs": [
    {
     "data": {
      "text/html": [
       "<div>\n",
       "<style scoped>\n",
       "    .dataframe tbody tr th:only-of-type {\n",
       "        vertical-align: middle;\n",
       "    }\n",
       "\n",
       "    .dataframe tbody tr th {\n",
       "        vertical-align: top;\n",
       "    }\n",
       "\n",
       "    .dataframe thead th {\n",
       "        text-align: right;\n",
       "    }\n",
       "</style>\n",
       "<table border=\"1\" class=\"dataframe\">\n",
       "  <thead>\n",
       "    <tr style=\"text-align: right;\">\n",
       "      <th></th>\n",
       "      <th>X</th>\n",
       "      <th>Y</th>\n",
       "    </tr>\n",
       "  </thead>\n",
       "  <tbody>\n",
       "    <tr>\n",
       "      <th>count</th>\n",
       "      <td>131.000000</td>\n",
       "      <td>131.000000</td>\n",
       "    </tr>\n",
       "    <tr>\n",
       "      <th>mean</th>\n",
       "      <td>1.328244</td>\n",
       "      <td>0.172250</td>\n",
       "    </tr>\n",
       "    <tr>\n",
       "      <th>std</th>\n",
       "      <td>1.026141</td>\n",
       "      <td>0.114009</td>\n",
       "    </tr>\n",
       "    <tr>\n",
       "      <th>min</th>\n",
       "      <td>0.000000</td>\n",
       "      <td>0.007332</td>\n",
       "    </tr>\n",
       "    <tr>\n",
       "      <th>25%</th>\n",
       "      <td>1.000000</td>\n",
       "      <td>0.096075</td>\n",
       "    </tr>\n",
       "    <tr>\n",
       "      <th>50%</th>\n",
       "      <td>1.000000</td>\n",
       "      <td>0.135867</td>\n",
       "    </tr>\n",
       "    <tr>\n",
       "      <th>75%</th>\n",
       "      <td>2.000000</td>\n",
       "      <td>0.207618</td>\n",
       "    </tr>\n",
       "    <tr>\n",
       "      <th>max</th>\n",
       "      <td>4.000000</td>\n",
       "      <td>0.576045</td>\n",
       "    </tr>\n",
       "  </tbody>\n",
       "</table>\n",
       "</div>"
      ],
      "text/plain": [
       "                X           Y\n",
       "count  131.000000  131.000000\n",
       "mean     1.328244    0.172250\n",
       "std      1.026141    0.114009\n",
       "min      0.000000    0.007332\n",
       "25%      1.000000    0.096075\n",
       "50%      1.000000    0.135867\n",
       "75%      2.000000    0.207618\n",
       "max      4.000000    0.576045"
      ]
     },
     "execution_count": 16,
     "metadata": {},
     "output_type": "execute_result"
    }
   ],
   "source": [
    "data_sample.describe()"
   ]
  },
  {
   "cell_type": "code",
   "execution_count": 17,
   "id": "7402085b-b96e-4d95-be0d-969c28efa595",
   "metadata": {
    "tags": []
   },
   "outputs": [
    {
     "data": {
      "text/html": [
       "<table class=\"simpletable\">\n",
       "<caption>OLS Regression Results</caption>\n",
       "<tr>\n",
       "  <th>Dep. Variable:</th>            <td>Y</td>        <th>  R-squared:         </th> <td>   0.024</td>\n",
       "</tr>\n",
       "<tr>\n",
       "  <th>Model:</th>                   <td>OLS</td>       <th>  Adj. R-squared:    </th> <td>   0.017</td>\n",
       "</tr>\n",
       "<tr>\n",
       "  <th>Method:</th>             <td>Least Squares</td>  <th>  F-statistic:       </th> <td>   3.231</td>\n",
       "</tr>\n",
       "<tr>\n",
       "  <th>Date:</th>             <td>Thu, 11 May 2023</td> <th>  Prob (F-statistic):</th>  <td>0.0746</td> \n",
       "</tr>\n",
       "<tr>\n",
       "  <th>Time:</th>                 <td>20:04:12</td>     <th>  Log-Likelihood:    </th> <td>  100.70</td>\n",
       "</tr>\n",
       "<tr>\n",
       "  <th>No. Observations:</th>      <td>   131</td>      <th>  AIC:               </th> <td>  -197.4</td>\n",
       "</tr>\n",
       "<tr>\n",
       "  <th>Df Residuals:</th>          <td>   129</td>      <th>  BIC:               </th> <td>  -191.7</td>\n",
       "</tr>\n",
       "<tr>\n",
       "  <th>Df Model:</th>              <td>     1</td>      <th>                     </th>     <td> </td>   \n",
       "</tr>\n",
       "<tr>\n",
       "  <th>Covariance Type:</th>      <td>nonrobust</td>    <th>                     </th>     <td> </td>   \n",
       "</tr>\n",
       "</table>\n",
       "<table class=\"simpletable\">\n",
       "<tr>\n",
       "    <td></td>       <th>coef</th>     <th>std err</th>      <th>t</th>      <th>P>|t|</th>  <th>[0.025</th>    <th>0.975]</th>  \n",
       "</tr>\n",
       "<tr>\n",
       "  <th>const</th> <td>    0.1492</td> <td>    0.016</td> <td>    9.212</td> <td> 0.000</td> <td>    0.117</td> <td>    0.181</td>\n",
       "</tr>\n",
       "<tr>\n",
       "  <th>X</th>     <td>    0.0174</td> <td>    0.010</td> <td>    1.798</td> <td> 0.075</td> <td>   -0.002</td> <td>    0.036</td>\n",
       "</tr>\n",
       "</table>\n",
       "<table class=\"simpletable\">\n",
       "<tr>\n",
       "  <th>Omnibus:</th>       <td>29.359</td> <th>  Durbin-Watson:     </th> <td>   0.923</td>\n",
       "</tr>\n",
       "<tr>\n",
       "  <th>Prob(Omnibus):</th> <td> 0.000</td> <th>  Jarque-Bera (JB):  </th> <td>  40.298</td>\n",
       "</tr>\n",
       "<tr>\n",
       "  <th>Skew:</th>          <td> 1.253</td> <th>  Prob(JB):          </th> <td>1.78e-09</td>\n",
       "</tr>\n",
       "<tr>\n",
       "  <th>Kurtosis:</th>      <td> 4.048</td> <th>  Cond. No.          </th> <td>    3.44</td>\n",
       "</tr>\n",
       "</table><br/><br/>Notes:<br/>[1] Standard Errors assume that the covariance matrix of the errors is correctly specified."
      ],
      "text/latex": [
       "\\begin{center}\n",
       "\\begin{tabular}{lclc}\n",
       "\\toprule\n",
       "\\textbf{Dep. Variable:}    &        Y         & \\textbf{  R-squared:         } &     0.024   \\\\\n",
       "\\textbf{Model:}            &       OLS        & \\textbf{  Adj. R-squared:    } &     0.017   \\\\\n",
       "\\textbf{Method:}           &  Least Squares   & \\textbf{  F-statistic:       } &     3.231   \\\\\n",
       "\\textbf{Date:}             & Thu, 11 May 2023 & \\textbf{  Prob (F-statistic):} &   0.0746    \\\\\n",
       "\\textbf{Time:}             &     20:04:12     & \\textbf{  Log-Likelihood:    } &    100.70   \\\\\n",
       "\\textbf{No. Observations:} &         131      & \\textbf{  AIC:               } &    -197.4   \\\\\n",
       "\\textbf{Df Residuals:}     &         129      & \\textbf{  BIC:               } &    -191.7   \\\\\n",
       "\\textbf{Df Model:}         &           1      & \\textbf{                     } &             \\\\\n",
       "\\textbf{Covariance Type:}  &    nonrobust     & \\textbf{                     } &             \\\\\n",
       "\\bottomrule\n",
       "\\end{tabular}\n",
       "\\begin{tabular}{lcccccc}\n",
       "               & \\textbf{coef} & \\textbf{std err} & \\textbf{t} & \\textbf{P$> |$t$|$} & \\textbf{[0.025} & \\textbf{0.975]}  \\\\\n",
       "\\midrule\n",
       "\\textbf{const} &       0.1492  &        0.016     &     9.212  &         0.000        &        0.117    &        0.181     \\\\\n",
       "\\textbf{X}     &       0.0174  &        0.010     &     1.798  &         0.075        &       -0.002    &        0.036     \\\\\n",
       "\\bottomrule\n",
       "\\end{tabular}\n",
       "\\begin{tabular}{lclc}\n",
       "\\textbf{Omnibus:}       & 29.359 & \\textbf{  Durbin-Watson:     } &    0.923  \\\\\n",
       "\\textbf{Prob(Omnibus):} &  0.000 & \\textbf{  Jarque-Bera (JB):  } &   40.298  \\\\\n",
       "\\textbf{Skew:}          &  1.253 & \\textbf{  Prob(JB):          } & 1.78e-09  \\\\\n",
       "\\textbf{Kurtosis:}      &  4.048 & \\textbf{  Cond. No.          } &     3.44  \\\\\n",
       "\\bottomrule\n",
       "\\end{tabular}\n",
       "%\\caption{OLS Regression Results}\n",
       "\\end{center}\n",
       "\n",
       "Notes: \\newline\n",
       " [1] Standard Errors assume that the covariance matrix of the errors is correctly specified."
      ],
      "text/plain": [
       "<class 'statsmodels.iolib.summary.Summary'>\n",
       "\"\"\"\n",
       "                            OLS Regression Results                            \n",
       "==============================================================================\n",
       "Dep. Variable:                      Y   R-squared:                       0.024\n",
       "Model:                            OLS   Adj. R-squared:                  0.017\n",
       "Method:                 Least Squares   F-statistic:                     3.231\n",
       "Date:                Thu, 11 May 2023   Prob (F-statistic):             0.0746\n",
       "Time:                        20:04:12   Log-Likelihood:                 100.70\n",
       "No. Observations:                 131   AIC:                            -197.4\n",
       "Df Residuals:                     129   BIC:                            -191.7\n",
       "Df Model:                           1                                         \n",
       "Covariance Type:            nonrobust                                         \n",
       "==============================================================================\n",
       "                 coef    std err          t      P>|t|      [0.025      0.975]\n",
       "------------------------------------------------------------------------------\n",
       "const          0.1492      0.016      9.212      0.000       0.117       0.181\n",
       "X              0.0174      0.010      1.798      0.075      -0.002       0.036\n",
       "==============================================================================\n",
       "Omnibus:                       29.359   Durbin-Watson:                   0.923\n",
       "Prob(Omnibus):                  0.000   Jarque-Bera (JB):               40.298\n",
       "Skew:                           1.253   Prob(JB):                     1.78e-09\n",
       "Kurtosis:                       4.048   Cond. No.                         3.44\n",
       "==============================================================================\n",
       "\n",
       "Notes:\n",
       "[1] Standard Errors assume that the covariance matrix of the errors is correctly specified.\n",
       "\"\"\""
      ]
     },
     "execution_count": 17,
     "metadata": {},
     "output_type": "execute_result"
    }
   ],
   "source": [
    "X_with_constant = sm.add_constant(data_sample[\"X\"])\n",
    "result = sm.OLS(data_sample[\"Y\"], X_with_constant).fit()\n",
    "result.summary()"
   ]
  },
  {
   "cell_type": "code",
   "execution_count": 18,
   "id": "19459625-0d19-465b-bb77-97071054064e",
   "metadata": {
    "tags": []
   },
   "outputs": [],
   "source": [
    "bX = data_sample[\"X\"] * result.params[\"X\"]"
   ]
  },
  {
   "cell_type": "code",
   "execution_count": 19,
   "id": "2587e74e-d66d-418e-9d70-398f042d3d35",
   "metadata": {
    "tags": []
   },
   "outputs": [],
   "source": [
    "# Y = a + bX + e\n",
    "# e = Y - a - bX\n",
    "\n",
    "abs_residual = np.abs(data_sample[\"Y\"] - result.params[\"const\"] - bX)"
   ]
  },
  {
   "cell_type": "code",
   "execution_count": 20,
   "id": "5e613d94-eea1-4c13-9acd-74efe7d69ecf",
   "metadata": {
    "tags": []
   },
   "outputs": [
    {
     "data": {
      "text/html": [
       "<table class=\"simpletable\">\n",
       "<caption>OLS Regression Results</caption>\n",
       "<tr>\n",
       "  <th>Dep. Variable:</th>            <td>y</td>        <th>  R-squared:         </th> <td>   0.007</td>\n",
       "</tr>\n",
       "<tr>\n",
       "  <th>Model:</th>                   <td>OLS</td>       <th>  Adj. R-squared:    </th> <td>  -0.001</td>\n",
       "</tr>\n",
       "<tr>\n",
       "  <th>Method:</th>             <td>Least Squares</td>  <th>  F-statistic:       </th> <td>  0.8809</td>\n",
       "</tr>\n",
       "<tr>\n",
       "  <th>Date:</th>             <td>Thu, 11 May 2023</td> <th>  Prob (F-statistic):</th>  <td> 0.350</td> \n",
       "</tr>\n",
       "<tr>\n",
       "  <th>Time:</th>                 <td>20:04:12</td>     <th>  Log-Likelihood:    </th> <td>  160.61</td>\n",
       "</tr>\n",
       "<tr>\n",
       "  <th>No. Observations:</th>      <td>   131</td>      <th>  AIC:               </th> <td>  -317.2</td>\n",
       "</tr>\n",
       "<tr>\n",
       "  <th>Df Residuals:</th>          <td>   129</td>      <th>  BIC:               </th> <td>  -311.5</td>\n",
       "</tr>\n",
       "<tr>\n",
       "  <th>Df Model:</th>              <td>     1</td>      <th>                     </th>     <td> </td>   \n",
       "</tr>\n",
       "<tr>\n",
       "  <th>Covariance Type:</th>      <td>nonrobust</td>    <th>                     </th>     <td> </td>   \n",
       "</tr>\n",
       "</table>\n",
       "<table class=\"simpletable\">\n",
       "<tr>\n",
       "    <td></td>       <th>coef</th>     <th>std err</th>      <th>t</th>      <th>P>|t|</th>  <th>[0.025</th>    <th>0.975]</th>  \n",
       "</tr>\n",
       "<tr>\n",
       "  <th>const</th> <td>    0.0790</td> <td>    0.010</td> <td>    7.709</td> <td> 0.000</td> <td>    0.059</td> <td>    0.099</td>\n",
       "</tr>\n",
       "<tr>\n",
       "  <th>X</th>     <td>    0.0057</td> <td>    0.006</td> <td>    0.939</td> <td> 0.350</td> <td>   -0.006</td> <td>    0.018</td>\n",
       "</tr>\n",
       "</table>\n",
       "<table class=\"simpletable\">\n",
       "<tr>\n",
       "  <th>Omnibus:</th>       <td>51.310</td> <th>  Durbin-Watson:     </th> <td>   1.215</td>\n",
       "</tr>\n",
       "<tr>\n",
       "  <th>Prob(Omnibus):</th> <td> 0.000</td> <th>  Jarque-Bera (JB):  </th> <td> 127.903</td>\n",
       "</tr>\n",
       "<tr>\n",
       "  <th>Skew:</th>          <td> 1.582</td> <th>  Prob(JB):          </th> <td>1.68e-28</td>\n",
       "</tr>\n",
       "<tr>\n",
       "  <th>Kurtosis:</th>      <td> 6.663</td> <th>  Cond. No.          </th> <td>    3.44</td>\n",
       "</tr>\n",
       "</table><br/><br/>Notes:<br/>[1] Standard Errors assume that the covariance matrix of the errors is correctly specified."
      ],
      "text/latex": [
       "\\begin{center}\n",
       "\\begin{tabular}{lclc}\n",
       "\\toprule\n",
       "\\textbf{Dep. Variable:}    &        y         & \\textbf{  R-squared:         } &     0.007   \\\\\n",
       "\\textbf{Model:}            &       OLS        & \\textbf{  Adj. R-squared:    } &    -0.001   \\\\\n",
       "\\textbf{Method:}           &  Least Squares   & \\textbf{  F-statistic:       } &    0.8809   \\\\\n",
       "\\textbf{Date:}             & Thu, 11 May 2023 & \\textbf{  Prob (F-statistic):} &    0.350    \\\\\n",
       "\\textbf{Time:}             &     20:04:12     & \\textbf{  Log-Likelihood:    } &    160.61   \\\\\n",
       "\\textbf{No. Observations:} &         131      & \\textbf{  AIC:               } &    -317.2   \\\\\n",
       "\\textbf{Df Residuals:}     &         129      & \\textbf{  BIC:               } &    -311.5   \\\\\n",
       "\\textbf{Df Model:}         &           1      & \\textbf{                     } &             \\\\\n",
       "\\textbf{Covariance Type:}  &    nonrobust     & \\textbf{                     } &             \\\\\n",
       "\\bottomrule\n",
       "\\end{tabular}\n",
       "\\begin{tabular}{lcccccc}\n",
       "               & \\textbf{coef} & \\textbf{std err} & \\textbf{t} & \\textbf{P$> |$t$|$} & \\textbf{[0.025} & \\textbf{0.975]}  \\\\\n",
       "\\midrule\n",
       "\\textbf{const} &       0.0790  &        0.010     &     7.709  &         0.000        &        0.059    &        0.099     \\\\\n",
       "\\textbf{X}     &       0.0057  &        0.006     &     0.939  &         0.350        &       -0.006    &        0.018     \\\\\n",
       "\\bottomrule\n",
       "\\end{tabular}\n",
       "\\begin{tabular}{lclc}\n",
       "\\textbf{Omnibus:}       & 51.310 & \\textbf{  Durbin-Watson:     } &    1.215  \\\\\n",
       "\\textbf{Prob(Omnibus):} &  0.000 & \\textbf{  Jarque-Bera (JB):  } &  127.903  \\\\\n",
       "\\textbf{Skew:}          &  1.582 & \\textbf{  Prob(JB):          } & 1.68e-28  \\\\\n",
       "\\textbf{Kurtosis:}      &  6.663 & \\textbf{  Cond. No.          } &     3.44  \\\\\n",
       "\\bottomrule\n",
       "\\end{tabular}\n",
       "%\\caption{OLS Regression Results}\n",
       "\\end{center}\n",
       "\n",
       "Notes: \\newline\n",
       " [1] Standard Errors assume that the covariance matrix of the errors is correctly specified."
      ],
      "text/plain": [
       "<class 'statsmodels.iolib.summary.Summary'>\n",
       "\"\"\"\n",
       "                            OLS Regression Results                            \n",
       "==============================================================================\n",
       "Dep. Variable:                      y   R-squared:                       0.007\n",
       "Model:                            OLS   Adj. R-squared:                 -0.001\n",
       "Method:                 Least Squares   F-statistic:                    0.8809\n",
       "Date:                Thu, 11 May 2023   Prob (F-statistic):              0.350\n",
       "Time:                        20:04:12   Log-Likelihood:                 160.61\n",
       "No. Observations:                 131   AIC:                            -317.2\n",
       "Df Residuals:                     129   BIC:                            -311.5\n",
       "Df Model:                           1                                         \n",
       "Covariance Type:            nonrobust                                         \n",
       "==============================================================================\n",
       "                 coef    std err          t      P>|t|      [0.025      0.975]\n",
       "------------------------------------------------------------------------------\n",
       "const          0.0790      0.010      7.709      0.000       0.059       0.099\n",
       "X              0.0057      0.006      0.939      0.350      -0.006       0.018\n",
       "==============================================================================\n",
       "Omnibus:                       51.310   Durbin-Watson:                   1.215\n",
       "Prob(Omnibus):                  0.000   Jarque-Bera (JB):              127.903\n",
       "Skew:                           1.582   Prob(JB):                     1.68e-28\n",
       "Kurtosis:                       6.663   Cond. No.                         3.44\n",
       "==============================================================================\n",
       "\n",
       "Notes:\n",
       "[1] Standard Errors assume that the covariance matrix of the errors is correctly specified.\n",
       "\"\"\""
      ]
     },
     "execution_count": 20,
     "metadata": {},
     "output_type": "execute_result"
    }
   ],
   "source": [
    "hetero_result = sm.OLS(abs_residual, X_with_constant).fit()\n",
    "hetero_result.summary()"
   ]
  }
 ],
 "metadata": {
  "kernelspec": {
   "display_name": "Python 3 (ipykernel)",
   "language": "python",
   "name": "python3"
  },
  "language_info": {
   "codemirror_mode": {
    "name": "ipython",
    "version": 3
   },
   "file_extension": ".py",
   "mimetype": "text/x-python",
   "name": "python",
   "nbconvert_exporter": "python",
   "pygments_lexer": "ipython3",
   "version": "3.11.3"
  }
 },
 "nbformat": 4,
 "nbformat_minor": 5
}

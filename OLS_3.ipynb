{
 "cells": [
  {
   "cell_type": "code",
   "execution_count": 4,
   "id": "046c1a20-b1cd-4845-9595-fa120f32f51f",
   "metadata": {
    "tags": []
   },
   "outputs": [],
   "source": [
    "import scipy\n",
    "import pandas as pd\n",
    "import numpy as np\n",
    "import statsmodels.api as sm"
   ]
  },
  {
   "cell_type": "raw",
   "id": "15740c56-0b5b-42f1-a666-6342123bfad3",
   "metadata": {},
   "source": [
    "Pada bagian ini data akan dibersihkan dahulu\n",
    "Data kemudian akan diuji dengan teknik OLS untuk melihat pengaruh dan signifikansi data\n",
    "\n",
    "\n",
    "* nampaknya variabel jumlah direksi perempuan membuat data mengalami gejala heterokedastisitas"
   ]
  },
  {
   "cell_type": "code",
   "execution_count": 5,
   "id": "cd5adea4-5b9a-4567-b551-8438d2634ef9",
   "metadata": {},
   "outputs": [
    {
     "data": {
      "text/plain": [
       "Direksi Perempuan      int64\n",
       "Direksi Laki-Laki      int64\n",
       "Proporsi Perempuan    object\n",
       "Harga penutupan        int64\n",
       "Total Shares           int64\n",
       "Total Utang            int64\n",
       "Total Asset            int64\n",
       "dtype: object"
      ]
     },
     "execution_count": 5,
     "metadata": {},
     "output_type": "execute_result"
    }
   ],
   "source": [
    "df = pd.read_csv(\"Data.csv\")\n",
    "df.dtypes"
   ]
  },
  {
   "cell_type": "code",
   "execution_count": 6,
   "id": "254b0387-cde9-410d-be05-cd31d572d27b",
   "metadata": {},
   "outputs": [],
   "source": [
    "#X = (df['Direksi Perempuan'])/(df['Direksi Perempuan'] + df['Direksi Laki-Laki'])\n",
    "X = df[\"Direksi Perempuan\"]\n",
    "nilai_pasar = df[\"Total Shares\"] * df[\"Harga penutupan\"]\n",
    "np_plus_liability = nilai_pasar + df[\"Total Utang\"]\n",
    "Y = np_plus_liability / df[\"Total Asset\"]\n",
    "#Y = nilai_pasar / df[\"Total Asset\"]\n",
    "\n",
    "data = pd.DataFrame({\"X\":X, \"Y\":Y})\n",
    "X_mean = np.mean(data[\"X\"])\n",
    "X_std = np.std(data[\"X\"])\n",
    "Y_mean = np.mean(data[\"Y\"])\n",
    "Y_std = np.std(data[\"Y\"])"
   ]
  },
  {
   "cell_type": "code",
   "execution_count": 7,
   "id": "eaa6172f-c313-40fa-850c-4ef2f7cce5a4",
   "metadata": {
    "tags": []
   },
   "outputs": [
    {
     "data": {
      "text/html": [
       "<div>\n",
       "<style scoped>\n",
       "    .dataframe tbody tr th:only-of-type {\n",
       "        vertical-align: middle;\n",
       "    }\n",
       "\n",
       "    .dataframe tbody tr th {\n",
       "        vertical-align: top;\n",
       "    }\n",
       "\n",
       "    .dataframe thead th {\n",
       "        text-align: right;\n",
       "    }\n",
       "</style>\n",
       "<table border=\"1\" class=\"dataframe\">\n",
       "  <thead>\n",
       "    <tr style=\"text-align: right;\">\n",
       "      <th></th>\n",
       "      <th>X</th>\n",
       "      <th>Y</th>\n",
       "    </tr>\n",
       "  </thead>\n",
       "  <tbody>\n",
       "    <tr>\n",
       "      <th>count</th>\n",
       "      <td>155.000000</td>\n",
       "      <td>155.000000</td>\n",
       "    </tr>\n",
       "    <tr>\n",
       "      <th>mean</th>\n",
       "      <td>1.406452</td>\n",
       "      <td>1.285914</td>\n",
       "    </tr>\n",
       "    <tr>\n",
       "      <th>std</th>\n",
       "      <td>1.277664</td>\n",
       "      <td>1.987625</td>\n",
       "    </tr>\n",
       "    <tr>\n",
       "      <th>min</th>\n",
       "      <td>0.000000</td>\n",
       "      <td>0.159993</td>\n",
       "    </tr>\n",
       "    <tr>\n",
       "      <th>25%</th>\n",
       "      <td>0.500000</td>\n",
       "      <td>0.929432</td>\n",
       "    </tr>\n",
       "    <tr>\n",
       "      <th>50%</th>\n",
       "      <td>1.000000</td>\n",
       "      <td>0.973140</td>\n",
       "    </tr>\n",
       "    <tr>\n",
       "      <th>75%</th>\n",
       "      <td>2.000000</td>\n",
       "      <td>1.124461</td>\n",
       "    </tr>\n",
       "    <tr>\n",
       "      <th>max</th>\n",
       "      <td>6.000000</td>\n",
       "      <td>18.327231</td>\n",
       "    </tr>\n",
       "  </tbody>\n",
       "</table>\n",
       "</div>"
      ],
      "text/plain": [
       "                X           Y\n",
       "count  155.000000  155.000000\n",
       "mean     1.406452    1.285914\n",
       "std      1.277664    1.987625\n",
       "min      0.000000    0.159993\n",
       "25%      0.500000    0.929432\n",
       "50%      1.000000    0.973140\n",
       "75%      2.000000    1.124461\n",
       "max      6.000000   18.327231"
      ]
     },
     "execution_count": 7,
     "metadata": {},
     "output_type": "execute_result"
    }
   ],
   "source": [
    "data_sample = pd.DataFrame({\"X\": X, \"Y\": Y})\n",
    "data_sample.describe()"
   ]
  },
  {
   "cell_type": "code",
   "execution_count": 8,
   "id": "1a4ecbd8-f223-4dd8-9b09-2d8ebbaad7f4",
   "metadata": {
    "tags": []
   },
   "outputs": [],
   "source": [
    "# data_sample.drop(data_sample[data_sample[\"X\"] == 0].index, inplace=True)\n",
    "# np.size(np.where(data_sample[\"X\"] == 0))"
   ]
  },
  {
   "cell_type": "code",
   "execution_count": 9,
   "id": "64bfb377-f5eb-4e76-917c-a09f1683ffa0",
   "metadata": {
    "tags": []
   },
   "outputs": [
    {
     "data": {
      "text/html": [
       "<table class=\"simpletable\">\n",
       "<caption>OLS Regression Results</caption>\n",
       "<tr>\n",
       "  <th>Dep. Variable:</th>            <td>Y</td>        <th>  R-squared:         </th> <td>   0.004</td>\n",
       "</tr>\n",
       "<tr>\n",
       "  <th>Model:</th>                   <td>OLS</td>       <th>  Adj. R-squared:    </th> <td>  -0.003</td>\n",
       "</tr>\n",
       "<tr>\n",
       "  <th>Method:</th>             <td>Least Squares</td>  <th>  F-statistic:       </th> <td>  0.5772</td>\n",
       "</tr>\n",
       "<tr>\n",
       "  <th>Date:</th>             <td>Tue, 16 May 2023</td> <th>  Prob (F-statistic):</th>  <td> 0.449</td> \n",
       "</tr>\n",
       "<tr>\n",
       "  <th>Time:</th>                 <td>00:12:44</td>     <th>  Log-Likelihood:    </th> <td> -325.62</td>\n",
       "</tr>\n",
       "<tr>\n",
       "  <th>No. Observations:</th>      <td>   155</td>      <th>  AIC:               </th> <td>   655.2</td>\n",
       "</tr>\n",
       "<tr>\n",
       "  <th>Df Residuals:</th>          <td>   153</td>      <th>  BIC:               </th> <td>   661.3</td>\n",
       "</tr>\n",
       "<tr>\n",
       "  <th>Df Model:</th>              <td>     1</td>      <th>                     </th>     <td> </td>   \n",
       "</tr>\n",
       "<tr>\n",
       "  <th>Covariance Type:</th>      <td>nonrobust</td>    <th>                     </th>     <td> </td>   \n",
       "</tr>\n",
       "</table>\n",
       "<table class=\"simpletable\">\n",
       "<tr>\n",
       "    <td></td>       <th>coef</th>     <th>std err</th>      <th>t</th>      <th>P>|t|</th>  <th>[0.025</th>    <th>0.975]</th>  \n",
       "</tr>\n",
       "<tr>\n",
       "  <th>const</th> <td>    1.4201</td> <td>    0.238</td> <td>    5.962</td> <td> 0.000</td> <td>    0.950</td> <td>    1.891</td>\n",
       "</tr>\n",
       "<tr>\n",
       "  <th>X</th>     <td>   -0.0954</td> <td>    0.126</td> <td>   -0.760</td> <td> 0.449</td> <td>   -0.343</td> <td>    0.153</td>\n",
       "</tr>\n",
       "</table>\n",
       "<table class=\"simpletable\">\n",
       "<tr>\n",
       "  <th>Omnibus:</th>       <td>266.544</td> <th>  Durbin-Watson:     </th> <td>   0.888</td> \n",
       "</tr>\n",
       "<tr>\n",
       "  <th>Prob(Omnibus):</th> <td> 0.000</td>  <th>  Jarque-Bera (JB):  </th> <td>30212.481</td>\n",
       "</tr>\n",
       "<tr>\n",
       "  <th>Skew:</th>          <td> 8.108</td>  <th>  Prob(JB):          </th> <td>    0.00</td> \n",
       "</tr>\n",
       "<tr>\n",
       "  <th>Kurtosis:</th>      <td>69.446</td>  <th>  Cond. No.          </th> <td>    3.31</td> \n",
       "</tr>\n",
       "</table><br/><br/>Notes:<br/>[1] Standard Errors assume that the covariance matrix of the errors is correctly specified."
      ],
      "text/latex": [
       "\\begin{center}\n",
       "\\begin{tabular}{lclc}\n",
       "\\toprule\n",
       "\\textbf{Dep. Variable:}    &        Y         & \\textbf{  R-squared:         } &     0.004   \\\\\n",
       "\\textbf{Model:}            &       OLS        & \\textbf{  Adj. R-squared:    } &    -0.003   \\\\\n",
       "\\textbf{Method:}           &  Least Squares   & \\textbf{  F-statistic:       } &    0.5772   \\\\\n",
       "\\textbf{Date:}             & Tue, 16 May 2023 & \\textbf{  Prob (F-statistic):} &    0.449    \\\\\n",
       "\\textbf{Time:}             &     00:12:44     & \\textbf{  Log-Likelihood:    } &   -325.62   \\\\\n",
       "\\textbf{No. Observations:} &         155      & \\textbf{  AIC:               } &     655.2   \\\\\n",
       "\\textbf{Df Residuals:}     &         153      & \\textbf{  BIC:               } &     661.3   \\\\\n",
       "\\textbf{Df Model:}         &           1      & \\textbf{                     } &             \\\\\n",
       "\\textbf{Covariance Type:}  &    nonrobust     & \\textbf{                     } &             \\\\\n",
       "\\bottomrule\n",
       "\\end{tabular}\n",
       "\\begin{tabular}{lcccccc}\n",
       "               & \\textbf{coef} & \\textbf{std err} & \\textbf{t} & \\textbf{P$> |$t$|$} & \\textbf{[0.025} & \\textbf{0.975]}  \\\\\n",
       "\\midrule\n",
       "\\textbf{const} &       1.4201  &        0.238     &     5.962  &         0.000        &        0.950    &        1.891     \\\\\n",
       "\\textbf{X}     &      -0.0954  &        0.126     &    -0.760  &         0.449        &       -0.343    &        0.153     \\\\\n",
       "\\bottomrule\n",
       "\\end{tabular}\n",
       "\\begin{tabular}{lclc}\n",
       "\\textbf{Omnibus:}       & 266.544 & \\textbf{  Durbin-Watson:     } &     0.888  \\\\\n",
       "\\textbf{Prob(Omnibus):} &   0.000 & \\textbf{  Jarque-Bera (JB):  } & 30212.481  \\\\\n",
       "\\textbf{Skew:}          &   8.108 & \\textbf{  Prob(JB):          } &      0.00  \\\\\n",
       "\\textbf{Kurtosis:}      &  69.446 & \\textbf{  Cond. No.          } &      3.31  \\\\\n",
       "\\bottomrule\n",
       "\\end{tabular}\n",
       "%\\caption{OLS Regression Results}\n",
       "\\end{center}\n",
       "\n",
       "Notes: \\newline\n",
       " [1] Standard Errors assume that the covariance matrix of the errors is correctly specified."
      ],
      "text/plain": [
       "<class 'statsmodels.iolib.summary.Summary'>\n",
       "\"\"\"\n",
       "                            OLS Regression Results                            \n",
       "==============================================================================\n",
       "Dep. Variable:                      Y   R-squared:                       0.004\n",
       "Model:                            OLS   Adj. R-squared:                 -0.003\n",
       "Method:                 Least Squares   F-statistic:                    0.5772\n",
       "Date:                Tue, 16 May 2023   Prob (F-statistic):              0.449\n",
       "Time:                        00:12:44   Log-Likelihood:                -325.62\n",
       "No. Observations:                 155   AIC:                             655.2\n",
       "Df Residuals:                     153   BIC:                             661.3\n",
       "Df Model:                           1                                         \n",
       "Covariance Type:            nonrobust                                         \n",
       "==============================================================================\n",
       "                 coef    std err          t      P>|t|      [0.025      0.975]\n",
       "------------------------------------------------------------------------------\n",
       "const          1.4201      0.238      5.962      0.000       0.950       1.891\n",
       "X             -0.0954      0.126     -0.760      0.449      -0.343       0.153\n",
       "==============================================================================\n",
       "Omnibus:                      266.544   Durbin-Watson:                   0.888\n",
       "Prob(Omnibus):                  0.000   Jarque-Bera (JB):            30212.481\n",
       "Skew:                           8.108   Prob(JB):                         0.00\n",
       "Kurtosis:                      69.446   Cond. No.                         3.31\n",
       "==============================================================================\n",
       "\n",
       "Notes:\n",
       "[1] Standard Errors assume that the covariance matrix of the errors is correctly specified.\n",
       "\"\"\""
      ]
     },
     "execution_count": 9,
     "metadata": {},
     "output_type": "execute_result"
    }
   ],
   "source": [
    "X_with_constant = sm.add_constant(data_sample[\"X\"])\n",
    "result = sm.OLS(data_sample[\"Y\"], X_with_constant).fit()\n",
    "result.summary()"
   ]
  },
  {
   "cell_type": "code",
   "execution_count": 10,
   "id": "eb56aa9d-0fba-42ae-b67e-62015f1e2a7c",
   "metadata": {
    "tags": []
   },
   "outputs": [],
   "source": [
    "bX = data_sample[\"X\"] * result.params[0]\n",
    "abs_residual = np.abs(data_sample[\"Y\"] - result.params[\"const\"] - bX)"
   ]
  },
  {
   "cell_type": "code",
   "execution_count": 11,
   "id": "fd559962-86d3-4a0e-8b42-33c4bda316fc",
   "metadata": {},
   "outputs": [
    {
     "data": {
      "text/html": [
       "<table class=\"simpletable\">\n",
       "<caption>OLS Regression Results</caption>\n",
       "<tr>\n",
       "  <th>Dep. Variable:</th>            <td>y</td>        <th>  R-squared:         </th> <td>   0.550</td>\n",
       "</tr>\n",
       "<tr>\n",
       "  <th>Model:</th>                   <td>OLS</td>       <th>  Adj. R-squared:    </th> <td>   0.548</td>\n",
       "</tr>\n",
       "<tr>\n",
       "  <th>Method:</th>             <td>Least Squares</td>  <th>  F-statistic:       </th> <td>   187.3</td>\n",
       "</tr>\n",
       "<tr>\n",
       "  <th>Date:</th>             <td>Tue, 16 May 2023</td> <th>  Prob (F-statistic):</th> <td>2.37e-28</td>\n",
       "</tr>\n",
       "<tr>\n",
       "  <th>Time:</th>                 <td>00:12:44</td>     <th>  Log-Likelihood:    </th> <td> -288.16</td>\n",
       "</tr>\n",
       "<tr>\n",
       "  <th>No. Observations:</th>      <td>   155</td>      <th>  AIC:               </th> <td>   580.3</td>\n",
       "</tr>\n",
       "<tr>\n",
       "  <th>Df Residuals:</th>          <td>   153</td>      <th>  BIC:               </th> <td>   586.4</td>\n",
       "</tr>\n",
       "<tr>\n",
       "  <th>Df Model:</th>              <td>     1</td>      <th>                     </th>     <td> </td>   \n",
       "</tr>\n",
       "<tr>\n",
       "  <th>Covariance Type:</th>      <td>nonrobust</td>    <th>                     </th>     <td> </td>   \n",
       "</tr>\n",
       "</table>\n",
       "<table class=\"simpletable\">\n",
       "<tr>\n",
       "    <td></td>       <th>coef</th>     <th>std err</th>      <th>t</th>      <th>P>|t|</th>  <th>[0.025</th>    <th>0.975]</th>  \n",
       "</tr>\n",
       "<tr>\n",
       "  <th>const</th> <td>    0.7126</td> <td>    0.187</td> <td>    3.810</td> <td> 0.000</td> <td>    0.343</td> <td>    1.082</td>\n",
       "</tr>\n",
       "<tr>\n",
       "  <th>X</th>     <td>    1.3493</td> <td>    0.099</td> <td>   13.687</td> <td> 0.000</td> <td>    1.155</td> <td>    1.544</td>\n",
       "</tr>\n",
       "</table>\n",
       "<table class=\"simpletable\">\n",
       "<tr>\n",
       "  <th>Omnibus:</th>       <td>268.329</td> <th>  Durbin-Watson:     </th> <td>   1.127</td> \n",
       "</tr>\n",
       "<tr>\n",
       "  <th>Prob(Omnibus):</th> <td> 0.000</td>  <th>  Jarque-Bera (JB):  </th> <td>31322.265</td>\n",
       "</tr>\n",
       "<tr>\n",
       "  <th>Skew:</th>          <td> 8.199</td>  <th>  Prob(JB):          </th> <td>    0.00</td> \n",
       "</tr>\n",
       "<tr>\n",
       "  <th>Kurtosis:</th>      <td>70.683</td>  <th>  Cond. No.          </th> <td>    3.31</td> \n",
       "</tr>\n",
       "</table><br/><br/>Notes:<br/>[1] Standard Errors assume that the covariance matrix of the errors is correctly specified."
      ],
      "text/latex": [
       "\\begin{center}\n",
       "\\begin{tabular}{lclc}\n",
       "\\toprule\n",
       "\\textbf{Dep. Variable:}    &        y         & \\textbf{  R-squared:         } &     0.550   \\\\\n",
       "\\textbf{Model:}            &       OLS        & \\textbf{  Adj. R-squared:    } &     0.548   \\\\\n",
       "\\textbf{Method:}           &  Least Squares   & \\textbf{  F-statistic:       } &     187.3   \\\\\n",
       "\\textbf{Date:}             & Tue, 16 May 2023 & \\textbf{  Prob (F-statistic):} &  2.37e-28   \\\\\n",
       "\\textbf{Time:}             &     00:12:44     & \\textbf{  Log-Likelihood:    } &   -288.16   \\\\\n",
       "\\textbf{No. Observations:} &         155      & \\textbf{  AIC:               } &     580.3   \\\\\n",
       "\\textbf{Df Residuals:}     &         153      & \\textbf{  BIC:               } &     586.4   \\\\\n",
       "\\textbf{Df Model:}         &           1      & \\textbf{                     } &             \\\\\n",
       "\\textbf{Covariance Type:}  &    nonrobust     & \\textbf{                     } &             \\\\\n",
       "\\bottomrule\n",
       "\\end{tabular}\n",
       "\\begin{tabular}{lcccccc}\n",
       "               & \\textbf{coef} & \\textbf{std err} & \\textbf{t} & \\textbf{P$> |$t$|$} & \\textbf{[0.025} & \\textbf{0.975]}  \\\\\n",
       "\\midrule\n",
       "\\textbf{const} &       0.7126  &        0.187     &     3.810  &         0.000        &        0.343    &        1.082     \\\\\n",
       "\\textbf{X}     &       1.3493  &        0.099     &    13.687  &         0.000        &        1.155    &        1.544     \\\\\n",
       "\\bottomrule\n",
       "\\end{tabular}\n",
       "\\begin{tabular}{lclc}\n",
       "\\textbf{Omnibus:}       & 268.329 & \\textbf{  Durbin-Watson:     } &     1.127  \\\\\n",
       "\\textbf{Prob(Omnibus):} &   0.000 & \\textbf{  Jarque-Bera (JB):  } & 31322.265  \\\\\n",
       "\\textbf{Skew:}          &   8.199 & \\textbf{  Prob(JB):          } &      0.00  \\\\\n",
       "\\textbf{Kurtosis:}      &  70.683 & \\textbf{  Cond. No.          } &      3.31  \\\\\n",
       "\\bottomrule\n",
       "\\end{tabular}\n",
       "%\\caption{OLS Regression Results}\n",
       "\\end{center}\n",
       "\n",
       "Notes: \\newline\n",
       " [1] Standard Errors assume that the covariance matrix of the errors is correctly specified."
      ],
      "text/plain": [
       "<class 'statsmodels.iolib.summary.Summary'>\n",
       "\"\"\"\n",
       "                            OLS Regression Results                            \n",
       "==============================================================================\n",
       "Dep. Variable:                      y   R-squared:                       0.550\n",
       "Model:                            OLS   Adj. R-squared:                  0.548\n",
       "Method:                 Least Squares   F-statistic:                     187.3\n",
       "Date:                Tue, 16 May 2023   Prob (F-statistic):           2.37e-28\n",
       "Time:                        00:12:44   Log-Likelihood:                -288.16\n",
       "No. Observations:                 155   AIC:                             580.3\n",
       "Df Residuals:                     153   BIC:                             586.4\n",
       "Df Model:                           1                                         \n",
       "Covariance Type:            nonrobust                                         \n",
       "==============================================================================\n",
       "                 coef    std err          t      P>|t|      [0.025      0.975]\n",
       "------------------------------------------------------------------------------\n",
       "const          0.7126      0.187      3.810      0.000       0.343       1.082\n",
       "X              1.3493      0.099     13.687      0.000       1.155       1.544\n",
       "==============================================================================\n",
       "Omnibus:                      268.329   Durbin-Watson:                   1.127\n",
       "Prob(Omnibus):                  0.000   Jarque-Bera (JB):            31322.265\n",
       "Skew:                           8.199   Prob(JB):                         0.00\n",
       "Kurtosis:                      70.683   Cond. No.                         3.31\n",
       "==============================================================================\n",
       "\n",
       "Notes:\n",
       "[1] Standard Errors assume that the covariance matrix of the errors is correctly specified.\n",
       "\"\"\""
      ]
     },
     "execution_count": 11,
     "metadata": {},
     "output_type": "execute_result"
    }
   ],
   "source": [
    "hetero_result = sm.OLS(abs_residual, X_with_constant).fit()\n",
    "hetero_result.summary()"
   ]
  },
  {
   "cell_type": "code",
   "execution_count": 12,
   "id": "0b3aa3c9-21ff-4dbf-8662-2180b56c7cc0",
   "metadata": {
    "tags": []
   },
   "outputs": [],
   "source": [
    "XQ3,XQ1 = np.percentile(data_sample[\"X\"], [75 ,25])\n",
    "XIQR = XQ3 - XQ1 "
   ]
  },
  {
   "cell_type": "code",
   "execution_count": 13,
   "id": "df3a9035-4d1f-405e-8749-a91450c7052b",
   "metadata": {
    "tags": []
   },
   "outputs": [],
   "source": [
    "lower_X = XQ1 - (1.5 * XIQR)\n",
    "upper_X = XQ3 + (1.5 * XIQR)"
   ]
  },
  {
   "cell_type": "code",
   "execution_count": 14,
   "id": "170f2087-a9a6-4a2c-9ce9-2a6d5a326947",
   "metadata": {
    "tags": []
   },
   "outputs": [
    {
     "data": {
      "text/plain": [
       "70    6\n",
       "71    6\n",
       "72    6\n",
       "Name: X, dtype: int64"
      ]
     },
     "execution_count": 14,
     "metadata": {},
     "output_type": "execute_result"
    }
   ],
   "source": [
    "data_sample[\"X\"][(data_sample[\"X\"] < lower_X) | (data_sample[\"X\"] > upper_X)]"
   ]
  },
  {
   "cell_type": "code",
   "execution_count": 15,
   "id": "ced5a8b0-c902-4a69-91b4-cb66e803f5e2",
   "metadata": {
    "tags": []
   },
   "outputs": [],
   "source": [
    "data_sample.drop(data_sample[\"X\"][(data_sample[\"X\"] < lower_X) | (data_sample[\"X\"] > upper_X)].index, inplace=True)"
   ]
  },
  {
   "cell_type": "code",
   "execution_count": 16,
   "id": "9df5e80a-f224-472e-afce-3618c7a5f3ef",
   "metadata": {
    "tags": []
   },
   "outputs": [],
   "source": [
    "YQ3,YQ1 = np.percentile(data_sample['Y'], [75 ,25])\n",
    "YIQR = YQ3 - YQ1 "
   ]
  },
  {
   "cell_type": "code",
   "execution_count": 17,
   "id": "2de41fda-cd44-4955-ad46-93dd6a4652d7",
   "metadata": {
    "tags": []
   },
   "outputs": [],
   "source": [
    "lower_Y = YQ1 - (1.5 * YIQR)\n",
    "upper_Y = YQ3 + (1.5 * YIQR)"
   ]
  },
  {
   "cell_type": "code",
   "execution_count": 18,
   "id": "df12475e-fa7c-43e8-9cc9-92952b7560a3",
   "metadata": {
    "tags": []
   },
   "outputs": [],
   "source": [
    "data_sample.drop(data_sample[\"Y\"][(data_sample[\"Y\"] < lower_Y) | (data_sample[\"Y\"] > upper_Y)].index, inplace=True)"
   ]
  },
  {
   "cell_type": "code",
   "execution_count": 19,
   "id": "2bace5d1-4bd8-4a9d-93fd-ac7637c69b52",
   "metadata": {
    "tags": []
   },
   "outputs": [
    {
     "data": {
      "text/html": [
       "<div>\n",
       "<style scoped>\n",
       "    .dataframe tbody tr th:only-of-type {\n",
       "        vertical-align: middle;\n",
       "    }\n",
       "\n",
       "    .dataframe tbody tr th {\n",
       "        vertical-align: top;\n",
       "    }\n",
       "\n",
       "    .dataframe thead th {\n",
       "        text-align: right;\n",
       "    }\n",
       "</style>\n",
       "<table border=\"1\" class=\"dataframe\">\n",
       "  <thead>\n",
       "    <tr style=\"text-align: right;\">\n",
       "      <th></th>\n",
       "      <th>X</th>\n",
       "      <th>Y</th>\n",
       "    </tr>\n",
       "  </thead>\n",
       "  <tbody>\n",
       "    <tr>\n",
       "      <th>count</th>\n",
       "      <td>129.000000</td>\n",
       "      <td>129.000000</td>\n",
       "    </tr>\n",
       "    <tr>\n",
       "      <th>mean</th>\n",
       "      <td>1.465116</td>\n",
       "      <td>1.008960</td>\n",
       "    </tr>\n",
       "    <tr>\n",
       "      <th>std</th>\n",
       "      <td>1.111351</td>\n",
       "      <td>0.123998</td>\n",
       "    </tr>\n",
       "    <tr>\n",
       "      <th>min</th>\n",
       "      <td>0.000000</td>\n",
       "      <td>0.688744</td>\n",
       "    </tr>\n",
       "    <tr>\n",
       "      <th>25%</th>\n",
       "      <td>1.000000</td>\n",
       "      <td>0.932466</td>\n",
       "    </tr>\n",
       "    <tr>\n",
       "      <th>50%</th>\n",
       "      <td>1.000000</td>\n",
       "      <td>0.970944</td>\n",
       "    </tr>\n",
       "    <tr>\n",
       "      <th>75%</th>\n",
       "      <td>2.000000</td>\n",
       "      <td>1.058917</td>\n",
       "    </tr>\n",
       "    <tr>\n",
       "      <th>max</th>\n",
       "      <td>4.000000</td>\n",
       "      <td>1.385464</td>\n",
       "    </tr>\n",
       "  </tbody>\n",
       "</table>\n",
       "</div>"
      ],
      "text/plain": [
       "                X           Y\n",
       "count  129.000000  129.000000\n",
       "mean     1.465116    1.008960\n",
       "std      1.111351    0.123998\n",
       "min      0.000000    0.688744\n",
       "25%      1.000000    0.932466\n",
       "50%      1.000000    0.970944\n",
       "75%      2.000000    1.058917\n",
       "max      4.000000    1.385464"
      ]
     },
     "execution_count": 19,
     "metadata": {},
     "output_type": "execute_result"
    }
   ],
   "source": [
    "data_sample.describe()"
   ]
  },
  {
   "cell_type": "code",
   "execution_count": 20,
   "id": "7402085b-b96e-4d95-be0d-969c28efa595",
   "metadata": {
    "tags": []
   },
   "outputs": [
    {
     "data": {
      "text/html": [
       "<table class=\"simpletable\">\n",
       "<caption>OLS Regression Results</caption>\n",
       "<tr>\n",
       "  <th>Dep. Variable:</th>            <td>Y</td>        <th>  R-squared:         </th> <td>   0.008</td>\n",
       "</tr>\n",
       "<tr>\n",
       "  <th>Model:</th>                   <td>OLS</td>       <th>  Adj. R-squared:    </th> <td>  -0.000</td>\n",
       "</tr>\n",
       "<tr>\n",
       "  <th>Method:</th>             <td>Least Squares</td>  <th>  F-statistic:       </th> <td>  0.9897</td>\n",
       "</tr>\n",
       "<tr>\n",
       "  <th>Date:</th>             <td>Tue, 16 May 2023</td> <th>  Prob (F-statistic):</th>  <td> 0.322</td> \n",
       "</tr>\n",
       "<tr>\n",
       "  <th>Time:</th>                 <td>00:12:44</td>     <th>  Log-Likelihood:    </th> <td>  87.246</td>\n",
       "</tr>\n",
       "<tr>\n",
       "  <th>No. Observations:</th>      <td>   129</td>      <th>  AIC:               </th> <td>  -170.5</td>\n",
       "</tr>\n",
       "<tr>\n",
       "  <th>Df Residuals:</th>          <td>   127</td>      <th>  BIC:               </th> <td>  -164.8</td>\n",
       "</tr>\n",
       "<tr>\n",
       "  <th>Df Model:</th>              <td>     1</td>      <th>                     </th>     <td> </td>   \n",
       "</tr>\n",
       "<tr>\n",
       "  <th>Covariance Type:</th>      <td>nonrobust</td>    <th>                     </th>     <td> </td>   \n",
       "</tr>\n",
       "</table>\n",
       "<table class=\"simpletable\">\n",
       "<tr>\n",
       "    <td></td>       <th>coef</th>     <th>std err</th>      <th>t</th>      <th>P>|t|</th>  <th>[0.025</th>    <th>0.975]</th>  \n",
       "</tr>\n",
       "<tr>\n",
       "  <th>const</th> <td>    0.9946</td> <td>    0.018</td> <td>   54.918</td> <td> 0.000</td> <td>    0.959</td> <td>    1.030</td>\n",
       "</tr>\n",
       "<tr>\n",
       "  <th>X</th>     <td>    0.0098</td> <td>    0.010</td> <td>    0.995</td> <td> 0.322</td> <td>   -0.010</td> <td>    0.029</td>\n",
       "</tr>\n",
       "</table>\n",
       "<table class=\"simpletable\">\n",
       "<tr>\n",
       "  <th>Omnibus:</th>       <td>19.181</td> <th>  Durbin-Watson:     </th> <td>   0.961</td>\n",
       "</tr>\n",
       "<tr>\n",
       "  <th>Prob(Omnibus):</th> <td> 0.000</td> <th>  Jarque-Bera (JB):  </th> <td>  22.623</td>\n",
       "</tr>\n",
       "<tr>\n",
       "  <th>Skew:</th>          <td> 0.987</td> <th>  Prob(JB):          </th> <td>1.22e-05</td>\n",
       "</tr>\n",
       "<tr>\n",
       "  <th>Kurtosis:</th>      <td> 3.556</td> <th>  Cond. No.          </th> <td>    3.68</td>\n",
       "</tr>\n",
       "</table><br/><br/>Notes:<br/>[1] Standard Errors assume that the covariance matrix of the errors is correctly specified."
      ],
      "text/latex": [
       "\\begin{center}\n",
       "\\begin{tabular}{lclc}\n",
       "\\toprule\n",
       "\\textbf{Dep. Variable:}    &        Y         & \\textbf{  R-squared:         } &     0.008   \\\\\n",
       "\\textbf{Model:}            &       OLS        & \\textbf{  Adj. R-squared:    } &    -0.000   \\\\\n",
       "\\textbf{Method:}           &  Least Squares   & \\textbf{  F-statistic:       } &    0.9897   \\\\\n",
       "\\textbf{Date:}             & Tue, 16 May 2023 & \\textbf{  Prob (F-statistic):} &    0.322    \\\\\n",
       "\\textbf{Time:}             &     00:12:44     & \\textbf{  Log-Likelihood:    } &    87.246   \\\\\n",
       "\\textbf{No. Observations:} &         129      & \\textbf{  AIC:               } &    -170.5   \\\\\n",
       "\\textbf{Df Residuals:}     &         127      & \\textbf{  BIC:               } &    -164.8   \\\\\n",
       "\\textbf{Df Model:}         &           1      & \\textbf{                     } &             \\\\\n",
       "\\textbf{Covariance Type:}  &    nonrobust     & \\textbf{                     } &             \\\\\n",
       "\\bottomrule\n",
       "\\end{tabular}\n",
       "\\begin{tabular}{lcccccc}\n",
       "               & \\textbf{coef} & \\textbf{std err} & \\textbf{t} & \\textbf{P$> |$t$|$} & \\textbf{[0.025} & \\textbf{0.975]}  \\\\\n",
       "\\midrule\n",
       "\\textbf{const} &       0.9946  &        0.018     &    54.918  &         0.000        &        0.959    &        1.030     \\\\\n",
       "\\textbf{X}     &       0.0098  &        0.010     &     0.995  &         0.322        &       -0.010    &        0.029     \\\\\n",
       "\\bottomrule\n",
       "\\end{tabular}\n",
       "\\begin{tabular}{lclc}\n",
       "\\textbf{Omnibus:}       & 19.181 & \\textbf{  Durbin-Watson:     } &    0.961  \\\\\n",
       "\\textbf{Prob(Omnibus):} &  0.000 & \\textbf{  Jarque-Bera (JB):  } &   22.623  \\\\\n",
       "\\textbf{Skew:}          &  0.987 & \\textbf{  Prob(JB):          } & 1.22e-05  \\\\\n",
       "\\textbf{Kurtosis:}      &  3.556 & \\textbf{  Cond. No.          } &     3.68  \\\\\n",
       "\\bottomrule\n",
       "\\end{tabular}\n",
       "%\\caption{OLS Regression Results}\n",
       "\\end{center}\n",
       "\n",
       "Notes: \\newline\n",
       " [1] Standard Errors assume that the covariance matrix of the errors is correctly specified."
      ],
      "text/plain": [
       "<class 'statsmodels.iolib.summary.Summary'>\n",
       "\"\"\"\n",
       "                            OLS Regression Results                            \n",
       "==============================================================================\n",
       "Dep. Variable:                      Y   R-squared:                       0.008\n",
       "Model:                            OLS   Adj. R-squared:                 -0.000\n",
       "Method:                 Least Squares   F-statistic:                    0.9897\n",
       "Date:                Tue, 16 May 2023   Prob (F-statistic):              0.322\n",
       "Time:                        00:12:44   Log-Likelihood:                 87.246\n",
       "No. Observations:                 129   AIC:                            -170.5\n",
       "Df Residuals:                     127   BIC:                            -164.8\n",
       "Df Model:                           1                                         \n",
       "Covariance Type:            nonrobust                                         \n",
       "==============================================================================\n",
       "                 coef    std err          t      P>|t|      [0.025      0.975]\n",
       "------------------------------------------------------------------------------\n",
       "const          0.9946      0.018     54.918      0.000       0.959       1.030\n",
       "X              0.0098      0.010      0.995      0.322      -0.010       0.029\n",
       "==============================================================================\n",
       "Omnibus:                       19.181   Durbin-Watson:                   0.961\n",
       "Prob(Omnibus):                  0.000   Jarque-Bera (JB):               22.623\n",
       "Skew:                           0.987   Prob(JB):                     1.22e-05\n",
       "Kurtosis:                       3.556   Cond. No.                         3.68\n",
       "==============================================================================\n",
       "\n",
       "Notes:\n",
       "[1] Standard Errors assume that the covariance matrix of the errors is correctly specified.\n",
       "\"\"\""
      ]
     },
     "execution_count": 20,
     "metadata": {},
     "output_type": "execute_result"
    }
   ],
   "source": [
    "X_with_constant = sm.add_constant(data_sample[\"X\"])\n",
    "result = sm.OLS(data_sample[\"Y\"], X_with_constant).fit()\n",
    "result.summary()"
   ]
  },
  {
   "cell_type": "code",
   "execution_count": 21,
   "id": "19459625-0d19-465b-bb77-97071054064e",
   "metadata": {
    "tags": []
   },
   "outputs": [],
   "source": [
    "bX = data_sample[\"X\"] * result.params[\"X\"]"
   ]
  },
  {
   "cell_type": "code",
   "execution_count": 22,
   "id": "2587e74e-d66d-418e-9d70-398f042d3d35",
   "metadata": {
    "tags": []
   },
   "outputs": [],
   "source": [
    "# Y = a + bX + e\n",
    "# e = Y - a - bX\n",
    "\n",
    "abs_residual = np.abs(data_sample[\"Y\"] - result.params[\"const\"] - bX)"
   ]
  },
  {
   "cell_type": "code",
   "execution_count": 23,
   "id": "5e613d94-eea1-4c13-9acd-74efe7d69ecf",
   "metadata": {
    "tags": []
   },
   "outputs": [
    {
     "data": {
      "text/html": [
       "<table class=\"simpletable\">\n",
       "<caption>OLS Regression Results</caption>\n",
       "<tr>\n",
       "  <th>Dep. Variable:</th>            <td>y</td>        <th>  R-squared:         </th> <td>   0.001</td>\n",
       "</tr>\n",
       "<tr>\n",
       "  <th>Model:</th>                   <td>OLS</td>       <th>  Adj. R-squared:    </th> <td>  -0.006</td>\n",
       "</tr>\n",
       "<tr>\n",
       "  <th>Method:</th>             <td>Least Squares</td>  <th>  F-statistic:       </th> <td>  0.1829</td>\n",
       "</tr>\n",
       "<tr>\n",
       "  <th>Date:</th>             <td>Tue, 16 May 2023</td> <th>  Prob (F-statistic):</th>  <td> 0.670</td> \n",
       "</tr>\n",
       "<tr>\n",
       "  <th>Time:</th>                 <td>00:12:45</td>     <th>  Log-Likelihood:    </th> <td>  149.49</td>\n",
       "</tr>\n",
       "<tr>\n",
       "  <th>No. Observations:</th>      <td>   129</td>      <th>  AIC:               </th> <td>  -295.0</td>\n",
       "</tr>\n",
       "<tr>\n",
       "  <th>Df Residuals:</th>          <td>   127</td>      <th>  BIC:               </th> <td>  -289.3</td>\n",
       "</tr>\n",
       "<tr>\n",
       "  <th>Df Model:</th>              <td>     1</td>      <th>                     </th>     <td> </td>   \n",
       "</tr>\n",
       "<tr>\n",
       "  <th>Covariance Type:</th>      <td>nonrobust</td>    <th>                     </th>     <td> </td>   \n",
       "</tr>\n",
       "</table>\n",
       "<table class=\"simpletable\">\n",
       "<tr>\n",
       "    <td></td>       <th>coef</th>     <th>std err</th>      <th>t</th>      <th>P>|t|</th>  <th>[0.025</th>    <th>0.975]</th>  \n",
       "</tr>\n",
       "<tr>\n",
       "  <th>const</th> <td>    0.0929</td> <td>    0.011</td> <td>    8.315</td> <td> 0.000</td> <td>    0.071</td> <td>    0.115</td>\n",
       "</tr>\n",
       "<tr>\n",
       "  <th>X</th>     <td>    0.0026</td> <td>    0.006</td> <td>    0.428</td> <td> 0.670</td> <td>   -0.009</td> <td>    0.015</td>\n",
       "</tr>\n",
       "</table>\n",
       "<table class=\"simpletable\">\n",
       "<tr>\n",
       "  <th>Omnibus:</th>       <td>39.083</td> <th>  Durbin-Watson:     </th> <td>   1.225</td>\n",
       "</tr>\n",
       "<tr>\n",
       "  <th>Prob(Omnibus):</th> <td> 0.000</td> <th>  Jarque-Bera (JB):  </th> <td>  66.174</td>\n",
       "</tr>\n",
       "<tr>\n",
       "  <th>Skew:</th>          <td> 1.432</td> <th>  Prob(JB):          </th> <td>4.27e-15</td>\n",
       "</tr>\n",
       "<tr>\n",
       "  <th>Kurtosis:</th>      <td> 5.026</td> <th>  Cond. No.          </th> <td>    3.68</td>\n",
       "</tr>\n",
       "</table><br/><br/>Notes:<br/>[1] Standard Errors assume that the covariance matrix of the errors is correctly specified."
      ],
      "text/latex": [
       "\\begin{center}\n",
       "\\begin{tabular}{lclc}\n",
       "\\toprule\n",
       "\\textbf{Dep. Variable:}    &        y         & \\textbf{  R-squared:         } &     0.001   \\\\\n",
       "\\textbf{Model:}            &       OLS        & \\textbf{  Adj. R-squared:    } &    -0.006   \\\\\n",
       "\\textbf{Method:}           &  Least Squares   & \\textbf{  F-statistic:       } &    0.1829   \\\\\n",
       "\\textbf{Date:}             & Tue, 16 May 2023 & \\textbf{  Prob (F-statistic):} &    0.670    \\\\\n",
       "\\textbf{Time:}             &     00:12:45     & \\textbf{  Log-Likelihood:    } &    149.49   \\\\\n",
       "\\textbf{No. Observations:} &         129      & \\textbf{  AIC:               } &    -295.0   \\\\\n",
       "\\textbf{Df Residuals:}     &         127      & \\textbf{  BIC:               } &    -289.3   \\\\\n",
       "\\textbf{Df Model:}         &           1      & \\textbf{                     } &             \\\\\n",
       "\\textbf{Covariance Type:}  &    nonrobust     & \\textbf{                     } &             \\\\\n",
       "\\bottomrule\n",
       "\\end{tabular}\n",
       "\\begin{tabular}{lcccccc}\n",
       "               & \\textbf{coef} & \\textbf{std err} & \\textbf{t} & \\textbf{P$> |$t$|$} & \\textbf{[0.025} & \\textbf{0.975]}  \\\\\n",
       "\\midrule\n",
       "\\textbf{const} &       0.0929  &        0.011     &     8.315  &         0.000        &        0.071    &        0.115     \\\\\n",
       "\\textbf{X}     &       0.0026  &        0.006     &     0.428  &         0.670        &       -0.009    &        0.015     \\\\\n",
       "\\bottomrule\n",
       "\\end{tabular}\n",
       "\\begin{tabular}{lclc}\n",
       "\\textbf{Omnibus:}       & 39.083 & \\textbf{  Durbin-Watson:     } &    1.225  \\\\\n",
       "\\textbf{Prob(Omnibus):} &  0.000 & \\textbf{  Jarque-Bera (JB):  } &   66.174  \\\\\n",
       "\\textbf{Skew:}          &  1.432 & \\textbf{  Prob(JB):          } & 4.27e-15  \\\\\n",
       "\\textbf{Kurtosis:}      &  5.026 & \\textbf{  Cond. No.          } &     3.68  \\\\\n",
       "\\bottomrule\n",
       "\\end{tabular}\n",
       "%\\caption{OLS Regression Results}\n",
       "\\end{center}\n",
       "\n",
       "Notes: \\newline\n",
       " [1] Standard Errors assume that the covariance matrix of the errors is correctly specified."
      ],
      "text/plain": [
       "<class 'statsmodels.iolib.summary.Summary'>\n",
       "\"\"\"\n",
       "                            OLS Regression Results                            \n",
       "==============================================================================\n",
       "Dep. Variable:                      y   R-squared:                       0.001\n",
       "Model:                            OLS   Adj. R-squared:                 -0.006\n",
       "Method:                 Least Squares   F-statistic:                    0.1829\n",
       "Date:                Tue, 16 May 2023   Prob (F-statistic):              0.670\n",
       "Time:                        00:12:45   Log-Likelihood:                 149.49\n",
       "No. Observations:                 129   AIC:                            -295.0\n",
       "Df Residuals:                     127   BIC:                            -289.3\n",
       "Df Model:                           1                                         \n",
       "Covariance Type:            nonrobust                                         \n",
       "==============================================================================\n",
       "                 coef    std err          t      P>|t|      [0.025      0.975]\n",
       "------------------------------------------------------------------------------\n",
       "const          0.0929      0.011      8.315      0.000       0.071       0.115\n",
       "X              0.0026      0.006      0.428      0.670      -0.009       0.015\n",
       "==============================================================================\n",
       "Omnibus:                       39.083   Durbin-Watson:                   1.225\n",
       "Prob(Omnibus):                  0.000   Jarque-Bera (JB):               66.174\n",
       "Skew:                           1.432   Prob(JB):                     4.27e-15\n",
       "Kurtosis:                       5.026   Cond. No.                         3.68\n",
       "==============================================================================\n",
       "\n",
       "Notes:\n",
       "[1] Standard Errors assume that the covariance matrix of the errors is correctly specified.\n",
       "\"\"\""
      ]
     },
     "execution_count": 23,
     "metadata": {},
     "output_type": "execute_result"
    }
   ],
   "source": [
    "hetero_result = sm.OLS(abs_residual, X_with_constant).fit()\n",
    "hetero_result.summary()"
   ]
  }
 ],
 "metadata": {
  "kernelspec": {
   "display_name": "Python 3 (ipykernel)",
   "language": "python",
   "name": "python3"
  },
  "language_info": {
   "codemirror_mode": {
    "name": "ipython",
    "version": 3
   },
   "file_extension": ".py",
   "mimetype": "text/x-python",
   "name": "python",
   "nbconvert_exporter": "python",
   "pygments_lexer": "ipython3",
   "version": "3.11.3"
  }
 },
 "nbformat": 4,
 "nbformat_minor": 5
}

{
 "cells": [
  {
   "cell_type": "code",
   "execution_count": 1,
   "id": "046c1a20-b1cd-4845-9595-fa120f32f51f",
   "metadata": {
    "tags": []
   },
   "outputs": [],
   "source": [
    "import scipy\n",
    "import pandas as pd\n",
    "import numpy as np\n",
    "import statsmodels.api as sm"
   ]
  },
  {
   "cell_type": "raw",
   "id": "15740c56-0b5b-42f1-a666-6342123bfad3",
   "metadata": {},
   "source": [
    "Pada bagian ini data akan dibersihkan dahulu\n",
    "Data kemudian akan diuji dengan teknik OLS untuk melihat pengaruh dan signifikansi data\n",
    "\n",
    "\n",
    "* nampaknya variabel jumlah direksi perempuan membuat data mengalami gejala heterokedastisitas"
   ]
  },
  {
   "cell_type": "code",
   "execution_count": 2,
   "id": "cd5adea4-5b9a-4567-b551-8438d2634ef9",
   "metadata": {},
   "outputs": [
    {
     "data": {
      "text/plain": [
       "Direksi Perempuan    int64\n",
       "Direksi Laki-Laki    int64\n",
       "Harga penutupan      int64\n",
       "Total Shares         int64\n",
       "Total Utang          int64\n",
       "Total Asset          int64\n",
       "dtype: object"
      ]
     },
     "execution_count": 2,
     "metadata": {},
     "output_type": "execute_result"
    }
   ],
   "source": [
    "df = pd.read_csv(\"Data.csv\", sep=\";\")\n",
    "df.dtypes"
   ]
  },
  {
   "cell_type": "code",
   "execution_count": 3,
   "id": "254b0387-cde9-410d-be05-cd31d572d27b",
   "metadata": {},
   "outputs": [],
   "source": [
    "#X = (df['Direksi Perempuan'])/(df['Direksi Perempuan'] + df['Direksi Laki-Laki'])\n",
    "X = df[\"Direksi Perempuan\"]\n",
    "nilai_pasar = df[\"Total Shares\"] * df[\"Harga penutupan\"]\n",
    "np_plus_liability = nilai_pasar + df[\"Total Utang\"]\n",
    "Y = np_plus_liability / df[\"Total Asset\"]\n",
    "#Y = nilai_pasar / df[\"Total Asset\"]\n",
    "\n",
    "data = pd.DataFrame({\"X\":X, \"Y\":Y})\n",
    "X_mean = np.mean(data[\"X\"])\n",
    "X_std = np.std(data[\"X\"])\n",
    "Y_mean = np.mean(data[\"Y\"])\n",
    "Y_std = np.std(data[\"Y\"])"
   ]
  },
  {
   "cell_type": "code",
   "execution_count": 4,
   "id": "eaa6172f-c313-40fa-850c-4ef2f7cce5a4",
   "metadata": {
    "tags": []
   },
   "outputs": [
    {
     "data": {
      "text/html": [
       "<div>\n",
       "<style scoped>\n",
       "    .dataframe tbody tr th:only-of-type {\n",
       "        vertical-align: middle;\n",
       "    }\n",
       "\n",
       "    .dataframe tbody tr th {\n",
       "        vertical-align: top;\n",
       "    }\n",
       "\n",
       "    .dataframe thead th {\n",
       "        text-align: right;\n",
       "    }\n",
       "</style>\n",
       "<table border=\"1\" class=\"dataframe\">\n",
       "  <thead>\n",
       "    <tr style=\"text-align: right;\">\n",
       "      <th></th>\n",
       "      <th>X</th>\n",
       "      <th>Y</th>\n",
       "    </tr>\n",
       "  </thead>\n",
       "  <tbody>\n",
       "    <tr>\n",
       "      <th>count</th>\n",
       "      <td>150.000000</td>\n",
       "      <td>150.000000</td>\n",
       "    </tr>\n",
       "    <tr>\n",
       "      <th>mean</th>\n",
       "      <td>1.326667</td>\n",
       "      <td>1.297296</td>\n",
       "    </tr>\n",
       "    <tr>\n",
       "      <th>std</th>\n",
       "      <td>1.217857</td>\n",
       "      <td>2.019696</td>\n",
       "    </tr>\n",
       "    <tr>\n",
       "      <th>min</th>\n",
       "      <td>0.000000</td>\n",
       "      <td>0.159993</td>\n",
       "    </tr>\n",
       "    <tr>\n",
       "      <th>25%</th>\n",
       "      <td>0.000000</td>\n",
       "      <td>0.930708</td>\n",
       "    </tr>\n",
       "    <tr>\n",
       "      <th>50%</th>\n",
       "      <td>1.000000</td>\n",
       "      <td>0.978282</td>\n",
       "    </tr>\n",
       "    <tr>\n",
       "      <th>75%</th>\n",
       "      <td>2.000000</td>\n",
       "      <td>1.141656</td>\n",
       "    </tr>\n",
       "    <tr>\n",
       "      <th>max</th>\n",
       "      <td>6.000000</td>\n",
       "      <td>18.327231</td>\n",
       "    </tr>\n",
       "  </tbody>\n",
       "</table>\n",
       "</div>"
      ],
      "text/plain": [
       "                X           Y\n",
       "count  150.000000  150.000000\n",
       "mean     1.326667    1.297296\n",
       "std      1.217857    2.019696\n",
       "min      0.000000    0.159993\n",
       "25%      0.000000    0.930708\n",
       "50%      1.000000    0.978282\n",
       "75%      2.000000    1.141656\n",
       "max      6.000000   18.327231"
      ]
     },
     "execution_count": 4,
     "metadata": {},
     "output_type": "execute_result"
    }
   ],
   "source": [
    "data_sample = pd.DataFrame({\"X\": X, \"Y\": Y})\n",
    "data_sample.describe()"
   ]
  },
  {
   "cell_type": "code",
   "execution_count": 5,
   "id": "1a4ecbd8-f223-4dd8-9b09-2d8ebbaad7f4",
   "metadata": {
    "tags": []
   },
   "outputs": [],
   "source": [
    "# data_sample.drop(data_sample[data_sample[\"X\"] == 0].index, inplace=True)\n",
    "# np.size(np.where(data_sample[\"X\"] == 0))"
   ]
  },
  {
   "cell_type": "code",
   "execution_count": 6,
   "id": "64bfb377-f5eb-4e76-917c-a09f1683ffa0",
   "metadata": {
    "tags": []
   },
   "outputs": [
    {
     "data": {
      "text/html": [
       "<table class=\"simpletable\">\n",
       "<caption>OLS Regression Results</caption>\n",
       "<tr>\n",
       "  <th>Dep. Variable:</th>            <td>Y</td>        <th>  R-squared:         </th> <td>   0.003</td>\n",
       "</tr>\n",
       "<tr>\n",
       "  <th>Model:</th>                   <td>OLS</td>       <th>  Adj. R-squared:    </th> <td>  -0.004</td>\n",
       "</tr>\n",
       "<tr>\n",
       "  <th>Method:</th>             <td>Least Squares</td>  <th>  F-statistic:       </th> <td>  0.4319</td>\n",
       "</tr>\n",
       "<tr>\n",
       "  <th>Date:</th>             <td>Thu, 11 May 2023</td> <th>  Prob (F-statistic):</th>  <td> 0.512</td> \n",
       "</tr>\n",
       "<tr>\n",
       "  <th>Time:</th>                 <td>20:03:41</td>     <th>  Log-Likelihood:    </th> <td> -317.56</td>\n",
       "</tr>\n",
       "<tr>\n",
       "  <th>No. Observations:</th>      <td>   150</td>      <th>  AIC:               </th> <td>   639.1</td>\n",
       "</tr>\n",
       "<tr>\n",
       "  <th>Df Residuals:</th>          <td>   148</td>      <th>  BIC:               </th> <td>   645.1</td>\n",
       "</tr>\n",
       "<tr>\n",
       "  <th>Df Model:</th>              <td>     1</td>      <th>                     </th>     <td> </td>   \n",
       "</tr>\n",
       "<tr>\n",
       "  <th>Covariance Type:</th>      <td>nonrobust</td>    <th>                     </th>     <td> </td>   \n",
       "</tr>\n",
       "</table>\n",
       "<table class=\"simpletable\">\n",
       "<tr>\n",
       "    <td></td>       <th>coef</th>     <th>std err</th>      <th>t</th>      <th>P>|t|</th>  <th>[0.025</th>    <th>0.975]</th>  \n",
       "</tr>\n",
       "<tr>\n",
       "  <th>const</th> <td>    1.4160</td> <td>    0.245</td> <td>    5.785</td> <td> 0.000</td> <td>    0.932</td> <td>    1.900</td>\n",
       "</tr>\n",
       "<tr>\n",
       "  <th>X</th>     <td>   -0.0895</td> <td>    0.136</td> <td>   -0.657</td> <td> 0.512</td> <td>   -0.358</td> <td>    0.180</td>\n",
       "</tr>\n",
       "</table>\n",
       "<table class=\"simpletable\">\n",
       "<tr>\n",
       "  <th>Omnibus:</th>       <td>257.108</td> <th>  Durbin-Watson:     </th> <td>   0.889</td> \n",
       "</tr>\n",
       "<tr>\n",
       "  <th>Prob(Omnibus):</th> <td> 0.000</td>  <th>  Jarque-Bera (JB):  </th> <td>27347.096</td>\n",
       "</tr>\n",
       "<tr>\n",
       "  <th>Skew:</th>          <td> 7.975</td>  <th>  Prob(JB):          </th> <td>    0.00</td> \n",
       "</tr>\n",
       "<tr>\n",
       "  <th>Kurtosis:</th>      <td>67.196</td>  <th>  Cond. No.          </th> <td>    3.17</td> \n",
       "</tr>\n",
       "</table><br/><br/>Notes:<br/>[1] Standard Errors assume that the covariance matrix of the errors is correctly specified."
      ],
      "text/latex": [
       "\\begin{center}\n",
       "\\begin{tabular}{lclc}\n",
       "\\toprule\n",
       "\\textbf{Dep. Variable:}    &        Y         & \\textbf{  R-squared:         } &     0.003   \\\\\n",
       "\\textbf{Model:}            &       OLS        & \\textbf{  Adj. R-squared:    } &    -0.004   \\\\\n",
       "\\textbf{Method:}           &  Least Squares   & \\textbf{  F-statistic:       } &    0.4319   \\\\\n",
       "\\textbf{Date:}             & Thu, 11 May 2023 & \\textbf{  Prob (F-statistic):} &    0.512    \\\\\n",
       "\\textbf{Time:}             &     20:03:41     & \\textbf{  Log-Likelihood:    } &   -317.56   \\\\\n",
       "\\textbf{No. Observations:} &         150      & \\textbf{  AIC:               } &     639.1   \\\\\n",
       "\\textbf{Df Residuals:}     &         148      & \\textbf{  BIC:               } &     645.1   \\\\\n",
       "\\textbf{Df Model:}         &           1      & \\textbf{                     } &             \\\\\n",
       "\\textbf{Covariance Type:}  &    nonrobust     & \\textbf{                     } &             \\\\\n",
       "\\bottomrule\n",
       "\\end{tabular}\n",
       "\\begin{tabular}{lcccccc}\n",
       "               & \\textbf{coef} & \\textbf{std err} & \\textbf{t} & \\textbf{P$> |$t$|$} & \\textbf{[0.025} & \\textbf{0.975]}  \\\\\n",
       "\\midrule\n",
       "\\textbf{const} &       1.4160  &        0.245     &     5.785  &         0.000        &        0.932    &        1.900     \\\\\n",
       "\\textbf{X}     &      -0.0895  &        0.136     &    -0.657  &         0.512        &       -0.358    &        0.180     \\\\\n",
       "\\bottomrule\n",
       "\\end{tabular}\n",
       "\\begin{tabular}{lclc}\n",
       "\\textbf{Omnibus:}       & 257.108 & \\textbf{  Durbin-Watson:     } &     0.889  \\\\\n",
       "\\textbf{Prob(Omnibus):} &   0.000 & \\textbf{  Jarque-Bera (JB):  } & 27347.096  \\\\\n",
       "\\textbf{Skew:}          &   7.975 & \\textbf{  Prob(JB):          } &      0.00  \\\\\n",
       "\\textbf{Kurtosis:}      &  67.196 & \\textbf{  Cond. No.          } &      3.17  \\\\\n",
       "\\bottomrule\n",
       "\\end{tabular}\n",
       "%\\caption{OLS Regression Results}\n",
       "\\end{center}\n",
       "\n",
       "Notes: \\newline\n",
       " [1] Standard Errors assume that the covariance matrix of the errors is correctly specified."
      ],
      "text/plain": [
       "<class 'statsmodels.iolib.summary.Summary'>\n",
       "\"\"\"\n",
       "                            OLS Regression Results                            \n",
       "==============================================================================\n",
       "Dep. Variable:                      Y   R-squared:                       0.003\n",
       "Model:                            OLS   Adj. R-squared:                 -0.004\n",
       "Method:                 Least Squares   F-statistic:                    0.4319\n",
       "Date:                Thu, 11 May 2023   Prob (F-statistic):              0.512\n",
       "Time:                        20:03:41   Log-Likelihood:                -317.56\n",
       "No. Observations:                 150   AIC:                             639.1\n",
       "Df Residuals:                     148   BIC:                             645.1\n",
       "Df Model:                           1                                         \n",
       "Covariance Type:            nonrobust                                         \n",
       "==============================================================================\n",
       "                 coef    std err          t      P>|t|      [0.025      0.975]\n",
       "------------------------------------------------------------------------------\n",
       "const          1.4160      0.245      5.785      0.000       0.932       1.900\n",
       "X             -0.0895      0.136     -0.657      0.512      -0.358       0.180\n",
       "==============================================================================\n",
       "Omnibus:                      257.108   Durbin-Watson:                   0.889\n",
       "Prob(Omnibus):                  0.000   Jarque-Bera (JB):            27347.096\n",
       "Skew:                           7.975   Prob(JB):                         0.00\n",
       "Kurtosis:                      67.196   Cond. No.                         3.17\n",
       "==============================================================================\n",
       "\n",
       "Notes:\n",
       "[1] Standard Errors assume that the covariance matrix of the errors is correctly specified.\n",
       "\"\"\""
      ]
     },
     "execution_count": 6,
     "metadata": {},
     "output_type": "execute_result"
    }
   ],
   "source": [
    "X_with_constant = sm.add_constant(data_sample[\"X\"])\n",
    "result = sm.OLS(data_sample[\"Y\"], X_with_constant).fit()\n",
    "result.summary()"
   ]
  },
  {
   "cell_type": "code",
   "execution_count": 7,
   "id": "eb56aa9d-0fba-42ae-b67e-62015f1e2a7c",
   "metadata": {
    "tags": []
   },
   "outputs": [],
   "source": [
    "bX = data_sample[\"X\"] * result.params[0]\n",
    "abs_residual = np.abs(data_sample[\"Y\"] - result.params[\"const\"] - bX)"
   ]
  },
  {
   "cell_type": "code",
   "execution_count": 8,
   "id": "fd559962-86d3-4a0e-8b42-33c4bda316fc",
   "metadata": {},
   "outputs": [
    {
     "data": {
      "text/html": [
       "<table class=\"simpletable\">\n",
       "<caption>OLS Regression Results</caption>\n",
       "<tr>\n",
       "  <th>Dep. Variable:</th>            <td>y</td>        <th>  R-squared:         </th> <td>   0.515</td>\n",
       "</tr>\n",
       "<tr>\n",
       "  <th>Model:</th>                   <td>OLS</td>       <th>  Adj. R-squared:    </th> <td>   0.512</td>\n",
       "</tr>\n",
       "<tr>\n",
       "  <th>Method:</th>             <td>Least Squares</td>  <th>  F-statistic:       </th> <td>   157.4</td>\n",
       "</tr>\n",
       "<tr>\n",
       "  <th>Date:</th>             <td>Thu, 11 May 2023</td> <th>  Prob (F-statistic):</th> <td>4.74e-25</td>\n",
       "</tr>\n",
       "<tr>\n",
       "  <th>Time:</th>                 <td>20:03:41</td>     <th>  Log-Likelihood:    </th> <td> -281.48</td>\n",
       "</tr>\n",
       "<tr>\n",
       "  <th>No. Observations:</th>      <td>   150</td>      <th>  AIC:               </th> <td>   567.0</td>\n",
       "</tr>\n",
       "<tr>\n",
       "  <th>Df Residuals:</th>          <td>   148</td>      <th>  BIC:               </th> <td>   573.0</td>\n",
       "</tr>\n",
       "<tr>\n",
       "  <th>Df Model:</th>              <td>     1</td>      <th>                     </th>     <td> </td>   \n",
       "</tr>\n",
       "<tr>\n",
       "  <th>Covariance Type:</th>      <td>nonrobust</td>    <th>                     </th>     <td> </td>   \n",
       "</tr>\n",
       "</table>\n",
       "<table class=\"simpletable\">\n",
       "<tr>\n",
       "    <td></td>       <th>coef</th>     <th>std err</th>      <th>t</th>      <th>P>|t|</th>  <th>[0.025</th>    <th>0.975]</th>  \n",
       "</tr>\n",
       "<tr>\n",
       "  <th>const</th> <td>    0.7116</td> <td>    0.192</td> <td>    3.698</td> <td> 0.000</td> <td>    0.331</td> <td>    1.092</td>\n",
       "</tr>\n",
       "<tr>\n",
       "  <th>X</th>     <td>    1.3427</td> <td>    0.107</td> <td>   12.546</td> <td> 0.000</td> <td>    1.131</td> <td>    1.554</td>\n",
       "</tr>\n",
       "</table>\n",
       "<table class=\"simpletable\">\n",
       "<tr>\n",
       "  <th>Omnibus:</th>       <td>258.916</td> <th>  Durbin-Watson:     </th> <td>   1.125</td> \n",
       "</tr>\n",
       "<tr>\n",
       "  <th>Prob(Omnibus):</th> <td> 0.000</td>  <th>  Jarque-Bera (JB):  </th> <td>28388.447</td>\n",
       "</tr>\n",
       "<tr>\n",
       "  <th>Skew:</th>          <td> 8.069</td>  <th>  Prob(JB):          </th> <td>    0.00</td> \n",
       "</tr>\n",
       "<tr>\n",
       "  <th>Kurtosis:</th>      <td>68.435</td>  <th>  Cond. No.          </th> <td>    3.17</td> \n",
       "</tr>\n",
       "</table><br/><br/>Notes:<br/>[1] Standard Errors assume that the covariance matrix of the errors is correctly specified."
      ],
      "text/latex": [
       "\\begin{center}\n",
       "\\begin{tabular}{lclc}\n",
       "\\toprule\n",
       "\\textbf{Dep. Variable:}    &        y         & \\textbf{  R-squared:         } &     0.515   \\\\\n",
       "\\textbf{Model:}            &       OLS        & \\textbf{  Adj. R-squared:    } &     0.512   \\\\\n",
       "\\textbf{Method:}           &  Least Squares   & \\textbf{  F-statistic:       } &     157.4   \\\\\n",
       "\\textbf{Date:}             & Thu, 11 May 2023 & \\textbf{  Prob (F-statistic):} &  4.74e-25   \\\\\n",
       "\\textbf{Time:}             &     20:03:41     & \\textbf{  Log-Likelihood:    } &   -281.48   \\\\\n",
       "\\textbf{No. Observations:} &         150      & \\textbf{  AIC:               } &     567.0   \\\\\n",
       "\\textbf{Df Residuals:}     &         148      & \\textbf{  BIC:               } &     573.0   \\\\\n",
       "\\textbf{Df Model:}         &           1      & \\textbf{                     } &             \\\\\n",
       "\\textbf{Covariance Type:}  &    nonrobust     & \\textbf{                     } &             \\\\\n",
       "\\bottomrule\n",
       "\\end{tabular}\n",
       "\\begin{tabular}{lcccccc}\n",
       "               & \\textbf{coef} & \\textbf{std err} & \\textbf{t} & \\textbf{P$> |$t$|$} & \\textbf{[0.025} & \\textbf{0.975]}  \\\\\n",
       "\\midrule\n",
       "\\textbf{const} &       0.7116  &        0.192     &     3.698  &         0.000        &        0.331    &        1.092     \\\\\n",
       "\\textbf{X}     &       1.3427  &        0.107     &    12.546  &         0.000        &        1.131    &        1.554     \\\\\n",
       "\\bottomrule\n",
       "\\end{tabular}\n",
       "\\begin{tabular}{lclc}\n",
       "\\textbf{Omnibus:}       & 258.916 & \\textbf{  Durbin-Watson:     } &     1.125  \\\\\n",
       "\\textbf{Prob(Omnibus):} &   0.000 & \\textbf{  Jarque-Bera (JB):  } & 28388.447  \\\\\n",
       "\\textbf{Skew:}          &   8.069 & \\textbf{  Prob(JB):          } &      0.00  \\\\\n",
       "\\textbf{Kurtosis:}      &  68.435 & \\textbf{  Cond. No.          } &      3.17  \\\\\n",
       "\\bottomrule\n",
       "\\end{tabular}\n",
       "%\\caption{OLS Regression Results}\n",
       "\\end{center}\n",
       "\n",
       "Notes: \\newline\n",
       " [1] Standard Errors assume that the covariance matrix of the errors is correctly specified."
      ],
      "text/plain": [
       "<class 'statsmodels.iolib.summary.Summary'>\n",
       "\"\"\"\n",
       "                            OLS Regression Results                            \n",
       "==============================================================================\n",
       "Dep. Variable:                      y   R-squared:                       0.515\n",
       "Model:                            OLS   Adj. R-squared:                  0.512\n",
       "Method:                 Least Squares   F-statistic:                     157.4\n",
       "Date:                Thu, 11 May 2023   Prob (F-statistic):           4.74e-25\n",
       "Time:                        20:03:41   Log-Likelihood:                -281.48\n",
       "No. Observations:                 150   AIC:                             567.0\n",
       "Df Residuals:                     148   BIC:                             573.0\n",
       "Df Model:                           1                                         \n",
       "Covariance Type:            nonrobust                                         \n",
       "==============================================================================\n",
       "                 coef    std err          t      P>|t|      [0.025      0.975]\n",
       "------------------------------------------------------------------------------\n",
       "const          0.7116      0.192      3.698      0.000       0.331       1.092\n",
       "X              1.3427      0.107     12.546      0.000       1.131       1.554\n",
       "==============================================================================\n",
       "Omnibus:                      258.916   Durbin-Watson:                   1.125\n",
       "Prob(Omnibus):                  0.000   Jarque-Bera (JB):            28388.447\n",
       "Skew:                           8.069   Prob(JB):                         0.00\n",
       "Kurtosis:                      68.435   Cond. No.                         3.17\n",
       "==============================================================================\n",
       "\n",
       "Notes:\n",
       "[1] Standard Errors assume that the covariance matrix of the errors is correctly specified.\n",
       "\"\"\""
      ]
     },
     "execution_count": 8,
     "metadata": {},
     "output_type": "execute_result"
    }
   ],
   "source": [
    "hetero_result = sm.OLS(abs_residual, X_with_constant).fit()\n",
    "hetero_result.summary()"
   ]
  },
  {
   "cell_type": "code",
   "execution_count": 9,
   "id": "0b3aa3c9-21ff-4dbf-8662-2180b56c7cc0",
   "metadata": {
    "tags": []
   },
   "outputs": [],
   "source": [
    "XQ3,XQ1 = np.percentile(data_sample[\"X\"], [75 ,25])\n",
    "XIQR = XQ3 - XQ1 "
   ]
  },
  {
   "cell_type": "code",
   "execution_count": 10,
   "id": "df3a9035-4d1f-405e-8749-a91450c7052b",
   "metadata": {
    "tags": []
   },
   "outputs": [],
   "source": [
    "lower_X = XQ1 - (1.5 * XIQR)\n",
    "upper_X = XQ3 + (1.5 * XIQR)"
   ]
  },
  {
   "cell_type": "code",
   "execution_count": 11,
   "id": "170f2087-a9a6-4a2c-9ce9-2a6d5a326947",
   "metadata": {
    "tags": []
   },
   "outputs": [
    {
     "data": {
      "text/plain": [
       "70    6\n",
       "71    6\n",
       "72    6\n",
       "Name: X, dtype: int64"
      ]
     },
     "execution_count": 11,
     "metadata": {},
     "output_type": "execute_result"
    }
   ],
   "source": [
    "data_sample[\"X\"][(data_sample[\"X\"] < lower_X) | (data_sample[\"X\"] > upper_X)]"
   ]
  },
  {
   "cell_type": "code",
   "execution_count": 12,
   "id": "ced5a8b0-c902-4a69-91b4-cb66e803f5e2",
   "metadata": {
    "tags": []
   },
   "outputs": [],
   "source": [
    "data_sample.drop(data_sample[\"X\"][(data_sample[\"X\"] < lower_X) | (data_sample[\"X\"] > upper_X)].index, inplace=True)"
   ]
  },
  {
   "cell_type": "code",
   "execution_count": 13,
   "id": "9df5e80a-f224-472e-afce-3618c7a5f3ef",
   "metadata": {
    "tags": []
   },
   "outputs": [],
   "source": [
    "YQ3,YQ1 = np.percentile(data_sample['Y'], [75 ,25])\n",
    "YIQR = YQ3 - YQ1 "
   ]
  },
  {
   "cell_type": "code",
   "execution_count": 14,
   "id": "2de41fda-cd44-4955-ad46-93dd6a4652d7",
   "metadata": {
    "tags": []
   },
   "outputs": [],
   "source": [
    "lower_Y = YQ1 - (1.5 * YIQR)\n",
    "upper_Y = YQ3 + (1.5 * YIQR)"
   ]
  },
  {
   "cell_type": "code",
   "execution_count": 15,
   "id": "df12475e-fa7c-43e8-9cc9-92952b7560a3",
   "metadata": {
    "tags": []
   },
   "outputs": [],
   "source": [
    "data_sample.drop(data_sample[\"Y\"][(data_sample[\"Y\"] < lower_Y) | (data_sample[\"Y\"] > upper_Y)].index, inplace=True)"
   ]
  },
  {
   "cell_type": "code",
   "execution_count": 16,
   "id": "2bace5d1-4bd8-4a9d-93fd-ac7637c69b52",
   "metadata": {
    "tags": []
   },
   "outputs": [
    {
     "data": {
      "text/html": [
       "<div>\n",
       "<style scoped>\n",
       "    .dataframe tbody tr th:only-of-type {\n",
       "        vertical-align: middle;\n",
       "    }\n",
       "\n",
       "    .dataframe tbody tr th {\n",
       "        vertical-align: top;\n",
       "    }\n",
       "\n",
       "    .dataframe thead th {\n",
       "        text-align: right;\n",
       "    }\n",
       "</style>\n",
       "<table border=\"1\" class=\"dataframe\">\n",
       "  <thead>\n",
       "    <tr style=\"text-align: right;\">\n",
       "      <th></th>\n",
       "      <th>X</th>\n",
       "      <th>Y</th>\n",
       "    </tr>\n",
       "  </thead>\n",
       "  <tbody>\n",
       "    <tr>\n",
       "      <th>count</th>\n",
       "      <td>124.000000</td>\n",
       "      <td>124.000000</td>\n",
       "    </tr>\n",
       "    <tr>\n",
       "      <th>mean</th>\n",
       "      <td>1.370968</td>\n",
       "      <td>1.011561</td>\n",
       "    </tr>\n",
       "    <tr>\n",
       "      <th>std</th>\n",
       "      <td>1.023844</td>\n",
       "      <td>0.125741</td>\n",
       "    </tr>\n",
       "    <tr>\n",
       "      <th>min</th>\n",
       "      <td>0.000000</td>\n",
       "      <td>0.688744</td>\n",
       "    </tr>\n",
       "    <tr>\n",
       "      <th>25%</th>\n",
       "      <td>1.000000</td>\n",
       "      <td>0.934392</td>\n",
       "    </tr>\n",
       "    <tr>\n",
       "      <th>50%</th>\n",
       "      <td>1.000000</td>\n",
       "      <td>0.972770</td>\n",
       "    </tr>\n",
       "    <tr>\n",
       "      <th>75%</th>\n",
       "      <td>2.000000</td>\n",
       "      <td>1.063231</td>\n",
       "    </tr>\n",
       "    <tr>\n",
       "      <th>max</th>\n",
       "      <td>4.000000</td>\n",
       "      <td>1.385464</td>\n",
       "    </tr>\n",
       "  </tbody>\n",
       "</table>\n",
       "</div>"
      ],
      "text/plain": [
       "                X           Y\n",
       "count  124.000000  124.000000\n",
       "mean     1.370968    1.011561\n",
       "std      1.023844    0.125741\n",
       "min      0.000000    0.688744\n",
       "25%      1.000000    0.934392\n",
       "50%      1.000000    0.972770\n",
       "75%      2.000000    1.063231\n",
       "max      4.000000    1.385464"
      ]
     },
     "execution_count": 16,
     "metadata": {},
     "output_type": "execute_result"
    }
   ],
   "source": [
    "data_sample.describe()"
   ]
  },
  {
   "cell_type": "code",
   "execution_count": 17,
   "id": "7402085b-b96e-4d95-be0d-969c28efa595",
   "metadata": {
    "tags": []
   },
   "outputs": [
    {
     "data": {
      "text/html": [
       "<table class=\"simpletable\">\n",
       "<caption>OLS Regression Results</caption>\n",
       "<tr>\n",
       "  <th>Dep. Variable:</th>            <td>Y</td>        <th>  R-squared:         </th> <td>   0.021</td>\n",
       "</tr>\n",
       "<tr>\n",
       "  <th>Model:</th>                   <td>OLS</td>       <th>  Adj. R-squared:    </th> <td>   0.013</td>\n",
       "</tr>\n",
       "<tr>\n",
       "  <th>Method:</th>             <td>Least Squares</td>  <th>  F-statistic:       </th> <td>   2.672</td>\n",
       "</tr>\n",
       "<tr>\n",
       "  <th>Date:</th>             <td>Thu, 11 May 2023</td> <th>  Prob (F-statistic):</th>  <td> 0.105</td> \n",
       "</tr>\n",
       "<tr>\n",
       "  <th>Time:</th>                 <td>20:03:41</td>     <th>  Log-Likelihood:    </th> <td>  83.015</td>\n",
       "</tr>\n",
       "<tr>\n",
       "  <th>No. Observations:</th>      <td>   124</td>      <th>  AIC:               </th> <td>  -162.0</td>\n",
       "</tr>\n",
       "<tr>\n",
       "  <th>Df Residuals:</th>          <td>   122</td>      <th>  BIC:               </th> <td>  -156.4</td>\n",
       "</tr>\n",
       "<tr>\n",
       "  <th>Df Model:</th>              <td>     1</td>      <th>                     </th>     <td> </td>   \n",
       "</tr>\n",
       "<tr>\n",
       "  <th>Covariance Type:</th>      <td>nonrobust</td>    <th>                     </th>     <td> </td>   \n",
       "</tr>\n",
       "</table>\n",
       "<table class=\"simpletable\">\n",
       "<tr>\n",
       "    <td></td>       <th>coef</th>     <th>std err</th>      <th>t</th>      <th>P>|t|</th>  <th>[0.025</th>    <th>0.975]</th>  \n",
       "</tr>\n",
       "<tr>\n",
       "  <th>const</th> <td>    0.9869</td> <td>    0.019</td> <td>   52.514</td> <td> 0.000</td> <td>    0.950</td> <td>    1.024</td>\n",
       "</tr>\n",
       "<tr>\n",
       "  <th>X</th>     <td>    0.0180</td> <td>    0.011</td> <td>    1.635</td> <td> 0.105</td> <td>   -0.004</td> <td>    0.040</td>\n",
       "</tr>\n",
       "</table>\n",
       "<table class=\"simpletable\">\n",
       "<tr>\n",
       "  <th>Omnibus:</th>       <td>16.763</td> <th>  Durbin-Watson:     </th> <td>   0.904</td>\n",
       "</tr>\n",
       "<tr>\n",
       "  <th>Prob(Omnibus):</th> <td> 0.000</td> <th>  Jarque-Bera (JB):  </th> <td>  19.159</td>\n",
       "</tr>\n",
       "<tr>\n",
       "  <th>Skew:</th>          <td> 0.936</td> <th>  Prob(JB):          </th> <td>6.91e-05</td>\n",
       "</tr>\n",
       "<tr>\n",
       "  <th>Kurtosis:</th>      <td> 3.449</td> <th>  Cond. No.          </th> <td>    3.56</td>\n",
       "</tr>\n",
       "</table><br/><br/>Notes:<br/>[1] Standard Errors assume that the covariance matrix of the errors is correctly specified."
      ],
      "text/latex": [
       "\\begin{center}\n",
       "\\begin{tabular}{lclc}\n",
       "\\toprule\n",
       "\\textbf{Dep. Variable:}    &        Y         & \\textbf{  R-squared:         } &     0.021   \\\\\n",
       "\\textbf{Model:}            &       OLS        & \\textbf{  Adj. R-squared:    } &     0.013   \\\\\n",
       "\\textbf{Method:}           &  Least Squares   & \\textbf{  F-statistic:       } &     2.672   \\\\\n",
       "\\textbf{Date:}             & Thu, 11 May 2023 & \\textbf{  Prob (F-statistic):} &    0.105    \\\\\n",
       "\\textbf{Time:}             &     20:03:41     & \\textbf{  Log-Likelihood:    } &    83.015   \\\\\n",
       "\\textbf{No. Observations:} &         124      & \\textbf{  AIC:               } &    -162.0   \\\\\n",
       "\\textbf{Df Residuals:}     &         122      & \\textbf{  BIC:               } &    -156.4   \\\\\n",
       "\\textbf{Df Model:}         &           1      & \\textbf{                     } &             \\\\\n",
       "\\textbf{Covariance Type:}  &    nonrobust     & \\textbf{                     } &             \\\\\n",
       "\\bottomrule\n",
       "\\end{tabular}\n",
       "\\begin{tabular}{lcccccc}\n",
       "               & \\textbf{coef} & \\textbf{std err} & \\textbf{t} & \\textbf{P$> |$t$|$} & \\textbf{[0.025} & \\textbf{0.975]}  \\\\\n",
       "\\midrule\n",
       "\\textbf{const} &       0.9869  &        0.019     &    52.514  &         0.000        &        0.950    &        1.024     \\\\\n",
       "\\textbf{X}     &       0.0180  &        0.011     &     1.635  &         0.105        &       -0.004    &        0.040     \\\\\n",
       "\\bottomrule\n",
       "\\end{tabular}\n",
       "\\begin{tabular}{lclc}\n",
       "\\textbf{Omnibus:}       & 16.763 & \\textbf{  Durbin-Watson:     } &    0.904  \\\\\n",
       "\\textbf{Prob(Omnibus):} &  0.000 & \\textbf{  Jarque-Bera (JB):  } &   19.159  \\\\\n",
       "\\textbf{Skew:}          &  0.936 & \\textbf{  Prob(JB):          } & 6.91e-05  \\\\\n",
       "\\textbf{Kurtosis:}      &  3.449 & \\textbf{  Cond. No.          } &     3.56  \\\\\n",
       "\\bottomrule\n",
       "\\end{tabular}\n",
       "%\\caption{OLS Regression Results}\n",
       "\\end{center}\n",
       "\n",
       "Notes: \\newline\n",
       " [1] Standard Errors assume that the covariance matrix of the errors is correctly specified."
      ],
      "text/plain": [
       "<class 'statsmodels.iolib.summary.Summary'>\n",
       "\"\"\"\n",
       "                            OLS Regression Results                            \n",
       "==============================================================================\n",
       "Dep. Variable:                      Y   R-squared:                       0.021\n",
       "Model:                            OLS   Adj. R-squared:                  0.013\n",
       "Method:                 Least Squares   F-statistic:                     2.672\n",
       "Date:                Thu, 11 May 2023   Prob (F-statistic):              0.105\n",
       "Time:                        20:03:41   Log-Likelihood:                 83.015\n",
       "No. Observations:                 124   AIC:                            -162.0\n",
       "Df Residuals:                     122   BIC:                            -156.4\n",
       "Df Model:                           1                                         \n",
       "Covariance Type:            nonrobust                                         \n",
       "==============================================================================\n",
       "                 coef    std err          t      P>|t|      [0.025      0.975]\n",
       "------------------------------------------------------------------------------\n",
       "const          0.9869      0.019     52.514      0.000       0.950       1.024\n",
       "X              0.0180      0.011      1.635      0.105      -0.004       0.040\n",
       "==============================================================================\n",
       "Omnibus:                       16.763   Durbin-Watson:                   0.904\n",
       "Prob(Omnibus):                  0.000   Jarque-Bera (JB):               19.159\n",
       "Skew:                           0.936   Prob(JB):                     6.91e-05\n",
       "Kurtosis:                       3.449   Cond. No.                         3.56\n",
       "==============================================================================\n",
       "\n",
       "Notes:\n",
       "[1] Standard Errors assume that the covariance matrix of the errors is correctly specified.\n",
       "\"\"\""
      ]
     },
     "execution_count": 17,
     "metadata": {},
     "output_type": "execute_result"
    }
   ],
   "source": [
    "X_with_constant = sm.add_constant(data_sample[\"X\"])\n",
    "result = sm.OLS(data_sample[\"Y\"], X_with_constant).fit()\n",
    "result.summary()"
   ]
  },
  {
   "cell_type": "code",
   "execution_count": 18,
   "id": "19459625-0d19-465b-bb77-97071054064e",
   "metadata": {
    "tags": []
   },
   "outputs": [],
   "source": [
    "bX = data_sample[\"X\"] * result.params[\"X\"]"
   ]
  },
  {
   "cell_type": "code",
   "execution_count": 19,
   "id": "2587e74e-d66d-418e-9d70-398f042d3d35",
   "metadata": {
    "tags": []
   },
   "outputs": [],
   "source": [
    "# Y = a + bX + e\n",
    "# e = Y - a - bX\n",
    "\n",
    "abs_residual = np.abs(data_sample[\"Y\"] - result.params[\"const\"] - bX)"
   ]
  },
  {
   "cell_type": "code",
   "execution_count": 20,
   "id": "5e613d94-eea1-4c13-9acd-74efe7d69ecf",
   "metadata": {
    "tags": []
   },
   "outputs": [
    {
     "data": {
      "text/html": [
       "<table class=\"simpletable\">\n",
       "<caption>OLS Regression Results</caption>\n",
       "<tr>\n",
       "  <th>Dep. Variable:</th>            <td>y</td>        <th>  R-squared:         </th> <td>   0.008</td>\n",
       "</tr>\n",
       "<tr>\n",
       "  <th>Model:</th>                   <td>OLS</td>       <th>  Adj. R-squared:    </th> <td>  -0.001</td>\n",
       "</tr>\n",
       "<tr>\n",
       "  <th>Method:</th>             <td>Least Squares</td>  <th>  F-statistic:       </th> <td>  0.9361</td>\n",
       "</tr>\n",
       "<tr>\n",
       "  <th>Date:</th>             <td>Thu, 11 May 2023</td> <th>  Prob (F-statistic):</th>  <td> 0.335</td> \n",
       "</tr>\n",
       "<tr>\n",
       "  <th>Time:</th>                 <td>20:03:42</td>     <th>  Log-Likelihood:    </th> <td>  145.48</td>\n",
       "</tr>\n",
       "<tr>\n",
       "  <th>No. Observations:</th>      <td>   124</td>      <th>  AIC:               </th> <td>  -287.0</td>\n",
       "</tr>\n",
       "<tr>\n",
       "  <th>Df Residuals:</th>          <td>   122</td>      <th>  BIC:               </th> <td>  -281.3</td>\n",
       "</tr>\n",
       "<tr>\n",
       "  <th>Df Model:</th>              <td>     1</td>      <th>                     </th>     <td> </td>   \n",
       "</tr>\n",
       "<tr>\n",
       "  <th>Covariance Type:</th>      <td>nonrobust</td>    <th>                     </th>     <td> </td>   \n",
       "</tr>\n",
       "</table>\n",
       "<table class=\"simpletable\">\n",
       "<tr>\n",
       "    <td></td>       <th>coef</th>     <th>std err</th>      <th>t</th>      <th>P>|t|</th>  <th>[0.025</th>    <th>0.975]</th>  \n",
       "</tr>\n",
       "<tr>\n",
       "  <th>const</th> <td>    0.0897</td> <td>    0.011</td> <td>    7.897</td> <td> 0.000</td> <td>    0.067</td> <td>    0.112</td>\n",
       "</tr>\n",
       "<tr>\n",
       "  <th>X</th>     <td>    0.0064</td> <td>    0.007</td> <td>    0.968</td> <td> 0.335</td> <td>   -0.007</td> <td>    0.020</td>\n",
       "</tr>\n",
       "</table>\n",
       "<table class=\"simpletable\">\n",
       "<tr>\n",
       "  <th>Omnibus:</th>       <td>39.839</td> <th>  Durbin-Watson:     </th> <td>   1.215</td>\n",
       "</tr>\n",
       "<tr>\n",
       "  <th>Prob(Omnibus):</th> <td> 0.000</td> <th>  Jarque-Bera (JB):  </th> <td>  72.638</td>\n",
       "</tr>\n",
       "<tr>\n",
       "  <th>Skew:</th>          <td> 1.438</td> <th>  Prob(JB):          </th> <td>1.69e-16</td>\n",
       "</tr>\n",
       "<tr>\n",
       "  <th>Kurtosis:</th>      <td> 5.405</td> <th>  Cond. No.          </th> <td>    3.56</td>\n",
       "</tr>\n",
       "</table><br/><br/>Notes:<br/>[1] Standard Errors assume that the covariance matrix of the errors is correctly specified."
      ],
      "text/latex": [
       "\\begin{center}\n",
       "\\begin{tabular}{lclc}\n",
       "\\toprule\n",
       "\\textbf{Dep. Variable:}    &        y         & \\textbf{  R-squared:         } &     0.008   \\\\\n",
       "\\textbf{Model:}            &       OLS        & \\textbf{  Adj. R-squared:    } &    -0.001   \\\\\n",
       "\\textbf{Method:}           &  Least Squares   & \\textbf{  F-statistic:       } &    0.9361   \\\\\n",
       "\\textbf{Date:}             & Thu, 11 May 2023 & \\textbf{  Prob (F-statistic):} &    0.335    \\\\\n",
       "\\textbf{Time:}             &     20:03:42     & \\textbf{  Log-Likelihood:    } &    145.48   \\\\\n",
       "\\textbf{No. Observations:} &         124      & \\textbf{  AIC:               } &    -287.0   \\\\\n",
       "\\textbf{Df Residuals:}     &         122      & \\textbf{  BIC:               } &    -281.3   \\\\\n",
       "\\textbf{Df Model:}         &           1      & \\textbf{                     } &             \\\\\n",
       "\\textbf{Covariance Type:}  &    nonrobust     & \\textbf{                     } &             \\\\\n",
       "\\bottomrule\n",
       "\\end{tabular}\n",
       "\\begin{tabular}{lcccccc}\n",
       "               & \\textbf{coef} & \\textbf{std err} & \\textbf{t} & \\textbf{P$> |$t$|$} & \\textbf{[0.025} & \\textbf{0.975]}  \\\\\n",
       "\\midrule\n",
       "\\textbf{const} &       0.0897  &        0.011     &     7.897  &         0.000        &        0.067    &        0.112     \\\\\n",
       "\\textbf{X}     &       0.0064  &        0.007     &     0.968  &         0.335        &       -0.007    &        0.020     \\\\\n",
       "\\bottomrule\n",
       "\\end{tabular}\n",
       "\\begin{tabular}{lclc}\n",
       "\\textbf{Omnibus:}       & 39.839 & \\textbf{  Durbin-Watson:     } &    1.215  \\\\\n",
       "\\textbf{Prob(Omnibus):} &  0.000 & \\textbf{  Jarque-Bera (JB):  } &   72.638  \\\\\n",
       "\\textbf{Skew:}          &  1.438 & \\textbf{  Prob(JB):          } & 1.69e-16  \\\\\n",
       "\\textbf{Kurtosis:}      &  5.405 & \\textbf{  Cond. No.          } &     3.56  \\\\\n",
       "\\bottomrule\n",
       "\\end{tabular}\n",
       "%\\caption{OLS Regression Results}\n",
       "\\end{center}\n",
       "\n",
       "Notes: \\newline\n",
       " [1] Standard Errors assume that the covariance matrix of the errors is correctly specified."
      ],
      "text/plain": [
       "<class 'statsmodels.iolib.summary.Summary'>\n",
       "\"\"\"\n",
       "                            OLS Regression Results                            \n",
       "==============================================================================\n",
       "Dep. Variable:                      y   R-squared:                       0.008\n",
       "Model:                            OLS   Adj. R-squared:                 -0.001\n",
       "Method:                 Least Squares   F-statistic:                    0.9361\n",
       "Date:                Thu, 11 May 2023   Prob (F-statistic):              0.335\n",
       "Time:                        20:03:42   Log-Likelihood:                 145.48\n",
       "No. Observations:                 124   AIC:                            -287.0\n",
       "Df Residuals:                     122   BIC:                            -281.3\n",
       "Df Model:                           1                                         \n",
       "Covariance Type:            nonrobust                                         \n",
       "==============================================================================\n",
       "                 coef    std err          t      P>|t|      [0.025      0.975]\n",
       "------------------------------------------------------------------------------\n",
       "const          0.0897      0.011      7.897      0.000       0.067       0.112\n",
       "X              0.0064      0.007      0.968      0.335      -0.007       0.020\n",
       "==============================================================================\n",
       "Omnibus:                       39.839   Durbin-Watson:                   1.215\n",
       "Prob(Omnibus):                  0.000   Jarque-Bera (JB):               72.638\n",
       "Skew:                           1.438   Prob(JB):                     1.69e-16\n",
       "Kurtosis:                       5.405   Cond. No.                         3.56\n",
       "==============================================================================\n",
       "\n",
       "Notes:\n",
       "[1] Standard Errors assume that the covariance matrix of the errors is correctly specified.\n",
       "\"\"\""
      ]
     },
     "execution_count": 20,
     "metadata": {},
     "output_type": "execute_result"
    }
   ],
   "source": [
    "hetero_result = sm.OLS(abs_residual, X_with_constant).fit()\n",
    "hetero_result.summary()"
   ]
  }
 ],
 "metadata": {
  "kernelspec": {
   "display_name": "Python 3 (ipykernel)",
   "language": "python",
   "name": "python3"
  },
  "language_info": {
   "codemirror_mode": {
    "name": "ipython",
    "version": 3
   },
   "file_extension": ".py",
   "mimetype": "text/x-python",
   "name": "python",
   "nbconvert_exporter": "python",
   "pygments_lexer": "ipython3",
   "version": "3.11.3"
  }
 },
 "nbformat": 4,
 "nbformat_minor": 5
}

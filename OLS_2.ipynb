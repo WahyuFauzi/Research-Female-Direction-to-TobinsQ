{
 "cells": [
  {
   "cell_type": "code",
   "execution_count": 24,
   "id": "046c1a20-b1cd-4845-9595-fa120f32f51f",
   "metadata": {
    "tags": []
   },
   "outputs": [],
   "source": [
    "import scipy\n",
    "import pandas as pd\n",
    "import numpy as np\n",
    "import statsmodels.api as sm"
   ]
  },
  {
   "cell_type": "raw",
   "id": "15740c56-0b5b-42f1-a666-6342123bfad3",
   "metadata": {},
   "source": [
    "Pada bagian ini data akan dibersihkan dahulu\n",
    "Data kemudian akan diuji dengan teknik OLS untuk melihat pengaruh dan signifikansi data\n",
    "\n",
    "\n",
    "* nampaknya variabel jumlah direksi perempuan membuat data mengalami gejala heterokedastisitas"
   ]
  },
  {
   "cell_type": "code",
   "execution_count": 25,
   "id": "cd5adea4-5b9a-4567-b551-8438d2634ef9",
   "metadata": {},
   "outputs": [
    {
     "data": {
      "text/plain": [
       "Direksi Perempuan    int64\n",
       "Direksi Laki-Laki    int64\n",
       "Harga penutupan      int64\n",
       "Total Shares         int64\n",
       "Total Utang          int64\n",
       "Total Asset          int64\n",
       "dtype: object"
      ]
     },
     "execution_count": 25,
     "metadata": {},
     "output_type": "execute_result"
    }
   ],
   "source": [
    "df = pd.read_csv(\"Data.csv\", sep=\";\")\n",
    "df.dtypes"
   ]
  },
  {
   "cell_type": "code",
   "execution_count": 26,
   "id": "254b0387-cde9-410d-be05-cd31d572d27b",
   "metadata": {},
   "outputs": [],
   "source": [
    "X = (df['Direksi Perempuan'])/(df['Direksi Perempuan'] + df['Direksi Laki-Laki'])\n",
    "#X = df[\"Direksi Perempuan\"]\n",
    "nilai_pasar = df[\"Total Shares\"] * df[\"Harga penutupan\"]\n",
    "np_plus_liability = nilai_pasar + df[\"Total Utang\"]\n",
    "#Y = np_plus_liability / df[\"Total Asset\"]\n",
    "Y = nilai_pasar / df[\"Total Asset\"]\n",
    "\n",
    "data = pd.DataFrame({\"X\":X, \"Y\":Y})\n",
    "X_mean = np.mean(data[\"X\"])\n",
    "X_std = np.std(data[\"X\"])\n",
    "Y_mean = np.mean(data[\"Y\"])\n",
    "Y_std = np.std(data[\"Y\"])"
   ]
  },
  {
   "cell_type": "code",
   "execution_count": 27,
   "id": "eaa6172f-c313-40fa-850c-4ef2f7cce5a4",
   "metadata": {
    "tags": []
   },
   "outputs": [
    {
     "data": {
      "text/html": [
       "<div>\n",
       "<style scoped>\n",
       "    .dataframe tbody tr th:only-of-type {\n",
       "        vertical-align: middle;\n",
       "    }\n",
       "\n",
       "    .dataframe tbody tr th {\n",
       "        vertical-align: top;\n",
       "    }\n",
       "\n",
       "    .dataframe thead th {\n",
       "        text-align: right;\n",
       "    }\n",
       "</style>\n",
       "<table border=\"1\" class=\"dataframe\">\n",
       "  <thead>\n",
       "    <tr style=\"text-align: right;\">\n",
       "      <th></th>\n",
       "      <th>X</th>\n",
       "      <th>Y</th>\n",
       "    </tr>\n",
       "  </thead>\n",
       "  <tbody>\n",
       "    <tr>\n",
       "      <th>count</th>\n",
       "      <td>140.000000</td>\n",
       "      <td>140.000000</td>\n",
       "    </tr>\n",
       "    <tr>\n",
       "      <th>mean</th>\n",
       "      <td>0.179244</td>\n",
       "      <td>0.540043</td>\n",
       "    </tr>\n",
       "    <tr>\n",
       "      <th>std</th>\n",
       "      <td>0.150606</td>\n",
       "      <td>2.141017</td>\n",
       "    </tr>\n",
       "    <tr>\n",
       "      <th>min</th>\n",
       "      <td>0.000000</td>\n",
       "      <td>0.007332</td>\n",
       "    </tr>\n",
       "    <tr>\n",
       "      <th>25%</th>\n",
       "      <td>0.000000</td>\n",
       "      <td>0.096924</td>\n",
       "    </tr>\n",
       "    <tr>\n",
       "      <th>50%</th>\n",
       "      <td>0.181818</td>\n",
       "      <td>0.140086</td>\n",
       "    </tr>\n",
       "    <tr>\n",
       "      <th>75%</th>\n",
       "      <td>0.255682</td>\n",
       "      <td>0.277923</td>\n",
       "    </tr>\n",
       "    <tr>\n",
       "      <th>max</th>\n",
       "      <td>0.750000</td>\n",
       "      <td>18.006205</td>\n",
       "    </tr>\n",
       "  </tbody>\n",
       "</table>\n",
       "</div>"
      ],
      "text/plain": [
       "                X           Y\n",
       "count  140.000000  140.000000\n",
       "mean     0.179244    0.540043\n",
       "std      0.150606    2.141017\n",
       "min      0.000000    0.007332\n",
       "25%      0.000000    0.096924\n",
       "50%      0.181818    0.140086\n",
       "75%      0.255682    0.277923\n",
       "max      0.750000   18.006205"
      ]
     },
     "execution_count": 27,
     "metadata": {},
     "output_type": "execute_result"
    }
   ],
   "source": [
    "data_sample = pd.DataFrame({\"X\": X, \"Y\": Y})\n",
    "data_sample.describe()"
   ]
  },
  {
   "cell_type": "code",
   "execution_count": 28,
   "id": "1a4ecbd8-f223-4dd8-9b09-2d8ebbaad7f4",
   "metadata": {
    "tags": []
   },
   "outputs": [],
   "source": [
    "# data_sample.drop(data_sample[data_sample[\"X\"] == 0].index, inplace=True)\n",
    "# np.size(np.where(data_sample[\"X\"] == 0))"
   ]
  },
  {
   "cell_type": "code",
   "execution_count": 29,
   "id": "64bfb377-f5eb-4e76-917c-a09f1683ffa0",
   "metadata": {
    "tags": []
   },
   "outputs": [
    {
     "data": {
      "text/html": [
       "<table class=\"simpletable\">\n",
       "<caption>OLS Regression Results</caption>\n",
       "<tr>\n",
       "  <th>Dep. Variable:</th>            <td>Y</td>        <th>  R-squared:         </th> <td>   0.001</td>\n",
       "</tr>\n",
       "<tr>\n",
       "  <th>Model:</th>                   <td>OLS</td>       <th>  Adj. R-squared:    </th> <td>  -0.006</td>\n",
       "</tr>\n",
       "<tr>\n",
       "  <th>Method:</th>             <td>Least Squares</td>  <th>  F-statistic:       </th> <td>  0.1166</td>\n",
       "</tr>\n",
       "<tr>\n",
       "  <th>Date:</th>             <td>Sun, 07 May 2023</td> <th>  Prob (F-statistic):</th>  <td> 0.733</td> \n",
       "</tr>\n",
       "<tr>\n",
       "  <th>Time:</th>                 <td>23:37:31</td>     <th>  Log-Likelihood:    </th> <td> -304.67</td>\n",
       "</tr>\n",
       "<tr>\n",
       "  <th>No. Observations:</th>      <td>   140</td>      <th>  AIC:               </th> <td>   613.3</td>\n",
       "</tr>\n",
       "<tr>\n",
       "  <th>Df Residuals:</th>          <td>   138</td>      <th>  BIC:               </th> <td>   619.2</td>\n",
       "</tr>\n",
       "<tr>\n",
       "  <th>Df Model:</th>              <td>     1</td>      <th>                     </th>     <td> </td>   \n",
       "</tr>\n",
       "<tr>\n",
       "  <th>Covariance Type:</th>      <td>nonrobust</td>    <th>                     </th>     <td> </td>   \n",
       "</tr>\n",
       "</table>\n",
       "<table class=\"simpletable\">\n",
       "<tr>\n",
       "    <td></td>       <th>coef</th>     <th>std err</th>      <th>t</th>      <th>P>|t|</th>  <th>[0.025</th>    <th>0.975]</th>  \n",
       "</tr>\n",
       "<tr>\n",
       "  <th>const</th> <td>    0.6141</td> <td>    0.283</td> <td>    2.172</td> <td> 0.032</td> <td>    0.055</td> <td>    1.173</td>\n",
       "</tr>\n",
       "<tr>\n",
       "  <th>X</th>     <td>   -0.4131</td> <td>    1.210</td> <td>   -0.342</td> <td> 0.733</td> <td>   -2.805</td> <td>    1.979</td>\n",
       "</tr>\n",
       "</table>\n",
       "<table class=\"simpletable\">\n",
       "<tr>\n",
       "  <th>Omnibus:</th>       <td>238.333</td> <th>  Durbin-Watson:     </th> <td>   0.879</td> \n",
       "</tr>\n",
       "<tr>\n",
       "  <th>Prob(Omnibus):</th> <td> 0.000</td>  <th>  Jarque-Bera (JB):  </th> <td>22075.281</td>\n",
       "</tr>\n",
       "<tr>\n",
       "  <th>Skew:</th>          <td> 7.701</td>  <th>  Prob(JB):          </th> <td>    0.00</td> \n",
       "</tr>\n",
       "<tr>\n",
       "  <th>Kurtosis:</th>      <td>62.557</td>  <th>  Cond. No.          </th> <td>    6.88</td> \n",
       "</tr>\n",
       "</table><br/><br/>Notes:<br/>[1] Standard Errors assume that the covariance matrix of the errors is correctly specified."
      ],
      "text/latex": [
       "\\begin{center}\n",
       "\\begin{tabular}{lclc}\n",
       "\\toprule\n",
       "\\textbf{Dep. Variable:}    &        Y         & \\textbf{  R-squared:         } &     0.001   \\\\\n",
       "\\textbf{Model:}            &       OLS        & \\textbf{  Adj. R-squared:    } &    -0.006   \\\\\n",
       "\\textbf{Method:}           &  Least Squares   & \\textbf{  F-statistic:       } &    0.1166   \\\\\n",
       "\\textbf{Date:}             & Sun, 07 May 2023 & \\textbf{  Prob (F-statistic):} &    0.733    \\\\\n",
       "\\textbf{Time:}             &     23:37:31     & \\textbf{  Log-Likelihood:    } &   -304.67   \\\\\n",
       "\\textbf{No. Observations:} &         140      & \\textbf{  AIC:               } &     613.3   \\\\\n",
       "\\textbf{Df Residuals:}     &         138      & \\textbf{  BIC:               } &     619.2   \\\\\n",
       "\\textbf{Df Model:}         &           1      & \\textbf{                     } &             \\\\\n",
       "\\textbf{Covariance Type:}  &    nonrobust     & \\textbf{                     } &             \\\\\n",
       "\\bottomrule\n",
       "\\end{tabular}\n",
       "\\begin{tabular}{lcccccc}\n",
       "               & \\textbf{coef} & \\textbf{std err} & \\textbf{t} & \\textbf{P$> |$t$|$} & \\textbf{[0.025} & \\textbf{0.975]}  \\\\\n",
       "\\midrule\n",
       "\\textbf{const} &       0.6141  &        0.283     &     2.172  &         0.032        &        0.055    &        1.173     \\\\\n",
       "\\textbf{X}     &      -0.4131  &        1.210     &    -0.342  &         0.733        &       -2.805    &        1.979     \\\\\n",
       "\\bottomrule\n",
       "\\end{tabular}\n",
       "\\begin{tabular}{lclc}\n",
       "\\textbf{Omnibus:}       & 238.333 & \\textbf{  Durbin-Watson:     } &     0.879  \\\\\n",
       "\\textbf{Prob(Omnibus):} &   0.000 & \\textbf{  Jarque-Bera (JB):  } & 22075.281  \\\\\n",
       "\\textbf{Skew:}          &   7.701 & \\textbf{  Prob(JB):          } &      0.00  \\\\\n",
       "\\textbf{Kurtosis:}      &  62.557 & \\textbf{  Cond. No.          } &      6.88  \\\\\n",
       "\\bottomrule\n",
       "\\end{tabular}\n",
       "%\\caption{OLS Regression Results}\n",
       "\\end{center}\n",
       "\n",
       "Notes: \\newline\n",
       " [1] Standard Errors assume that the covariance matrix of the errors is correctly specified."
      ],
      "text/plain": [
       "<class 'statsmodels.iolib.summary.Summary'>\n",
       "\"\"\"\n",
       "                            OLS Regression Results                            \n",
       "==============================================================================\n",
       "Dep. Variable:                      Y   R-squared:                       0.001\n",
       "Model:                            OLS   Adj. R-squared:                 -0.006\n",
       "Method:                 Least Squares   F-statistic:                    0.1166\n",
       "Date:                Sun, 07 May 2023   Prob (F-statistic):              0.733\n",
       "Time:                        23:37:31   Log-Likelihood:                -304.67\n",
       "No. Observations:                 140   AIC:                             613.3\n",
       "Df Residuals:                     138   BIC:                             619.2\n",
       "Df Model:                           1                                         \n",
       "Covariance Type:            nonrobust                                         \n",
       "==============================================================================\n",
       "                 coef    std err          t      P>|t|      [0.025      0.975]\n",
       "------------------------------------------------------------------------------\n",
       "const          0.6141      0.283      2.172      0.032       0.055       1.173\n",
       "X             -0.4131      1.210     -0.342      0.733      -2.805       1.979\n",
       "==============================================================================\n",
       "Omnibus:                      238.333   Durbin-Watson:                   0.879\n",
       "Prob(Omnibus):                  0.000   Jarque-Bera (JB):            22075.281\n",
       "Skew:                           7.701   Prob(JB):                         0.00\n",
       "Kurtosis:                      62.557   Cond. No.                         6.88\n",
       "==============================================================================\n",
       "\n",
       "Notes:\n",
       "[1] Standard Errors assume that the covariance matrix of the errors is correctly specified.\n",
       "\"\"\""
      ]
     },
     "execution_count": 29,
     "metadata": {},
     "output_type": "execute_result"
    }
   ],
   "source": [
    "X_with_constant = sm.add_constant(data_sample[\"X\"])\n",
    "result = sm.OLS(data_sample[\"Y\"], X_with_constant).fit()\n",
    "result.summary()"
   ]
  },
  {
   "cell_type": "code",
   "execution_count": 30,
   "id": "eb56aa9d-0fba-42ae-b67e-62015f1e2a7c",
   "metadata": {
    "tags": []
   },
   "outputs": [],
   "source": [
    "bX = data_sample[\"X\"] * result.params[0]\n",
    "abs_residual = np.abs(data_sample[\"Y\"] - result.params[\"const\"] - bX)"
   ]
  },
  {
   "cell_type": "code",
   "execution_count": 31,
   "id": "fd559962-86d3-4a0e-8b42-33c4bda316fc",
   "metadata": {},
   "outputs": [
    {
     "data": {
      "text/html": [
       "<table class=\"simpletable\">\n",
       "<caption>OLS Regression Results</caption>\n",
       "<tr>\n",
       "  <th>Dep. Variable:</th>            <td>y</td>        <th>  R-squared:         </th> <td>   0.002</td>\n",
       "</tr>\n",
       "<tr>\n",
       "  <th>Model:</th>                   <td>OLS</td>       <th>  Adj. R-squared:    </th> <td>  -0.005</td>\n",
       "</tr>\n",
       "<tr>\n",
       "  <th>Method:</th>             <td>Least Squares</td>  <th>  F-statistic:       </th> <td>  0.2424</td>\n",
       "</tr>\n",
       "<tr>\n",
       "  <th>Date:</th>             <td>Sun, 07 May 2023</td> <th>  Prob (F-statistic):</th>  <td> 0.623</td> \n",
       "</tr>\n",
       "<tr>\n",
       "  <th>Time:</th>                 <td>23:37:31</td>     <th>  Log-Likelihood:    </th> <td> -294.18</td>\n",
       "</tr>\n",
       "<tr>\n",
       "  <th>No. Observations:</th>      <td>   140</td>      <th>  AIC:               </th> <td>   592.4</td>\n",
       "</tr>\n",
       "<tr>\n",
       "  <th>Df Residuals:</th>          <td>   138</td>      <th>  BIC:               </th> <td>   598.2</td>\n",
       "</tr>\n",
       "<tr>\n",
       "  <th>Df Model:</th>              <td>     1</td>      <th>                     </th>     <td> </td>   \n",
       "</tr>\n",
       "<tr>\n",
       "  <th>Covariance Type:</th>      <td>nonrobust</td>    <th>                     </th>     <td> </td>   \n",
       "</tr>\n",
       "</table>\n",
       "<table class=\"simpletable\">\n",
       "<tr>\n",
       "    <td></td>       <th>coef</th>     <th>std err</th>      <th>t</th>      <th>P>|t|</th>  <th>[0.025</th>    <th>0.975]</th>  \n",
       "</tr>\n",
       "<tr>\n",
       "  <th>const</th> <td>    0.7279</td> <td>    0.262</td> <td>    2.774</td> <td> 0.006</td> <td>    0.209</td> <td>    1.247</td>\n",
       "</tr>\n",
       "<tr>\n",
       "  <th>X</th>     <td>    0.5526</td> <td>    1.122</td> <td>    0.492</td> <td> 0.623</td> <td>   -1.667</td> <td>    2.772</td>\n",
       "</tr>\n",
       "</table>\n",
       "<table class=\"simpletable\">\n",
       "<tr>\n",
       "  <th>Omnibus:</th>       <td>244.266</td> <th>  Durbin-Watson:     </th> <td>   0.948</td> \n",
       "</tr>\n",
       "<tr>\n",
       "  <th>Prob(Omnibus):</th> <td> 0.000</td>  <th>  Jarque-Bera (JB):  </th> <td>24867.894</td>\n",
       "</tr>\n",
       "<tr>\n",
       "  <th>Skew:</th>          <td> 8.029</td>  <th>  Prob(JB):          </th> <td>    0.00</td> \n",
       "</tr>\n",
       "<tr>\n",
       "  <th>Kurtosis:</th>      <td>66.287</td>  <th>  Cond. No.          </th> <td>    6.88</td> \n",
       "</tr>\n",
       "</table><br/><br/>Notes:<br/>[1] Standard Errors assume that the covariance matrix of the errors is correctly specified."
      ],
      "text/latex": [
       "\\begin{center}\n",
       "\\begin{tabular}{lclc}\n",
       "\\toprule\n",
       "\\textbf{Dep. Variable:}    &        y         & \\textbf{  R-squared:         } &     0.002   \\\\\n",
       "\\textbf{Model:}            &       OLS        & \\textbf{  Adj. R-squared:    } &    -0.005   \\\\\n",
       "\\textbf{Method:}           &  Least Squares   & \\textbf{  F-statistic:       } &    0.2424   \\\\\n",
       "\\textbf{Date:}             & Sun, 07 May 2023 & \\textbf{  Prob (F-statistic):} &    0.623    \\\\\n",
       "\\textbf{Time:}             &     23:37:31     & \\textbf{  Log-Likelihood:    } &   -294.18   \\\\\n",
       "\\textbf{No. Observations:} &         140      & \\textbf{  AIC:               } &     592.4   \\\\\n",
       "\\textbf{Df Residuals:}     &         138      & \\textbf{  BIC:               } &     598.2   \\\\\n",
       "\\textbf{Df Model:}         &           1      & \\textbf{                     } &             \\\\\n",
       "\\textbf{Covariance Type:}  &    nonrobust     & \\textbf{                     } &             \\\\\n",
       "\\bottomrule\n",
       "\\end{tabular}\n",
       "\\begin{tabular}{lcccccc}\n",
       "               & \\textbf{coef} & \\textbf{std err} & \\textbf{t} & \\textbf{P$> |$t$|$} & \\textbf{[0.025} & \\textbf{0.975]}  \\\\\n",
       "\\midrule\n",
       "\\textbf{const} &       0.7279  &        0.262     &     2.774  &         0.006        &        0.209    &        1.247     \\\\\n",
       "\\textbf{X}     &       0.5526  &        1.122     &     0.492  &         0.623        &       -1.667    &        2.772     \\\\\n",
       "\\bottomrule\n",
       "\\end{tabular}\n",
       "\\begin{tabular}{lclc}\n",
       "\\textbf{Omnibus:}       & 244.266 & \\textbf{  Durbin-Watson:     } &     0.948  \\\\\n",
       "\\textbf{Prob(Omnibus):} &   0.000 & \\textbf{  Jarque-Bera (JB):  } & 24867.894  \\\\\n",
       "\\textbf{Skew:}          &   8.029 & \\textbf{  Prob(JB):          } &      0.00  \\\\\n",
       "\\textbf{Kurtosis:}      &  66.287 & \\textbf{  Cond. No.          } &      6.88  \\\\\n",
       "\\bottomrule\n",
       "\\end{tabular}\n",
       "%\\caption{OLS Regression Results}\n",
       "\\end{center}\n",
       "\n",
       "Notes: \\newline\n",
       " [1] Standard Errors assume that the covariance matrix of the errors is correctly specified."
      ],
      "text/plain": [
       "<class 'statsmodels.iolib.summary.Summary'>\n",
       "\"\"\"\n",
       "                            OLS Regression Results                            \n",
       "==============================================================================\n",
       "Dep. Variable:                      y   R-squared:                       0.002\n",
       "Model:                            OLS   Adj. R-squared:                 -0.005\n",
       "Method:                 Least Squares   F-statistic:                    0.2424\n",
       "Date:                Sun, 07 May 2023   Prob (F-statistic):              0.623\n",
       "Time:                        23:37:31   Log-Likelihood:                -294.18\n",
       "No. Observations:                 140   AIC:                             592.4\n",
       "Df Residuals:                     138   BIC:                             598.2\n",
       "Df Model:                           1                                         \n",
       "Covariance Type:            nonrobust                                         \n",
       "==============================================================================\n",
       "                 coef    std err          t      P>|t|      [0.025      0.975]\n",
       "------------------------------------------------------------------------------\n",
       "const          0.7279      0.262      2.774      0.006       0.209       1.247\n",
       "X              0.5526      1.122      0.492      0.623      -1.667       2.772\n",
       "==============================================================================\n",
       "Omnibus:                      244.266   Durbin-Watson:                   0.948\n",
       "Prob(Omnibus):                  0.000   Jarque-Bera (JB):            24867.894\n",
       "Skew:                           8.029   Prob(JB):                         0.00\n",
       "Kurtosis:                      66.287   Cond. No.                         6.88\n",
       "==============================================================================\n",
       "\n",
       "Notes:\n",
       "[1] Standard Errors assume that the covariance matrix of the errors is correctly specified.\n",
       "\"\"\""
      ]
     },
     "execution_count": 31,
     "metadata": {},
     "output_type": "execute_result"
    }
   ],
   "source": [
    "hetero_result = sm.OLS(abs_residual, X_with_constant).fit()\n",
    "hetero_result.summary()"
   ]
  },
  {
   "cell_type": "code",
   "execution_count": 32,
   "id": "0b3aa3c9-21ff-4dbf-8662-2180b56c7cc0",
   "metadata": {
    "tags": []
   },
   "outputs": [],
   "source": [
    "XQ3,XQ1 = np.percentile(data_sample[\"X\"], [75 ,25])\n",
    "XIQR = XQ3 - XQ1 "
   ]
  },
  {
   "cell_type": "code",
   "execution_count": 33,
   "id": "df3a9035-4d1f-405e-8749-a91450c7052b",
   "metadata": {
    "tags": []
   },
   "outputs": [],
   "source": [
    "lower_X = XQ1 - (1.5 * XIQR)\n",
    "upper_X = XQ3 + (1.5 * XIQR)"
   ]
  },
  {
   "cell_type": "code",
   "execution_count": 34,
   "id": "170f2087-a9a6-4a2c-9ce9-2a6d5a326947",
   "metadata": {
    "tags": []
   },
   "outputs": [
    {
     "data": {
      "text/plain": [
       "56    0.75\n",
       "Name: X, dtype: float64"
      ]
     },
     "execution_count": 34,
     "metadata": {},
     "output_type": "execute_result"
    }
   ],
   "source": [
    "data_sample[\"X\"][(data_sample[\"X\"] < lower_X) | (data_sample[\"X\"] > upper_X)]"
   ]
  },
  {
   "cell_type": "code",
   "execution_count": 35,
   "id": "ced5a8b0-c902-4a69-91b4-cb66e803f5e2",
   "metadata": {
    "tags": []
   },
   "outputs": [],
   "source": [
    "data_sample.drop(data_sample[\"X\"][(data_sample[\"X\"] < lower_X) | (data_sample[\"X\"] > upper_X)].index, inplace=True)"
   ]
  },
  {
   "cell_type": "code",
   "execution_count": 36,
   "id": "9df5e80a-f224-472e-afce-3618c7a5f3ef",
   "metadata": {
    "tags": []
   },
   "outputs": [],
   "source": [
    "YQ3,YQ1 = np.percentile(data_sample['Y'], [75 ,25])\n",
    "YIQR = YQ3 - YQ1 "
   ]
  },
  {
   "cell_type": "code",
   "execution_count": 37,
   "id": "2de41fda-cd44-4955-ad46-93dd6a4652d7",
   "metadata": {
    "tags": []
   },
   "outputs": [],
   "source": [
    "lower_Y = YQ1 - (1.5 * YIQR)\n",
    "upper_Y = YQ3 + (1.5 * YIQR)"
   ]
  },
  {
   "cell_type": "code",
   "execution_count": 38,
   "id": "df12475e-fa7c-43e8-9cc9-92952b7560a3",
   "metadata": {
    "tags": []
   },
   "outputs": [],
   "source": [
    "data_sample.drop(data_sample[\"Y\"][(data_sample[\"Y\"] < lower_Y) | (data_sample[\"Y\"] > upper_Y)].index, inplace=True)"
   ]
  },
  {
   "cell_type": "code",
   "execution_count": 39,
   "id": "2bace5d1-4bd8-4a9d-93fd-ac7637c69b52",
   "metadata": {
    "tags": []
   },
   "outputs": [
    {
     "data": {
      "text/html": [
       "<div>\n",
       "<style scoped>\n",
       "    .dataframe tbody tr th:only-of-type {\n",
       "        vertical-align: middle;\n",
       "    }\n",
       "\n",
       "    .dataframe tbody tr th {\n",
       "        vertical-align: top;\n",
       "    }\n",
       "\n",
       "    .dataframe thead th {\n",
       "        text-align: right;\n",
       "    }\n",
       "</style>\n",
       "<table border=\"1\" class=\"dataframe\">\n",
       "  <thead>\n",
       "    <tr style=\"text-align: right;\">\n",
       "      <th></th>\n",
       "      <th>X</th>\n",
       "      <th>Y</th>\n",
       "    </tr>\n",
       "  </thead>\n",
       "  <tbody>\n",
       "    <tr>\n",
       "      <th>count</th>\n",
       "      <td>122.000000</td>\n",
       "      <td>122.000000</td>\n",
       "    </tr>\n",
       "    <tr>\n",
       "      <th>mean</th>\n",
       "      <td>0.189160</td>\n",
       "      <td>0.157972</td>\n",
       "    </tr>\n",
       "    <tr>\n",
       "      <th>std</th>\n",
       "      <td>0.141897</td>\n",
       "      <td>0.100272</td>\n",
       "    </tr>\n",
       "    <tr>\n",
       "      <th>min</th>\n",
       "      <td>0.000000</td>\n",
       "      <td>0.007332</td>\n",
       "    </tr>\n",
       "    <tr>\n",
       "      <th>25%</th>\n",
       "      <td>0.090909</td>\n",
       "      <td>0.089434</td>\n",
       "    </tr>\n",
       "    <tr>\n",
       "      <th>50%</th>\n",
       "      <td>0.200000</td>\n",
       "      <td>0.129841</td>\n",
       "    </tr>\n",
       "    <tr>\n",
       "      <th>75%</th>\n",
       "      <td>0.272727</td>\n",
       "      <td>0.202422</td>\n",
       "    </tr>\n",
       "    <tr>\n",
       "      <th>max</th>\n",
       "      <td>0.545455</td>\n",
       "      <td>0.456443</td>\n",
       "    </tr>\n",
       "  </tbody>\n",
       "</table>\n",
       "</div>"
      ],
      "text/plain": [
       "                X           Y\n",
       "count  122.000000  122.000000\n",
       "mean     0.189160    0.157972\n",
       "std      0.141897    0.100272\n",
       "min      0.000000    0.007332\n",
       "25%      0.090909    0.089434\n",
       "50%      0.200000    0.129841\n",
       "75%      0.272727    0.202422\n",
       "max      0.545455    0.456443"
      ]
     },
     "execution_count": 39,
     "metadata": {},
     "output_type": "execute_result"
    }
   ],
   "source": [
    "data_sample.describe()"
   ]
  },
  {
   "cell_type": "code",
   "execution_count": 40,
   "id": "7402085b-b96e-4d95-be0d-969c28efa595",
   "metadata": {
    "tags": []
   },
   "outputs": [
    {
     "data": {
      "text/html": [
       "<table class=\"simpletable\">\n",
       "<caption>OLS Regression Results</caption>\n",
       "<tr>\n",
       "  <th>Dep. Variable:</th>            <td>Y</td>        <th>  R-squared:         </th> <td>   0.015</td>\n",
       "</tr>\n",
       "<tr>\n",
       "  <th>Model:</th>                   <td>OLS</td>       <th>  Adj. R-squared:    </th> <td>   0.006</td>\n",
       "</tr>\n",
       "<tr>\n",
       "  <th>Method:</th>             <td>Least Squares</td>  <th>  F-statistic:       </th> <td>   1.789</td>\n",
       "</tr>\n",
       "<tr>\n",
       "  <th>Date:</th>             <td>Sun, 07 May 2023</td> <th>  Prob (F-statistic):</th>  <td> 0.184</td> \n",
       "</tr>\n",
       "<tr>\n",
       "  <th>Time:</th>                 <td>23:37:32</td>     <th>  Log-Likelihood:    </th> <td>  108.88</td>\n",
       "</tr>\n",
       "<tr>\n",
       "  <th>No. Observations:</th>      <td>   122</td>      <th>  AIC:               </th> <td>  -213.8</td>\n",
       "</tr>\n",
       "<tr>\n",
       "  <th>Df Residuals:</th>          <td>   120</td>      <th>  BIC:               </th> <td>  -208.1</td>\n",
       "</tr>\n",
       "<tr>\n",
       "  <th>Df Model:</th>              <td>     1</td>      <th>                     </th>     <td> </td>   \n",
       "</tr>\n",
       "<tr>\n",
       "  <th>Covariance Type:</th>      <td>nonrobust</td>    <th>                     </th>     <td> </td>   \n",
       "</tr>\n",
       "</table>\n",
       "<table class=\"simpletable\">\n",
       "<tr>\n",
       "    <td></td>       <th>coef</th>     <th>std err</th>      <th>t</th>      <th>P>|t|</th>  <th>[0.025</th>    <th>0.975]</th>  \n",
       "</tr>\n",
       "<tr>\n",
       "  <th>const</th> <td>    0.1418</td> <td>    0.015</td> <td>    9.377</td> <td> 0.000</td> <td>    0.112</td> <td>    0.172</td>\n",
       "</tr>\n",
       "<tr>\n",
       "  <th>X</th>     <td>    0.0856</td> <td>    0.064</td> <td>    1.337</td> <td> 0.184</td> <td>   -0.041</td> <td>    0.212</td>\n",
       "</tr>\n",
       "</table>\n",
       "<table class=\"simpletable\">\n",
       "<tr>\n",
       "  <th>Omnibus:</th>       <td>23.216</td> <th>  Durbin-Watson:     </th> <td>   0.994</td>\n",
       "</tr>\n",
       "<tr>\n",
       "  <th>Prob(Omnibus):</th> <td> 0.000</td> <th>  Jarque-Bera (JB):  </th> <td>  29.577</td>\n",
       "</tr>\n",
       "<tr>\n",
       "  <th>Skew:</th>          <td> 1.171</td> <th>  Prob(JB):          </th> <td>3.78e-07</td>\n",
       "</tr>\n",
       "<tr>\n",
       "  <th>Kurtosis:</th>      <td> 3.581</td> <th>  Cond. No.          </th> <td>    7.33</td>\n",
       "</tr>\n",
       "</table><br/><br/>Notes:<br/>[1] Standard Errors assume that the covariance matrix of the errors is correctly specified."
      ],
      "text/latex": [
       "\\begin{center}\n",
       "\\begin{tabular}{lclc}\n",
       "\\toprule\n",
       "\\textbf{Dep. Variable:}    &        Y         & \\textbf{  R-squared:         } &     0.015   \\\\\n",
       "\\textbf{Model:}            &       OLS        & \\textbf{  Adj. R-squared:    } &     0.006   \\\\\n",
       "\\textbf{Method:}           &  Least Squares   & \\textbf{  F-statistic:       } &     1.789   \\\\\n",
       "\\textbf{Date:}             & Sun, 07 May 2023 & \\textbf{  Prob (F-statistic):} &    0.184    \\\\\n",
       "\\textbf{Time:}             &     23:37:32     & \\textbf{  Log-Likelihood:    } &    108.88   \\\\\n",
       "\\textbf{No. Observations:} &         122      & \\textbf{  AIC:               } &    -213.8   \\\\\n",
       "\\textbf{Df Residuals:}     &         120      & \\textbf{  BIC:               } &    -208.1   \\\\\n",
       "\\textbf{Df Model:}         &           1      & \\textbf{                     } &             \\\\\n",
       "\\textbf{Covariance Type:}  &    nonrobust     & \\textbf{                     } &             \\\\\n",
       "\\bottomrule\n",
       "\\end{tabular}\n",
       "\\begin{tabular}{lcccccc}\n",
       "               & \\textbf{coef} & \\textbf{std err} & \\textbf{t} & \\textbf{P$> |$t$|$} & \\textbf{[0.025} & \\textbf{0.975]}  \\\\\n",
       "\\midrule\n",
       "\\textbf{const} &       0.1418  &        0.015     &     9.377  &         0.000        &        0.112    &        0.172     \\\\\n",
       "\\textbf{X}     &       0.0856  &        0.064     &     1.337  &         0.184        &       -0.041    &        0.212     \\\\\n",
       "\\bottomrule\n",
       "\\end{tabular}\n",
       "\\begin{tabular}{lclc}\n",
       "\\textbf{Omnibus:}       & 23.216 & \\textbf{  Durbin-Watson:     } &    0.994  \\\\\n",
       "\\textbf{Prob(Omnibus):} &  0.000 & \\textbf{  Jarque-Bera (JB):  } &   29.577  \\\\\n",
       "\\textbf{Skew:}          &  1.171 & \\textbf{  Prob(JB):          } & 3.78e-07  \\\\\n",
       "\\textbf{Kurtosis:}      &  3.581 & \\textbf{  Cond. No.          } &     7.33  \\\\\n",
       "\\bottomrule\n",
       "\\end{tabular}\n",
       "%\\caption{OLS Regression Results}\n",
       "\\end{center}\n",
       "\n",
       "Notes: \\newline\n",
       " [1] Standard Errors assume that the covariance matrix of the errors is correctly specified."
      ],
      "text/plain": [
       "<class 'statsmodels.iolib.summary.Summary'>\n",
       "\"\"\"\n",
       "                            OLS Regression Results                            \n",
       "==============================================================================\n",
       "Dep. Variable:                      Y   R-squared:                       0.015\n",
       "Model:                            OLS   Adj. R-squared:                  0.006\n",
       "Method:                 Least Squares   F-statistic:                     1.789\n",
       "Date:                Sun, 07 May 2023   Prob (F-statistic):              0.184\n",
       "Time:                        23:37:32   Log-Likelihood:                 108.88\n",
       "No. Observations:                 122   AIC:                            -213.8\n",
       "Df Residuals:                     120   BIC:                            -208.1\n",
       "Df Model:                           1                                         \n",
       "Covariance Type:            nonrobust                                         \n",
       "==============================================================================\n",
       "                 coef    std err          t      P>|t|      [0.025      0.975]\n",
       "------------------------------------------------------------------------------\n",
       "const          0.1418      0.015      9.377      0.000       0.112       0.172\n",
       "X              0.0856      0.064      1.337      0.184      -0.041       0.212\n",
       "==============================================================================\n",
       "Omnibus:                       23.216   Durbin-Watson:                   0.994\n",
       "Prob(Omnibus):                  0.000   Jarque-Bera (JB):               29.577\n",
       "Skew:                           1.171   Prob(JB):                     3.78e-07\n",
       "Kurtosis:                       3.581   Cond. No.                         7.33\n",
       "==============================================================================\n",
       "\n",
       "Notes:\n",
       "[1] Standard Errors assume that the covariance matrix of the errors is correctly specified.\n",
       "\"\"\""
      ]
     },
     "execution_count": 40,
     "metadata": {},
     "output_type": "execute_result"
    }
   ],
   "source": [
    "X_with_constant = sm.add_constant(data_sample[\"X\"])\n",
    "result = sm.OLS(data_sample[\"Y\"], X_with_constant).fit()\n",
    "result.summary()"
   ]
  },
  {
   "cell_type": "code",
   "execution_count": 41,
   "id": "19459625-0d19-465b-bb77-97071054064e",
   "metadata": {
    "tags": []
   },
   "outputs": [],
   "source": [
    "bX = data_sample[\"X\"] * result.params[\"X\"]"
   ]
  },
  {
   "cell_type": "code",
   "execution_count": 42,
   "id": "2587e74e-d66d-418e-9d70-398f042d3d35",
   "metadata": {
    "tags": []
   },
   "outputs": [],
   "source": [
    "# Y = a + bX + e\n",
    "# e = Y - a - bX\n",
    "\n",
    "abs_residual = np.abs(data_sample[\"Y\"] - result.params[\"const\"] - bX)"
   ]
  },
  {
   "cell_type": "code",
   "execution_count": 43,
   "id": "5e613d94-eea1-4c13-9acd-74efe7d69ecf",
   "metadata": {
    "tags": []
   },
   "outputs": [
    {
     "data": {
      "text/html": [
       "<table class=\"simpletable\">\n",
       "<caption>OLS Regression Results</caption>\n",
       "<tr>\n",
       "  <th>Dep. Variable:</th>            <td>y</td>        <th>  R-squared:         </th> <td>   0.013</td>\n",
       "</tr>\n",
       "<tr>\n",
       "  <th>Model:</th>                   <td>OLS</td>       <th>  Adj. R-squared:    </th> <td>   0.004</td>\n",
       "</tr>\n",
       "<tr>\n",
       "  <th>Method:</th>             <td>Least Squares</td>  <th>  F-statistic:       </th> <td>   1.522</td>\n",
       "</tr>\n",
       "<tr>\n",
       "  <th>Date:</th>             <td>Sun, 07 May 2023</td> <th>  Prob (F-statistic):</th>  <td> 0.220</td> \n",
       "</tr>\n",
       "<tr>\n",
       "  <th>Time:</th>                 <td>23:37:32</td>     <th>  Log-Likelihood:    </th> <td>  163.05</td>\n",
       "</tr>\n",
       "<tr>\n",
       "  <th>No. Observations:</th>      <td>   122</td>      <th>  AIC:               </th> <td>  -322.1</td>\n",
       "</tr>\n",
       "<tr>\n",
       "  <th>Df Residuals:</th>          <td>   120</td>      <th>  BIC:               </th> <td>  -316.5</td>\n",
       "</tr>\n",
       "<tr>\n",
       "  <th>Df Model:</th>              <td>     1</td>      <th>                     </th>     <td> </td>   \n",
       "</tr>\n",
       "<tr>\n",
       "  <th>Covariance Type:</th>      <td>nonrobust</td>    <th>                     </th>     <td> </td>   \n",
       "</tr>\n",
       "</table>\n",
       "<table class=\"simpletable\">\n",
       "<tr>\n",
       "    <td></td>       <th>coef</th>     <th>std err</th>      <th>t</th>      <th>P>|t|</th>  <th>[0.025</th>    <th>0.975]</th>  \n",
       "</tr>\n",
       "<tr>\n",
       "  <th>const</th> <td>    0.0661</td> <td>    0.010</td> <td>    6.818</td> <td> 0.000</td> <td>    0.047</td> <td>    0.085</td>\n",
       "</tr>\n",
       "<tr>\n",
       "  <th>X</th>     <td>    0.0507</td> <td>    0.041</td> <td>    1.234</td> <td> 0.220</td> <td>   -0.031</td> <td>    0.132</td>\n",
       "</tr>\n",
       "</table>\n",
       "<table class=\"simpletable\">\n",
       "<tr>\n",
       "  <th>Omnibus:</th>       <td>30.729</td> <th>  Durbin-Watson:     </th> <td>   1.206</td>\n",
       "</tr>\n",
       "<tr>\n",
       "  <th>Prob(Omnibus):</th> <td> 0.000</td> <th>  Jarque-Bera (JB):  </th> <td>  43.887</td>\n",
       "</tr>\n",
       "<tr>\n",
       "  <th>Skew:</th>          <td> 1.327</td> <th>  Prob(JB):          </th> <td>2.95e-10</td>\n",
       "</tr>\n",
       "<tr>\n",
       "  <th>Kurtosis:</th>      <td> 4.262</td> <th>  Cond. No.          </th> <td>    7.33</td>\n",
       "</tr>\n",
       "</table><br/><br/>Notes:<br/>[1] Standard Errors assume that the covariance matrix of the errors is correctly specified."
      ],
      "text/latex": [
       "\\begin{center}\n",
       "\\begin{tabular}{lclc}\n",
       "\\toprule\n",
       "\\textbf{Dep. Variable:}    &        y         & \\textbf{  R-squared:         } &     0.013   \\\\\n",
       "\\textbf{Model:}            &       OLS        & \\textbf{  Adj. R-squared:    } &     0.004   \\\\\n",
       "\\textbf{Method:}           &  Least Squares   & \\textbf{  F-statistic:       } &     1.522   \\\\\n",
       "\\textbf{Date:}             & Sun, 07 May 2023 & \\textbf{  Prob (F-statistic):} &    0.220    \\\\\n",
       "\\textbf{Time:}             &     23:37:32     & \\textbf{  Log-Likelihood:    } &    163.05   \\\\\n",
       "\\textbf{No. Observations:} &         122      & \\textbf{  AIC:               } &    -322.1   \\\\\n",
       "\\textbf{Df Residuals:}     &         120      & \\textbf{  BIC:               } &    -316.5   \\\\\n",
       "\\textbf{Df Model:}         &           1      & \\textbf{                     } &             \\\\\n",
       "\\textbf{Covariance Type:}  &    nonrobust     & \\textbf{                     } &             \\\\\n",
       "\\bottomrule\n",
       "\\end{tabular}\n",
       "\\begin{tabular}{lcccccc}\n",
       "               & \\textbf{coef} & \\textbf{std err} & \\textbf{t} & \\textbf{P$> |$t$|$} & \\textbf{[0.025} & \\textbf{0.975]}  \\\\\n",
       "\\midrule\n",
       "\\textbf{const} &       0.0661  &        0.010     &     6.818  &         0.000        &        0.047    &        0.085     \\\\\n",
       "\\textbf{X}     &       0.0507  &        0.041     &     1.234  &         0.220        &       -0.031    &        0.132     \\\\\n",
       "\\bottomrule\n",
       "\\end{tabular}\n",
       "\\begin{tabular}{lclc}\n",
       "\\textbf{Omnibus:}       & 30.729 & \\textbf{  Durbin-Watson:     } &    1.206  \\\\\n",
       "\\textbf{Prob(Omnibus):} &  0.000 & \\textbf{  Jarque-Bera (JB):  } &   43.887  \\\\\n",
       "\\textbf{Skew:}          &  1.327 & \\textbf{  Prob(JB):          } & 2.95e-10  \\\\\n",
       "\\textbf{Kurtosis:}      &  4.262 & \\textbf{  Cond. No.          } &     7.33  \\\\\n",
       "\\bottomrule\n",
       "\\end{tabular}\n",
       "%\\caption{OLS Regression Results}\n",
       "\\end{center}\n",
       "\n",
       "Notes: \\newline\n",
       " [1] Standard Errors assume that the covariance matrix of the errors is correctly specified."
      ],
      "text/plain": [
       "<class 'statsmodels.iolib.summary.Summary'>\n",
       "\"\"\"\n",
       "                            OLS Regression Results                            \n",
       "==============================================================================\n",
       "Dep. Variable:                      y   R-squared:                       0.013\n",
       "Model:                            OLS   Adj. R-squared:                  0.004\n",
       "Method:                 Least Squares   F-statistic:                     1.522\n",
       "Date:                Sun, 07 May 2023   Prob (F-statistic):              0.220\n",
       "Time:                        23:37:32   Log-Likelihood:                 163.05\n",
       "No. Observations:                 122   AIC:                            -322.1\n",
       "Df Residuals:                     120   BIC:                            -316.5\n",
       "Df Model:                           1                                         \n",
       "Covariance Type:            nonrobust                                         \n",
       "==============================================================================\n",
       "                 coef    std err          t      P>|t|      [0.025      0.975]\n",
       "------------------------------------------------------------------------------\n",
       "const          0.0661      0.010      6.818      0.000       0.047       0.085\n",
       "X              0.0507      0.041      1.234      0.220      -0.031       0.132\n",
       "==============================================================================\n",
       "Omnibus:                       30.729   Durbin-Watson:                   1.206\n",
       "Prob(Omnibus):                  0.000   Jarque-Bera (JB):               43.887\n",
       "Skew:                           1.327   Prob(JB):                     2.95e-10\n",
       "Kurtosis:                       4.262   Cond. No.                         7.33\n",
       "==============================================================================\n",
       "\n",
       "Notes:\n",
       "[1] Standard Errors assume that the covariance matrix of the errors is correctly specified.\n",
       "\"\"\""
      ]
     },
     "execution_count": 43,
     "metadata": {},
     "output_type": "execute_result"
    }
   ],
   "source": [
    "hetero_result = sm.OLS(abs_residual, X_with_constant).fit()\n",
    "hetero_result.summary()"
   ]
  }
 ],
 "metadata": {
  "kernelspec": {
   "display_name": "Python 3 (ipykernel)",
   "language": "python",
   "name": "python3"
  },
  "language_info": {
   "codemirror_mode": {
    "name": "ipython",
    "version": 3
   },
   "file_extension": ".py",
   "mimetype": "text/x-python",
   "name": "python",
   "nbconvert_exporter": "python",
   "pygments_lexer": "ipython3",
   "version": "3.11.3"
  }
 },
 "nbformat": 4,
 "nbformat_minor": 5
}

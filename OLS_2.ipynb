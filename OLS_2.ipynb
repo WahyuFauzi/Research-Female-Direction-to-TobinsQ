{
 "cells": [
  {
   "cell_type": "code",
   "execution_count": 8,
   "id": "046c1a20-b1cd-4845-9595-fa120f32f51f",
   "metadata": {
    "tags": []
   },
   "outputs": [],
   "source": [
    "import scipy\n",
    "import pandas as pd\n",
    "import numpy as np\n",
    "import statsmodels.api as sm"
   ]
  },
  {
   "cell_type": "raw",
   "id": "15740c56-0b5b-42f1-a666-6342123bfad3",
   "metadata": {},
   "source": [
    "Pada bagian ini data akan dibersihkan dahulu\n",
    "Data kemudian akan diuji dengan teknik OLS untuk melihat pengaruh dan signifikansi data\n",
    "\n",
    "\n",
    "* nampaknya variabel jumlah direksi perempuan membuat data mengalami gejala heterokedastisitas"
   ]
  },
  {
   "cell_type": "code",
   "execution_count": 9,
   "id": "cd5adea4-5b9a-4567-b551-8438d2634ef9",
   "metadata": {},
   "outputs": [
    {
     "data": {
      "text/plain": [
       "Direksi Perempuan      int64\n",
       "Direksi Laki-Laki      int64\n",
       "Proporsi Perempuan    object\n",
       "Harga penutupan        int64\n",
       "Total Shares           int64\n",
       "Total Utang            int64\n",
       "Total Asset            int64\n",
       "dtype: object"
      ]
     },
     "execution_count": 9,
     "metadata": {},
     "output_type": "execute_result"
    }
   ],
   "source": [
    "df = pd.read_csv(\"Data.csv\")\n",
    "df.dtypes"
   ]
  },
  {
   "cell_type": "code",
   "execution_count": 10,
   "id": "254b0387-cde9-410d-be05-cd31d572d27b",
   "metadata": {},
   "outputs": [],
   "source": [
    "X = (df['Direksi Perempuan'])/(df['Direksi Perempuan'] + df['Direksi Laki-Laki'])\n",
    "#X = df[\"Direksi Perempuan\"]\n",
    "nilai_pasar = df[\"Total Shares\"] * df[\"Harga penutupan\"]\n",
    "np_plus_liability = nilai_pasar + df[\"Total Utang\"]\n",
    "#Y = np_plus_liability / df[\"Total Asset\"]\n",
    "Y = nilai_pasar / df[\"Total Asset\"]\n",
    "\n",
    "data = pd.DataFrame({\"X\":X, \"Y\":Y})\n",
    "X_mean = np.mean(data[\"X\"])\n",
    "X_std = np.std(data[\"X\"])\n",
    "Y_mean = np.mean(data[\"Y\"])\n",
    "Y_std = np.std(data[\"Y\"])"
   ]
  },
  {
   "cell_type": "code",
   "execution_count": 11,
   "id": "eaa6172f-c313-40fa-850c-4ef2f7cce5a4",
   "metadata": {
    "tags": []
   },
   "outputs": [
    {
     "data": {
      "text/html": [
       "<div>\n",
       "<style scoped>\n",
       "    .dataframe tbody tr th:only-of-type {\n",
       "        vertical-align: middle;\n",
       "    }\n",
       "\n",
       "    .dataframe tbody tr th {\n",
       "        vertical-align: top;\n",
       "    }\n",
       "\n",
       "    .dataframe thead th {\n",
       "        text-align: right;\n",
       "    }\n",
       "</style>\n",
       "<table border=\"1\" class=\"dataframe\">\n",
       "  <thead>\n",
       "    <tr style=\"text-align: right;\">\n",
       "      <th></th>\n",
       "      <th>X</th>\n",
       "      <th>Y</th>\n",
       "    </tr>\n",
       "  </thead>\n",
       "  <tbody>\n",
       "    <tr>\n",
       "      <th>count</th>\n",
       "      <td>155.000000</td>\n",
       "      <td>155.000000</td>\n",
       "    </tr>\n",
       "    <tr>\n",
       "      <th>mean</th>\n",
       "      <td>0.191673</td>\n",
       "      <td>0.509092</td>\n",
       "    </tr>\n",
       "    <tr>\n",
       "      <th>std</th>\n",
       "      <td>0.153234</td>\n",
       "      <td>2.036768</td>\n",
       "    </tr>\n",
       "    <tr>\n",
       "      <th>min</th>\n",
       "      <td>0.000000</td>\n",
       "      <td>0.007332</td>\n",
       "    </tr>\n",
       "    <tr>\n",
       "      <th>25%</th>\n",
       "      <td>0.038462</td>\n",
       "      <td>0.098036</td>\n",
       "    </tr>\n",
       "    <tr>\n",
       "      <th>50%</th>\n",
       "      <td>0.200000</td>\n",
       "      <td>0.144649</td>\n",
       "    </tr>\n",
       "    <tr>\n",
       "      <th>75%</th>\n",
       "      <td>0.285714</td>\n",
       "      <td>0.283211</td>\n",
       "    </tr>\n",
       "    <tr>\n",
       "      <th>max</th>\n",
       "      <td>0.750000</td>\n",
       "      <td>18.006205</td>\n",
       "    </tr>\n",
       "  </tbody>\n",
       "</table>\n",
       "</div>"
      ],
      "text/plain": [
       "                X           Y\n",
       "count  155.000000  155.000000\n",
       "mean     0.191673    0.509092\n",
       "std      0.153234    2.036768\n",
       "min      0.000000    0.007332\n",
       "25%      0.038462    0.098036\n",
       "50%      0.200000    0.144649\n",
       "75%      0.285714    0.283211\n",
       "max      0.750000   18.006205"
      ]
     },
     "execution_count": 11,
     "metadata": {},
     "output_type": "execute_result"
    }
   ],
   "source": [
    "data_sample = pd.DataFrame({\"X\": X, \"Y\": Y})\n",
    "data_sample.describe()"
   ]
  },
  {
   "cell_type": "code",
   "execution_count": 12,
   "id": "1a4ecbd8-f223-4dd8-9b09-2d8ebbaad7f4",
   "metadata": {
    "tags": []
   },
   "outputs": [],
   "source": [
    "# data_sample.drop(data_sample[data_sample[\"X\"] == 0].index, inplace=True)\n",
    "# np.size(np.where(data_sample[\"X\"] == 0))"
   ]
  },
  {
   "cell_type": "code",
   "execution_count": 13,
   "id": "64bfb377-f5eb-4e76-917c-a09f1683ffa0",
   "metadata": {
    "tags": []
   },
   "outputs": [
    {
     "data": {
      "text/html": [
       "<table class=\"simpletable\">\n",
       "<caption>OLS Regression Results</caption>\n",
       "<tr>\n",
       "  <th>Dep. Variable:</th>            <td>Y</td>        <th>  R-squared:         </th> <td>   0.002</td>\n",
       "</tr>\n",
       "<tr>\n",
       "  <th>Model:</th>                   <td>OLS</td>       <th>  Adj. R-squared:    </th> <td>  -0.005</td>\n",
       "</tr>\n",
       "<tr>\n",
       "  <th>Method:</th>             <td>Least Squares</td>  <th>  F-statistic:       </th> <td>  0.2488</td>\n",
       "</tr>\n",
       "<tr>\n",
       "  <th>Date:</th>             <td>Tue, 16 May 2023</td> <th>  Prob (F-statistic):</th>  <td> 0.619</td> \n",
       "</tr>\n",
       "<tr>\n",
       "  <th>Time:</th>                 <td>00:12:14</td>     <th>  Log-Likelihood:    </th> <td> -329.57</td>\n",
       "</tr>\n",
       "<tr>\n",
       "  <th>No. Observations:</th>      <td>   155</td>      <th>  AIC:               </th> <td>   663.1</td>\n",
       "</tr>\n",
       "<tr>\n",
       "  <th>Df Residuals:</th>          <td>   153</td>      <th>  BIC:               </th> <td>   669.2</td>\n",
       "</tr>\n",
       "<tr>\n",
       "  <th>Df Model:</th>              <td>     1</td>      <th>                     </th>     <td> </td>   \n",
       "</tr>\n",
       "<tr>\n",
       "  <th>Covariance Type:</th>      <td>nonrobust</td>    <th>                     </th>     <td> </td>   \n",
       "</tr>\n",
       "</table>\n",
       "<table class=\"simpletable\">\n",
       "<tr>\n",
       "    <td></td>       <th>coef</th>     <th>std err</th>      <th>t</th>      <th>P>|t|</th>  <th>[0.025</th>    <th>0.975]</th>  \n",
       "</tr>\n",
       "<tr>\n",
       "  <th>const</th> <td>    0.6117</td> <td>    0.263</td> <td>    2.325</td> <td> 0.021</td> <td>    0.092</td> <td>    1.132</td>\n",
       "</tr>\n",
       "<tr>\n",
       "  <th>X</th>     <td>   -0.5356</td> <td>    1.074</td> <td>   -0.499</td> <td> 0.619</td> <td>   -2.657</td> <td>    1.586</td>\n",
       "</tr>\n",
       "</table>\n",
       "<table class=\"simpletable\">\n",
       "<tr>\n",
       "  <th>Omnibus:</th>       <td>266.664</td> <th>  Durbin-Watson:     </th> <td>   0.874</td> \n",
       "</tr>\n",
       "<tr>\n",
       "  <th>Prob(Omnibus):</th> <td> 0.000</td>  <th>  Jarque-Bera (JB):  </th> <td>30174.443</td>\n",
       "</tr>\n",
       "<tr>\n",
       "  <th>Skew:</th>          <td> 8.117</td>  <th>  Prob(JB):          </th> <td>    0.00</td> \n",
       "</tr>\n",
       "<tr>\n",
       "  <th>Kurtosis:</th>      <td>69.398</td>  <th>  Cond. No.          </th> <td>    6.79</td> \n",
       "</tr>\n",
       "</table><br/><br/>Notes:<br/>[1] Standard Errors assume that the covariance matrix of the errors is correctly specified."
      ],
      "text/latex": [
       "\\begin{center}\n",
       "\\begin{tabular}{lclc}\n",
       "\\toprule\n",
       "\\textbf{Dep. Variable:}    &        Y         & \\textbf{  R-squared:         } &     0.002   \\\\\n",
       "\\textbf{Model:}            &       OLS        & \\textbf{  Adj. R-squared:    } &    -0.005   \\\\\n",
       "\\textbf{Method:}           &  Least Squares   & \\textbf{  F-statistic:       } &    0.2488   \\\\\n",
       "\\textbf{Date:}             & Tue, 16 May 2023 & \\textbf{  Prob (F-statistic):} &    0.619    \\\\\n",
       "\\textbf{Time:}             &     00:12:14     & \\textbf{  Log-Likelihood:    } &   -329.57   \\\\\n",
       "\\textbf{No. Observations:} &         155      & \\textbf{  AIC:               } &     663.1   \\\\\n",
       "\\textbf{Df Residuals:}     &         153      & \\textbf{  BIC:               } &     669.2   \\\\\n",
       "\\textbf{Df Model:}         &           1      & \\textbf{                     } &             \\\\\n",
       "\\textbf{Covariance Type:}  &    nonrobust     & \\textbf{                     } &             \\\\\n",
       "\\bottomrule\n",
       "\\end{tabular}\n",
       "\\begin{tabular}{lcccccc}\n",
       "               & \\textbf{coef} & \\textbf{std err} & \\textbf{t} & \\textbf{P$> |$t$|$} & \\textbf{[0.025} & \\textbf{0.975]}  \\\\\n",
       "\\midrule\n",
       "\\textbf{const} &       0.6117  &        0.263     &     2.325  &         0.021        &        0.092    &        1.132     \\\\\n",
       "\\textbf{X}     &      -0.5356  &        1.074     &    -0.499  &         0.619        &       -2.657    &        1.586     \\\\\n",
       "\\bottomrule\n",
       "\\end{tabular}\n",
       "\\begin{tabular}{lclc}\n",
       "\\textbf{Omnibus:}       & 266.664 & \\textbf{  Durbin-Watson:     } &     0.874  \\\\\n",
       "\\textbf{Prob(Omnibus):} &   0.000 & \\textbf{  Jarque-Bera (JB):  } & 30174.443  \\\\\n",
       "\\textbf{Skew:}          &   8.117 & \\textbf{  Prob(JB):          } &      0.00  \\\\\n",
       "\\textbf{Kurtosis:}      &  69.398 & \\textbf{  Cond. No.          } &      6.79  \\\\\n",
       "\\bottomrule\n",
       "\\end{tabular}\n",
       "%\\caption{OLS Regression Results}\n",
       "\\end{center}\n",
       "\n",
       "Notes: \\newline\n",
       " [1] Standard Errors assume that the covariance matrix of the errors is correctly specified."
      ],
      "text/plain": [
       "<class 'statsmodels.iolib.summary.Summary'>\n",
       "\"\"\"\n",
       "                            OLS Regression Results                            \n",
       "==============================================================================\n",
       "Dep. Variable:                      Y   R-squared:                       0.002\n",
       "Model:                            OLS   Adj. R-squared:                 -0.005\n",
       "Method:                 Least Squares   F-statistic:                    0.2488\n",
       "Date:                Tue, 16 May 2023   Prob (F-statistic):              0.619\n",
       "Time:                        00:12:14   Log-Likelihood:                -329.57\n",
       "No. Observations:                 155   AIC:                             663.1\n",
       "Df Residuals:                     153   BIC:                             669.2\n",
       "Df Model:                           1                                         \n",
       "Covariance Type:            nonrobust                                         \n",
       "==============================================================================\n",
       "                 coef    std err          t      P>|t|      [0.025      0.975]\n",
       "------------------------------------------------------------------------------\n",
       "const          0.6117      0.263      2.325      0.021       0.092       1.132\n",
       "X             -0.5356      1.074     -0.499      0.619      -2.657       1.586\n",
       "==============================================================================\n",
       "Omnibus:                      266.664   Durbin-Watson:                   0.874\n",
       "Prob(Omnibus):                  0.000   Jarque-Bera (JB):            30174.443\n",
       "Skew:                           8.117   Prob(JB):                         0.00\n",
       "Kurtosis:                      69.398   Cond. No.                         6.79\n",
       "==============================================================================\n",
       "\n",
       "Notes:\n",
       "[1] Standard Errors assume that the covariance matrix of the errors is correctly specified.\n",
       "\"\"\""
      ]
     },
     "execution_count": 13,
     "metadata": {},
     "output_type": "execute_result"
    }
   ],
   "source": [
    "X_with_constant = sm.add_constant(data_sample[\"X\"])\n",
    "result = sm.OLS(data_sample[\"Y\"], X_with_constant).fit()\n",
    "result.summary()"
   ]
  },
  {
   "cell_type": "code",
   "execution_count": 14,
   "id": "eb56aa9d-0fba-42ae-b67e-62015f1e2a7c",
   "metadata": {
    "tags": []
   },
   "outputs": [],
   "source": [
    "bX = data_sample[\"X\"] * result.params[0]\n",
    "abs_residual = np.abs(data_sample[\"Y\"] - result.params[\"const\"] - bX)"
   ]
  },
  {
   "cell_type": "code",
   "execution_count": 15,
   "id": "fd559962-86d3-4a0e-8b42-33c4bda316fc",
   "metadata": {},
   "outputs": [
    {
     "data": {
      "text/html": [
       "<table class=\"simpletable\">\n",
       "<caption>OLS Regression Results</caption>\n",
       "<tr>\n",
       "  <th>Dep. Variable:</th>            <td>y</td>        <th>  R-squared:         </th> <td>   0.001</td>\n",
       "</tr>\n",
       "<tr>\n",
       "  <th>Model:</th>                   <td>OLS</td>       <th>  Adj. R-squared:    </th> <td>  -0.005</td>\n",
       "</tr>\n",
       "<tr>\n",
       "  <th>Method:</th>             <td>Least Squares</td>  <th>  F-statistic:       </th> <td>  0.1791</td>\n",
       "</tr>\n",
       "<tr>\n",
       "  <th>Date:</th>             <td>Tue, 16 May 2023</td> <th>  Prob (F-statistic):</th>  <td> 0.673</td> \n",
       "</tr>\n",
       "<tr>\n",
       "  <th>Time:</th>                 <td>00:12:14</td>     <th>  Log-Likelihood:    </th> <td> -318.09</td>\n",
       "</tr>\n",
       "<tr>\n",
       "  <th>No. Observations:</th>      <td>   155</td>      <th>  AIC:               </th> <td>   640.2</td>\n",
       "</tr>\n",
       "<tr>\n",
       "  <th>Df Residuals:</th>          <td>   153</td>      <th>  BIC:               </th> <td>   646.3</td>\n",
       "</tr>\n",
       "<tr>\n",
       "  <th>Df Model:</th>              <td>     1</td>      <th>                     </th>     <td> </td>   \n",
       "</tr>\n",
       "<tr>\n",
       "  <th>Covariance Type:</th>      <td>nonrobust</td>    <th>                     </th>     <td> </td>   \n",
       "</tr>\n",
       "</table>\n",
       "<table class=\"simpletable\">\n",
       "<tr>\n",
       "    <td></td>       <th>coef</th>     <th>std err</th>      <th>t</th>      <th>P>|t|</th>  <th>[0.025</th>    <th>0.975]</th>  \n",
       "</tr>\n",
       "<tr>\n",
       "  <th>const</th> <td>    0.7201</td> <td>    0.244</td> <td>    2.947</td> <td> 0.004</td> <td>    0.237</td> <td>    1.203</td>\n",
       "</tr>\n",
       "<tr>\n",
       "  <th>X</th>     <td>    0.4219</td> <td>    0.997</td> <td>    0.423</td> <td> 0.673</td> <td>   -1.548</td> <td>    2.392</td>\n",
       "</tr>\n",
       "</table>\n",
       "<table class=\"simpletable\">\n",
       "<tr>\n",
       "  <th>Omnibus:</th>       <td>273.050</td> <th>  Durbin-Watson:     </th> <td>   0.941</td> \n",
       "</tr>\n",
       "<tr>\n",
       "  <th>Prob(Omnibus):</th> <td> 0.000</td>  <th>  Jarque-Bera (JB):  </th> <td>33927.573</td>\n",
       "</tr>\n",
       "<tr>\n",
       "  <th>Skew:</th>          <td> 8.456</td>  <th>  Prob(JB):          </th> <td>    0.00</td> \n",
       "</tr>\n",
       "<tr>\n",
       "  <th>Kurtosis:</th>      <td>73.479</td>  <th>  Cond. No.          </th> <td>    6.79</td> \n",
       "</tr>\n",
       "</table><br/><br/>Notes:<br/>[1] Standard Errors assume that the covariance matrix of the errors is correctly specified."
      ],
      "text/latex": [
       "\\begin{center}\n",
       "\\begin{tabular}{lclc}\n",
       "\\toprule\n",
       "\\textbf{Dep. Variable:}    &        y         & \\textbf{  R-squared:         } &     0.001   \\\\\n",
       "\\textbf{Model:}            &       OLS        & \\textbf{  Adj. R-squared:    } &    -0.005   \\\\\n",
       "\\textbf{Method:}           &  Least Squares   & \\textbf{  F-statistic:       } &    0.1791   \\\\\n",
       "\\textbf{Date:}             & Tue, 16 May 2023 & \\textbf{  Prob (F-statistic):} &    0.673    \\\\\n",
       "\\textbf{Time:}             &     00:12:14     & \\textbf{  Log-Likelihood:    } &   -318.09   \\\\\n",
       "\\textbf{No. Observations:} &         155      & \\textbf{  AIC:               } &     640.2   \\\\\n",
       "\\textbf{Df Residuals:}     &         153      & \\textbf{  BIC:               } &     646.3   \\\\\n",
       "\\textbf{Df Model:}         &           1      & \\textbf{                     } &             \\\\\n",
       "\\textbf{Covariance Type:}  &    nonrobust     & \\textbf{                     } &             \\\\\n",
       "\\bottomrule\n",
       "\\end{tabular}\n",
       "\\begin{tabular}{lcccccc}\n",
       "               & \\textbf{coef} & \\textbf{std err} & \\textbf{t} & \\textbf{P$> |$t$|$} & \\textbf{[0.025} & \\textbf{0.975]}  \\\\\n",
       "\\midrule\n",
       "\\textbf{const} &       0.7201  &        0.244     &     2.947  &         0.004        &        0.237    &        1.203     \\\\\n",
       "\\textbf{X}     &       0.4219  &        0.997     &     0.423  &         0.673        &       -1.548    &        2.392     \\\\\n",
       "\\bottomrule\n",
       "\\end{tabular}\n",
       "\\begin{tabular}{lclc}\n",
       "\\textbf{Omnibus:}       & 273.050 & \\textbf{  Durbin-Watson:     } &     0.941  \\\\\n",
       "\\textbf{Prob(Omnibus):} &   0.000 & \\textbf{  Jarque-Bera (JB):  } & 33927.573  \\\\\n",
       "\\textbf{Skew:}          &   8.456 & \\textbf{  Prob(JB):          } &      0.00  \\\\\n",
       "\\textbf{Kurtosis:}      &  73.479 & \\textbf{  Cond. No.          } &      6.79  \\\\\n",
       "\\bottomrule\n",
       "\\end{tabular}\n",
       "%\\caption{OLS Regression Results}\n",
       "\\end{center}\n",
       "\n",
       "Notes: \\newline\n",
       " [1] Standard Errors assume that the covariance matrix of the errors is correctly specified."
      ],
      "text/plain": [
       "<class 'statsmodels.iolib.summary.Summary'>\n",
       "\"\"\"\n",
       "                            OLS Regression Results                            \n",
       "==============================================================================\n",
       "Dep. Variable:                      y   R-squared:                       0.001\n",
       "Model:                            OLS   Adj. R-squared:                 -0.005\n",
       "Method:                 Least Squares   F-statistic:                    0.1791\n",
       "Date:                Tue, 16 May 2023   Prob (F-statistic):              0.673\n",
       "Time:                        00:12:14   Log-Likelihood:                -318.09\n",
       "No. Observations:                 155   AIC:                             640.2\n",
       "Df Residuals:                     153   BIC:                             646.3\n",
       "Df Model:                           1                                         \n",
       "Covariance Type:            nonrobust                                         \n",
       "==============================================================================\n",
       "                 coef    std err          t      P>|t|      [0.025      0.975]\n",
       "------------------------------------------------------------------------------\n",
       "const          0.7201      0.244      2.947      0.004       0.237       1.203\n",
       "X              0.4219      0.997      0.423      0.673      -1.548       2.392\n",
       "==============================================================================\n",
       "Omnibus:                      273.050   Durbin-Watson:                   0.941\n",
       "Prob(Omnibus):                  0.000   Jarque-Bera (JB):            33927.573\n",
       "Skew:                           8.456   Prob(JB):                         0.00\n",
       "Kurtosis:                      73.479   Cond. No.                         6.79\n",
       "==============================================================================\n",
       "\n",
       "Notes:\n",
       "[1] Standard Errors assume that the covariance matrix of the errors is correctly specified.\n",
       "\"\"\""
      ]
     },
     "execution_count": 15,
     "metadata": {},
     "output_type": "execute_result"
    }
   ],
   "source": [
    "hetero_result = sm.OLS(abs_residual, X_with_constant).fit()\n",
    "hetero_result.summary()"
   ]
  },
  {
   "cell_type": "code",
   "execution_count": 16,
   "id": "0b3aa3c9-21ff-4dbf-8662-2180b56c7cc0",
   "metadata": {
    "tags": []
   },
   "outputs": [],
   "source": [
    "XQ3,XQ1 = np.percentile(data_sample[\"X\"], [75 ,25])\n",
    "XIQR = XQ3 - XQ1 "
   ]
  },
  {
   "cell_type": "code",
   "execution_count": 17,
   "id": "df3a9035-4d1f-405e-8749-a91450c7052b",
   "metadata": {
    "tags": []
   },
   "outputs": [],
   "source": [
    "lower_X = XQ1 - (1.5 * XIQR)\n",
    "upper_X = XQ3 + (1.5 * XIQR)"
   ]
  },
  {
   "cell_type": "code",
   "execution_count": 18,
   "id": "170f2087-a9a6-4a2c-9ce9-2a6d5a326947",
   "metadata": {
    "tags": []
   },
   "outputs": [
    {
     "data": {
      "text/plain": [
       "56    0.75\n",
       "Name: X, dtype: float64"
      ]
     },
     "execution_count": 18,
     "metadata": {},
     "output_type": "execute_result"
    }
   ],
   "source": [
    "data_sample[\"X\"][(data_sample[\"X\"] < lower_X) | (data_sample[\"X\"] > upper_X)]"
   ]
  },
  {
   "cell_type": "code",
   "execution_count": 19,
   "id": "ced5a8b0-c902-4a69-91b4-cb66e803f5e2",
   "metadata": {
    "tags": []
   },
   "outputs": [],
   "source": [
    "data_sample.drop(data_sample[\"X\"][(data_sample[\"X\"] < lower_X) | (data_sample[\"X\"] > upper_X)].index, inplace=True)"
   ]
  },
  {
   "cell_type": "code",
   "execution_count": 20,
   "id": "9df5e80a-f224-472e-afce-3618c7a5f3ef",
   "metadata": {
    "tags": []
   },
   "outputs": [],
   "source": [
    "YQ3,YQ1 = np.percentile(data_sample['Y'], [75 ,25])\n",
    "YIQR = YQ3 - YQ1 "
   ]
  },
  {
   "cell_type": "code",
   "execution_count": 21,
   "id": "2de41fda-cd44-4955-ad46-93dd6a4652d7",
   "metadata": {
    "tags": []
   },
   "outputs": [],
   "source": [
    "lower_Y = YQ1 - (1.5 * YIQR)\n",
    "upper_Y = YQ3 + (1.5 * YIQR)"
   ]
  },
  {
   "cell_type": "code",
   "execution_count": 22,
   "id": "df12475e-fa7c-43e8-9cc9-92952b7560a3",
   "metadata": {
    "tags": []
   },
   "outputs": [],
   "source": [
    "data_sample.drop(data_sample[\"Y\"][(data_sample[\"Y\"] < lower_Y) | (data_sample[\"Y\"] > upper_Y)].index, inplace=True)"
   ]
  },
  {
   "cell_type": "code",
   "execution_count": 23,
   "id": "2bace5d1-4bd8-4a9d-93fd-ac7637c69b52",
   "metadata": {
    "tags": []
   },
   "outputs": [
    {
     "data": {
      "text/html": [
       "<div>\n",
       "<style scoped>\n",
       "    .dataframe tbody tr th:only-of-type {\n",
       "        vertical-align: middle;\n",
       "    }\n",
       "\n",
       "    .dataframe tbody tr th {\n",
       "        vertical-align: top;\n",
       "    }\n",
       "\n",
       "    .dataframe thead th {\n",
       "        text-align: right;\n",
       "    }\n",
       "</style>\n",
       "<table border=\"1\" class=\"dataframe\">\n",
       "  <thead>\n",
       "    <tr style=\"text-align: right;\">\n",
       "      <th></th>\n",
       "      <th>X</th>\n",
       "      <th>Y</th>\n",
       "    </tr>\n",
       "  </thead>\n",
       "  <tbody>\n",
       "    <tr>\n",
       "      <th>count</th>\n",
       "      <td>137.000000</td>\n",
       "      <td>137.000000</td>\n",
       "    </tr>\n",
       "    <tr>\n",
       "      <th>mean</th>\n",
       "      <td>0.202136</td>\n",
       "      <td>0.164788</td>\n",
       "    </tr>\n",
       "    <tr>\n",
       "      <th>std</th>\n",
       "      <td>0.145108</td>\n",
       "      <td>0.107457</td>\n",
       "    </tr>\n",
       "    <tr>\n",
       "      <th>min</th>\n",
       "      <td>0.000000</td>\n",
       "      <td>0.007332</td>\n",
       "    </tr>\n",
       "    <tr>\n",
       "      <th>25%</th>\n",
       "      <td>0.100000</td>\n",
       "      <td>0.091204</td>\n",
       "    </tr>\n",
       "    <tr>\n",
       "      <th>50%</th>\n",
       "      <td>0.200000</td>\n",
       "      <td>0.130466</td>\n",
       "    </tr>\n",
       "    <tr>\n",
       "      <th>75%</th>\n",
       "      <td>0.300000</td>\n",
       "      <td>0.203765</td>\n",
       "    </tr>\n",
       "    <tr>\n",
       "      <th>max</th>\n",
       "      <td>0.545455</td>\n",
       "      <td>0.458297</td>\n",
       "    </tr>\n",
       "  </tbody>\n",
       "</table>\n",
       "</div>"
      ],
      "text/plain": [
       "                X           Y\n",
       "count  137.000000  137.000000\n",
       "mean     0.202136    0.164788\n",
       "std      0.145108    0.107457\n",
       "min      0.000000    0.007332\n",
       "25%      0.100000    0.091204\n",
       "50%      0.200000    0.130466\n",
       "75%      0.300000    0.203765\n",
       "max      0.545455    0.458297"
      ]
     },
     "execution_count": 23,
     "metadata": {},
     "output_type": "execute_result"
    }
   ],
   "source": [
    "data_sample.describe()"
   ]
  },
  {
   "cell_type": "code",
   "execution_count": 24,
   "id": "7402085b-b96e-4d95-be0d-969c28efa595",
   "metadata": {
    "tags": []
   },
   "outputs": [
    {
     "data": {
      "text/html": [
       "<table class=\"simpletable\">\n",
       "<caption>OLS Regression Results</caption>\n",
       "<tr>\n",
       "  <th>Dep. Variable:</th>            <td>Y</td>        <th>  R-squared:         </th> <td>   0.012</td>\n",
       "</tr>\n",
       "<tr>\n",
       "  <th>Model:</th>                   <td>OLS</td>       <th>  Adj. R-squared:    </th> <td>   0.004</td>\n",
       "</tr>\n",
       "<tr>\n",
       "  <th>Method:</th>             <td>Least Squares</td>  <th>  F-statistic:       </th> <td>   1.600</td>\n",
       "</tr>\n",
       "<tr>\n",
       "  <th>Date:</th>             <td>Tue, 16 May 2023</td> <th>  Prob (F-statistic):</th>  <td> 0.208</td> \n",
       "</tr>\n",
       "<tr>\n",
       "  <th>Time:</th>                 <td>00:12:15</td>     <th>  Log-Likelihood:    </th> <td>  112.52</td>\n",
       "</tr>\n",
       "<tr>\n",
       "  <th>No. Observations:</th>      <td>   137</td>      <th>  AIC:               </th> <td>  -221.0</td>\n",
       "</tr>\n",
       "<tr>\n",
       "  <th>Df Residuals:</th>          <td>   135</td>      <th>  BIC:               </th> <td>  -215.2</td>\n",
       "</tr>\n",
       "<tr>\n",
       "  <th>Df Model:</th>              <td>     1</td>      <th>                     </th>     <td> </td>   \n",
       "</tr>\n",
       "<tr>\n",
       "  <th>Covariance Type:</th>      <td>nonrobust</td>    <th>                     </th>     <td> </td>   \n",
       "</tr>\n",
       "</table>\n",
       "<table class=\"simpletable\">\n",
       "<tr>\n",
       "    <td></td>       <th>coef</th>     <th>std err</th>      <th>t</th>      <th>P>|t|</th>  <th>[0.025</th>    <th>0.975]</th>  \n",
       "</tr>\n",
       "<tr>\n",
       "  <th>const</th> <td>    0.1486</td> <td>    0.016</td> <td>    9.436</td> <td> 0.000</td> <td>    0.117</td> <td>    0.180</td>\n",
       "</tr>\n",
       "<tr>\n",
       "  <th>X</th>     <td>    0.0801</td> <td>    0.063</td> <td>    1.265</td> <td> 0.208</td> <td>   -0.045</td> <td>    0.205</td>\n",
       "</tr>\n",
       "</table>\n",
       "<table class=\"simpletable\">\n",
       "<tr>\n",
       "  <th>Omnibus:</th>       <td>24.981</td> <th>  Durbin-Watson:     </th> <td>   0.890</td>\n",
       "</tr>\n",
       "<tr>\n",
       "  <th>Prob(Omnibus):</th> <td> 0.000</td> <th>  Jarque-Bera (JB):  </th> <td>  32.453</td>\n",
       "</tr>\n",
       "<tr>\n",
       "  <th>Skew:</th>          <td> 1.171</td> <th>  Prob(JB):          </th> <td>8.97e-08</td>\n",
       "</tr>\n",
       "<tr>\n",
       "  <th>Kurtosis:</th>      <td> 3.450</td> <th>  Cond. No.          </th> <td>    7.21</td>\n",
       "</tr>\n",
       "</table><br/><br/>Notes:<br/>[1] Standard Errors assume that the covariance matrix of the errors is correctly specified."
      ],
      "text/latex": [
       "\\begin{center}\n",
       "\\begin{tabular}{lclc}\n",
       "\\toprule\n",
       "\\textbf{Dep. Variable:}    &        Y         & \\textbf{  R-squared:         } &     0.012   \\\\\n",
       "\\textbf{Model:}            &       OLS        & \\textbf{  Adj. R-squared:    } &     0.004   \\\\\n",
       "\\textbf{Method:}           &  Least Squares   & \\textbf{  F-statistic:       } &     1.600   \\\\\n",
       "\\textbf{Date:}             & Tue, 16 May 2023 & \\textbf{  Prob (F-statistic):} &    0.208    \\\\\n",
       "\\textbf{Time:}             &     00:12:15     & \\textbf{  Log-Likelihood:    } &    112.52   \\\\\n",
       "\\textbf{No. Observations:} &         137      & \\textbf{  AIC:               } &    -221.0   \\\\\n",
       "\\textbf{Df Residuals:}     &         135      & \\textbf{  BIC:               } &    -215.2   \\\\\n",
       "\\textbf{Df Model:}         &           1      & \\textbf{                     } &             \\\\\n",
       "\\textbf{Covariance Type:}  &    nonrobust     & \\textbf{                     } &             \\\\\n",
       "\\bottomrule\n",
       "\\end{tabular}\n",
       "\\begin{tabular}{lcccccc}\n",
       "               & \\textbf{coef} & \\textbf{std err} & \\textbf{t} & \\textbf{P$> |$t$|$} & \\textbf{[0.025} & \\textbf{0.975]}  \\\\\n",
       "\\midrule\n",
       "\\textbf{const} &       0.1486  &        0.016     &     9.436  &         0.000        &        0.117    &        0.180     \\\\\n",
       "\\textbf{X}     &       0.0801  &        0.063     &     1.265  &         0.208        &       -0.045    &        0.205     \\\\\n",
       "\\bottomrule\n",
       "\\end{tabular}\n",
       "\\begin{tabular}{lclc}\n",
       "\\textbf{Omnibus:}       & 24.981 & \\textbf{  Durbin-Watson:     } &    0.890  \\\\\n",
       "\\textbf{Prob(Omnibus):} &  0.000 & \\textbf{  Jarque-Bera (JB):  } &   32.453  \\\\\n",
       "\\textbf{Skew:}          &  1.171 & \\textbf{  Prob(JB):          } & 8.97e-08  \\\\\n",
       "\\textbf{Kurtosis:}      &  3.450 & \\textbf{  Cond. No.          } &     7.21  \\\\\n",
       "\\bottomrule\n",
       "\\end{tabular}\n",
       "%\\caption{OLS Regression Results}\n",
       "\\end{center}\n",
       "\n",
       "Notes: \\newline\n",
       " [1] Standard Errors assume that the covariance matrix of the errors is correctly specified."
      ],
      "text/plain": [
       "<class 'statsmodels.iolib.summary.Summary'>\n",
       "\"\"\"\n",
       "                            OLS Regression Results                            \n",
       "==============================================================================\n",
       "Dep. Variable:                      Y   R-squared:                       0.012\n",
       "Model:                            OLS   Adj. R-squared:                  0.004\n",
       "Method:                 Least Squares   F-statistic:                     1.600\n",
       "Date:                Tue, 16 May 2023   Prob (F-statistic):              0.208\n",
       "Time:                        00:12:15   Log-Likelihood:                 112.52\n",
       "No. Observations:                 137   AIC:                            -221.0\n",
       "Df Residuals:                     135   BIC:                            -215.2\n",
       "Df Model:                           1                                         \n",
       "Covariance Type:            nonrobust                                         \n",
       "==============================================================================\n",
       "                 coef    std err          t      P>|t|      [0.025      0.975]\n",
       "------------------------------------------------------------------------------\n",
       "const          0.1486      0.016      9.436      0.000       0.117       0.180\n",
       "X              0.0801      0.063      1.265      0.208      -0.045       0.205\n",
       "==============================================================================\n",
       "Omnibus:                       24.981   Durbin-Watson:                   0.890\n",
       "Prob(Omnibus):                  0.000   Jarque-Bera (JB):               32.453\n",
       "Skew:                           1.171   Prob(JB):                     8.97e-08\n",
       "Kurtosis:                       3.450   Cond. No.                         7.21\n",
       "==============================================================================\n",
       "\n",
       "Notes:\n",
       "[1] Standard Errors assume that the covariance matrix of the errors is correctly specified.\n",
       "\"\"\""
      ]
     },
     "execution_count": 24,
     "metadata": {},
     "output_type": "execute_result"
    }
   ],
   "source": [
    "X_with_constant = sm.add_constant(data_sample[\"X\"])\n",
    "result = sm.OLS(data_sample[\"Y\"], X_with_constant).fit()\n",
    "result.summary()"
   ]
  },
  {
   "cell_type": "code",
   "execution_count": 25,
   "id": "19459625-0d19-465b-bb77-97071054064e",
   "metadata": {
    "tags": []
   },
   "outputs": [],
   "source": [
    "bX = data_sample[\"X\"] * result.params[\"X\"]"
   ]
  },
  {
   "cell_type": "code",
   "execution_count": 26,
   "id": "2587e74e-d66d-418e-9d70-398f042d3d35",
   "metadata": {
    "tags": []
   },
   "outputs": [],
   "source": [
    "# Y = a + bX + e\n",
    "# e = Y - a - bX\n",
    "\n",
    "abs_residual = np.abs(data_sample[\"Y\"] - result.params[\"const\"] - bX)"
   ]
  },
  {
   "cell_type": "code",
   "execution_count": 27,
   "id": "5e613d94-eea1-4c13-9acd-74efe7d69ecf",
   "metadata": {
    "tags": []
   },
   "outputs": [
    {
     "data": {
      "text/html": [
       "<table class=\"simpletable\">\n",
       "<caption>OLS Regression Results</caption>\n",
       "<tr>\n",
       "  <th>Dep. Variable:</th>            <td>y</td>        <th>  R-squared:         </th> <td>   0.014</td>\n",
       "</tr>\n",
       "<tr>\n",
       "  <th>Model:</th>                   <td>OLS</td>       <th>  Adj. R-squared:    </th> <td>   0.007</td>\n",
       "</tr>\n",
       "<tr>\n",
       "  <th>Method:</th>             <td>Least Squares</td>  <th>  F-statistic:       </th> <td>   1.935</td>\n",
       "</tr>\n",
       "<tr>\n",
       "  <th>Date:</th>             <td>Tue, 16 May 2023</td> <th>  Prob (F-statistic):</th>  <td> 0.166</td> \n",
       "</tr>\n",
       "<tr>\n",
       "  <th>Time:</th>                 <td>00:12:15</td>     <th>  Log-Likelihood:    </th> <td>  176.20</td>\n",
       "</tr>\n",
       "<tr>\n",
       "  <th>No. Observations:</th>      <td>   137</td>      <th>  AIC:               </th> <td>  -348.4</td>\n",
       "</tr>\n",
       "<tr>\n",
       "  <th>Df Residuals:</th>          <td>   135</td>      <th>  BIC:               </th> <td>  -342.6</td>\n",
       "</tr>\n",
       "<tr>\n",
       "  <th>Df Model:</th>              <td>     1</td>      <th>                     </th>     <td> </td>   \n",
       "</tr>\n",
       "<tr>\n",
       "  <th>Covariance Type:</th>      <td>nonrobust</td>    <th>                     </th>     <td> </td>   \n",
       "</tr>\n",
       "</table>\n",
       "<table class=\"simpletable\">\n",
       "<tr>\n",
       "    <td></td>       <th>coef</th>     <th>std err</th>      <th>t</th>      <th>P>|t|</th>  <th>[0.025</th>    <th>0.975]</th>  \n",
       "</tr>\n",
       "<tr>\n",
       "  <th>const</th> <td>    0.0712</td> <td>    0.010</td> <td>    7.200</td> <td> 0.000</td> <td>    0.052</td> <td>    0.091</td>\n",
       "</tr>\n",
       "<tr>\n",
       "  <th>X</th>     <td>    0.0554</td> <td>    0.040</td> <td>    1.391</td> <td> 0.166</td> <td>   -0.023</td> <td>    0.134</td>\n",
       "</tr>\n",
       "</table>\n",
       "<table class=\"simpletable\">\n",
       "<tr>\n",
       "  <th>Omnibus:</th>       <td>31.413</td> <th>  Durbin-Watson:     </th> <td>   1.030</td>\n",
       "</tr>\n",
       "<tr>\n",
       "  <th>Prob(Omnibus):</th> <td> 0.000</td> <th>  Jarque-Bera (JB):  </th> <td>  44.022</td>\n",
       "</tr>\n",
       "<tr>\n",
       "  <th>Skew:</th>          <td> 1.282</td> <th>  Prob(JB):          </th> <td>2.76e-10</td>\n",
       "</tr>\n",
       "<tr>\n",
       "  <th>Kurtosis:</th>      <td> 4.065</td> <th>  Cond. No.          </th> <td>    7.21</td>\n",
       "</tr>\n",
       "</table><br/><br/>Notes:<br/>[1] Standard Errors assume that the covariance matrix of the errors is correctly specified."
      ],
      "text/latex": [
       "\\begin{center}\n",
       "\\begin{tabular}{lclc}\n",
       "\\toprule\n",
       "\\textbf{Dep. Variable:}    &        y         & \\textbf{  R-squared:         } &     0.014   \\\\\n",
       "\\textbf{Model:}            &       OLS        & \\textbf{  Adj. R-squared:    } &     0.007   \\\\\n",
       "\\textbf{Method:}           &  Least Squares   & \\textbf{  F-statistic:       } &     1.935   \\\\\n",
       "\\textbf{Date:}             & Tue, 16 May 2023 & \\textbf{  Prob (F-statistic):} &    0.166    \\\\\n",
       "\\textbf{Time:}             &     00:12:15     & \\textbf{  Log-Likelihood:    } &    176.20   \\\\\n",
       "\\textbf{No. Observations:} &         137      & \\textbf{  AIC:               } &    -348.4   \\\\\n",
       "\\textbf{Df Residuals:}     &         135      & \\textbf{  BIC:               } &    -342.6   \\\\\n",
       "\\textbf{Df Model:}         &           1      & \\textbf{                     } &             \\\\\n",
       "\\textbf{Covariance Type:}  &    nonrobust     & \\textbf{                     } &             \\\\\n",
       "\\bottomrule\n",
       "\\end{tabular}\n",
       "\\begin{tabular}{lcccccc}\n",
       "               & \\textbf{coef} & \\textbf{std err} & \\textbf{t} & \\textbf{P$> |$t$|$} & \\textbf{[0.025} & \\textbf{0.975]}  \\\\\n",
       "\\midrule\n",
       "\\textbf{const} &       0.0712  &        0.010     &     7.200  &         0.000        &        0.052    &        0.091     \\\\\n",
       "\\textbf{X}     &       0.0554  &        0.040     &     1.391  &         0.166        &       -0.023    &        0.134     \\\\\n",
       "\\bottomrule\n",
       "\\end{tabular}\n",
       "\\begin{tabular}{lclc}\n",
       "\\textbf{Omnibus:}       & 31.413 & \\textbf{  Durbin-Watson:     } &    1.030  \\\\\n",
       "\\textbf{Prob(Omnibus):} &  0.000 & \\textbf{  Jarque-Bera (JB):  } &   44.022  \\\\\n",
       "\\textbf{Skew:}          &  1.282 & \\textbf{  Prob(JB):          } & 2.76e-10  \\\\\n",
       "\\textbf{Kurtosis:}      &  4.065 & \\textbf{  Cond. No.          } &     7.21  \\\\\n",
       "\\bottomrule\n",
       "\\end{tabular}\n",
       "%\\caption{OLS Regression Results}\n",
       "\\end{center}\n",
       "\n",
       "Notes: \\newline\n",
       " [1] Standard Errors assume that the covariance matrix of the errors is correctly specified."
      ],
      "text/plain": [
       "<class 'statsmodels.iolib.summary.Summary'>\n",
       "\"\"\"\n",
       "                            OLS Regression Results                            \n",
       "==============================================================================\n",
       "Dep. Variable:                      y   R-squared:                       0.014\n",
       "Model:                            OLS   Adj. R-squared:                  0.007\n",
       "Method:                 Least Squares   F-statistic:                     1.935\n",
       "Date:                Tue, 16 May 2023   Prob (F-statistic):              0.166\n",
       "Time:                        00:12:15   Log-Likelihood:                 176.20\n",
       "No. Observations:                 137   AIC:                            -348.4\n",
       "Df Residuals:                     135   BIC:                            -342.6\n",
       "Df Model:                           1                                         \n",
       "Covariance Type:            nonrobust                                         \n",
       "==============================================================================\n",
       "                 coef    std err          t      P>|t|      [0.025      0.975]\n",
       "------------------------------------------------------------------------------\n",
       "const          0.0712      0.010      7.200      0.000       0.052       0.091\n",
       "X              0.0554      0.040      1.391      0.166      -0.023       0.134\n",
       "==============================================================================\n",
       "Omnibus:                       31.413   Durbin-Watson:                   1.030\n",
       "Prob(Omnibus):                  0.000   Jarque-Bera (JB):               44.022\n",
       "Skew:                           1.282   Prob(JB):                     2.76e-10\n",
       "Kurtosis:                       4.065   Cond. No.                         7.21\n",
       "==============================================================================\n",
       "\n",
       "Notes:\n",
       "[1] Standard Errors assume that the covariance matrix of the errors is correctly specified.\n",
       "\"\"\""
      ]
     },
     "execution_count": 27,
     "metadata": {},
     "output_type": "execute_result"
    }
   ],
   "source": [
    "hetero_result = sm.OLS(abs_residual, X_with_constant).fit()\n",
    "hetero_result.summary()"
   ]
  }
 ],
 "metadata": {
  "kernelspec": {
   "display_name": "Python 3 (ipykernel)",
   "language": "python",
   "name": "python3"
  },
  "language_info": {
   "codemirror_mode": {
    "name": "ipython",
    "version": 3
   },
   "file_extension": ".py",
   "mimetype": "text/x-python",
   "name": "python",
   "nbconvert_exporter": "python",
   "pygments_lexer": "ipython3",
   "version": "3.11.3"
  }
 },
 "nbformat": 4,
 "nbformat_minor": 5
}
